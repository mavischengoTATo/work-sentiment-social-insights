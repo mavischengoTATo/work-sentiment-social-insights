{
 "cells": [
  {
   "cell_type": "markdown",
   "id": "f6dd143c",
   "metadata": {},
   "source": [
    "# SVM"
   ]
  },
  {
   "cell_type": "markdown",
   "id": "ca09d99f",
   "metadata": {},
   "source": [
    "### Content:\n",
    "    Methods\n",
    "    Class distribution\n",
    "    Baseline model for comparison\n",
    "    Feature selection\n",
    "    Model tuning\n",
    "    Final results\n",
    "    Conclusions\n"
   ]
  },
  {
   "cell_type": "markdown",
   "id": "02f12fc3",
   "metadata": {},
   "source": [
    "## Methods"
   ]
  },
  {
   "cell_type": "markdown",
   "id": "7196fd78",
   "metadata": {},
   "source": [
    "### This tab is about applying SVM to this research. So the first question is that what are Support Vector Machines? \n",
    "\n",
    "### Support Vector Machine (SVM) is a relatively simple Supervised Machine Learning Algorithm and it can be used for classification and regression. In general, it is more preferred for classification but is sometimes very useful for regression as well. \n",
    "\n",
    "### Basically, SVM is trying to find a hyper-plane that creates a boundary between the types of data. For example, in two-dimensional space, this hyper-plane is nothing but a line, and with more dimensions, the hyper-plane will be more complex. In SVM, we plot each data item in the dataset in an N-dimensional space, where N is the number of features in the data. Next, to separate the two classes of data points, there are many possible hyperplanes that could be chosen. Our objective is to find a plane that has the maximum margin, that is, the maximum distance between data points of both classes. Maximizing the margin distance provides some reinforcement so that future data points can be classified with more confidence. So generally speaking, SVM can only perform binary classification. \n",
    "\n",
    "### In this part, what we will focus is text data. So we want to find a hyper-plane to identify which word to be used in a tweet so that it can be retweeted. We will split these data into training set and testing set and plot each data item in the training set with 476 dimensional space. Then find the hyper-plane which has the maximum margin and use this classifier to explore the testing set to test the efficiency of this classifier."
   ]
  },
  {
   "cell_type": "markdown",
   "id": "bc0addae",
   "metadata": {},
   "source": [
    "#### Prepare Data for SVM (text data)"
   ]
  },
  {
   "cell_type": "code",
   "execution_count": 2,
   "id": "38e2ccf4",
   "metadata": {},
   "outputs": [],
   "source": [
    "import pandas as pd\n",
    "df = pd.read_csv(\"data/01-modified-data/textcleaning_py.csv\")"
   ]
  },
  {
   "cell_type": "markdown",
   "id": "2bbe8308",
   "metadata": {},
   "source": [
    "#### Let's take a look of our labeled text data as it shows below."
   ]
  },
  {
   "cell_type": "code",
   "execution_count": 5,
   "id": "9e49374d",
   "metadata": {},
   "outputs": [
    {
     "data": {
      "text/html": [
       "<div>\n",
       "<style scoped>\n",
       "    .dataframe tbody tr th:only-of-type {\n",
       "        vertical-align: middle;\n",
       "    }\n",
       "\n",
       "    .dataframe tbody tr th {\n",
       "        vertical-align: top;\n",
       "    }\n",
       "\n",
       "    .dataframe thead th {\n",
       "        text-align: right;\n",
       "    }\n",
       "</style>\n",
       "<table border=\"1\" class=\"dataframe\">\n",
       "  <thead>\n",
       "    <tr style=\"text-align: right;\">\n",
       "      <th></th>\n",
       "      <th>id</th>\n",
       "      <th>retweet_count</th>\n",
       "      <th>retweeted</th>\n",
       "      <th>Clean_Text</th>\n",
       "    </tr>\n",
       "  </thead>\n",
       "  <tbody>\n",
       "    <tr>\n",
       "      <th>0</th>\n",
       "      <td>1570097774930132992</td>\n",
       "      <td>1060</td>\n",
       "      <td>True</td>\n",
       "      <td>rt nickiminaj let hope ppl guy r dirty work lo...</td>\n",
       "    </tr>\n",
       "    <tr>\n",
       "      <th>1</th>\n",
       "      <td>1570097774355709954</td>\n",
       "      <td>0</td>\n",
       "      <td>False</td>\n",
       "      <td>ciaoszn charity work ☺ ️ ☺ ️ ☺ ️</td>\n",
       "    </tr>\n",
       "    <tr>\n",
       "      <th>2</th>\n",
       "      <td>1570097773839630337</td>\n",
       "      <td>53</td>\n",
       "      <td>True</td>\n",
       "      <td>rt marii_chaudhry congratulations team wepatri...</td>\n",
       "    </tr>\n",
       "    <tr>\n",
       "      <th>3</th>\n",
       "      <td>1570097773697015808</td>\n",
       "      <td>179</td>\n",
       "      <td>True</td>\n",
       "      <td>rt fact not wish work</td>\n",
       "    </tr>\n",
       "    <tr>\n",
       "      <th>4</th>\n",
       "      <td>1570097773672042498</td>\n",
       "      <td>161</td>\n",
       "      <td>True</td>\n",
       "      <td>rt jeonmanwon seungcheol suspicious like puppe...</td>\n",
       "    </tr>\n",
       "  </tbody>\n",
       "</table>\n",
       "</div>"
      ],
      "text/plain": [
       "                    id  retweet_count  retweeted  \\\n",
       "0  1570097774930132992           1060       True   \n",
       "1  1570097774355709954              0      False   \n",
       "2  1570097773839630337             53       True   \n",
       "3  1570097773697015808            179       True   \n",
       "4  1570097773672042498            161       True   \n",
       "\n",
       "                                          Clean_Text  \n",
       "0  rt nickiminaj let hope ppl guy r dirty work lo...  \n",
       "1                   ciaoszn charity work ☺ ️ ☺ ️ ☺ ️  \n",
       "2  rt marii_chaudhry congratulations team wepatri...  \n",
       "3                              rt fact not wish work  \n",
       "4  rt jeonmanwon seungcheol suspicious like puppe...  "
      ]
     },
     "execution_count": 5,
     "metadata": {},
     "output_type": "execute_result"
    }
   ],
   "source": [
    "df.head()"
   ]
  },
  {
   "cell_type": "markdown",
   "id": "43e97dad",
   "metadata": {},
   "source": [
    "#### Data preparation includes extracting dependent variable, retweeted, whether the tweet is retweeted or not and texts as input. And it also includes the process of spliting training and testing sets. We split the labeled text data into train and test with 70% trainning ratio."
   ]
  },
  {
   "cell_type": "code",
   "execution_count": 6,
   "id": "e76dfbef",
   "metadata": {},
   "outputs": [],
   "source": [
    "from sklearn.model_selection import train_test_split\n",
    "X_train, X_test, y_train, y_test = train_test_split(df[\"Clean_Text\"], df[\"retweeted\"], test_size=0.3, random_state=0)"
   ]
  },
  {
   "cell_type": "markdown",
   "id": "f26fc85c",
   "metadata": {},
   "source": [
    "#### First, we need to count vectorizer our texts as we do in Naive Bayes."
   ]
  },
  {
   "cell_type": "code",
   "execution_count": 7,
   "id": "51108d01",
   "metadata": {},
   "outputs": [
    {
     "data": {
      "text/plain": [
       "(70, 476)"
      ]
     },
     "execution_count": 7,
     "metadata": {},
     "output_type": "execute_result"
    }
   ],
   "source": [
    "# count vectorizer\n",
    "from sklearn.feature_extraction.text import CountVectorizer\n",
    "countvect = CountVectorizer()\n",
    "Xtraincount = countvect.fit_transform(X_train)\n",
    "Xtraincount.shape"
   ]
  },
  {
   "cell_type": "code",
   "execution_count": 8,
   "id": "de57a82a",
   "metadata": {},
   "outputs": [
    {
     "data": {
      "text/plain": [
       "(70, 476)"
      ]
     },
     "execution_count": 8,
     "metadata": {},
     "output_type": "execute_result"
    }
   ],
   "source": [
    "from sklearn.feature_extraction.text import TfidfTransformer\n",
    "tf = TfidfTransformer(use_idf=False).fit(Xtraincount)\n",
    "Xtraintf = tf.transform(Xtraincount)\n",
    "Xtraintf.shape"
   ]
  },
  {
   "cell_type": "code",
   "execution_count": 9,
   "id": "6aa800c3",
   "metadata": {},
   "outputs": [
    {
     "data": {
      "text/plain": [
       "(70, 476)"
      ]
     },
     "execution_count": 9,
     "metadata": {},
     "output_type": "execute_result"
    }
   ],
   "source": [
    "tfidf = TfidfTransformer()\n",
    "Xtraintfidf = tfidf.fit_transform(Xtraincount)\n",
    "Xtraintfidf.shape"
   ]
  },
  {
   "cell_type": "markdown",
   "id": "a8541186",
   "metadata": {},
   "source": [
    "## Class distribution"
   ]
  },
  {
   "cell_type": "code",
   "execution_count": 28,
   "id": "d7dd6432",
   "metadata": {},
   "outputs": [
    {
     "data": {
      "image/png": "[encoded data removed]",
      "text/plain": [
       "<Figure size 648x216 with 3 Axes>"
      ]
     },
     "metadata": {
      "needs_background": "light"
     },
     "output_type": "display_data"
    }
   ],
   "source": [
    "import matplotlib.pyplot as plt\n",
    "data = df[\"retweeted\"]\n",
    "from collections import Counter\n",
    "data = Counter(data)\n",
    "names = list(data.keys())\n",
    "values = list(data.values())\n",
    "fig, axs = plt.subplots(1, 3, figsize=(9, 3), sharey=True)\n",
    "axs[0].bar([\"True\", \"False\"], values)\n",
    "axs[1].scatter([\"True\", \"False\"], values)\n",
    "axs[2].plot([\"True\", \"False\"], values)\n",
    "fig.suptitle('The Class Distribution of \"retweeted\"')\n",
    "plt.show()"
   ]
  },
  {
   "cell_type": "code",
   "execution_count": 29,
   "id": "dbda7810",
   "metadata": {},
   "outputs": [
    {
     "name": "stdout",
     "output_type": "stream",
     "text": [
      "Counter({True: 61, False: 39})\n"
     ]
    }
   ],
   "source": [
    "print(data)"
   ]
  },
  {
   "cell_type": "markdown",
   "id": "9bfb752b",
   "metadata": {},
   "source": [
    "#### The output Y has two class, \"True\" and \"False\", about 60% of the all dataset is \"Ture\" while 40% of the all dataset is \"False\". Such a proportion is beneficial to classification. If there are too many or too few proportion of categories, such as 90% or 10% of categories, the final accuracy will be poor. But under this dataset, this should not be the case."
   ]
  },
  {
   "cell_type": "markdown",
   "id": "127587eb",
   "metadata": {},
   "source": [
    "## Baseline model for comparison"
   ]
  },
  {
   "cell_type": "markdown",
   "id": "973f897a",
   "metadata": {},
   "source": [
    "#### In this part we use a random classifier\n",
    "#### For generate_label_data(), we choose the same proportion as above, that is, class_labels=[True,False] weights=[0.61,0.39]"
   ]
  },
  {
   "cell_type": "code",
   "execution_count": 34,
   "id": "268d2764",
   "metadata": {},
   "outputs": [
    {
     "name": "stdout",
     "output_type": "stream",
     "text": [
      "-----GENERATING DATA-----\n",
      "unique entries: dict_keys([False, True])\n",
      "count of labels: dict_values([3848, 6152])\n",
      "probability of labels: [0.3848 0.6152]\n"
     ]
    }
   ],
   "source": [
    "import random\n",
    "import numpy as np\n",
    "def generate_label_data(class_labels, weights,N=10000):\n",
    "    y=random.choices(class_labels, weights = weights, k = N)\n",
    "    print(\"-----GENERATING DATA-----\")\n",
    "    print(\"unique entries:\",Counter(y).keys())\n",
    "    print(\"count of labels:\",Counter(y).values()) # counts the elements frequency\n",
    "    print(\"probability of labels:\",np.fromiter(Counter(y).values(), dtype=float)/len(y)) # counts the elements' frequency\n",
    "    return y\n",
    "#TEST\n",
    "y=generate_label_data([True,False],[0.61,0.39],10000)"
   ]
  },
  {
   "cell_type": "code",
   "execution_count": 38,
   "id": "c0f75e92",
   "metadata": {},
   "outputs": [
    {
     "name": "stdout",
     "output_type": "stream",
     "text": [
      "\n",
      "BINARY CLASS: UNIFORM LOAD\n",
      "-----GENERATING DATA-----\n",
      "unique entries: dict_keys([False, True])\n",
      "count of labels: dict_values([3840, 6160])\n",
      "probability of labels: [0.384 0.616]\n",
      "-----RANDOM CLASSIFIER-----\n",
      "count of prediction: dict_values([5016, 4984])\n",
      "probability of prediction: [0.5016 0.4984]\n",
      "accuracy 0.4946\n",
      "percision, recall, fscore, (array([0.37821027, 0.61024721]), array([0.49088542, 0.49691558]), array([0.42724388, 0.54778096]), array([3840, 6160]))\n"
     ]
    }
   ],
   "source": [
    "## RANDOM CLASSIFIER\n",
    "from sklearn.metrics import accuracy_score\n",
    "from sklearn.metrics import precision_recall_fscore_support\n",
    "def random_classifier(y_data):\n",
    "    ypred=[]\n",
    "    max_label=np.max(y_data); #print(max_label)\n",
    "    for i in range(0,len(y_data)):\n",
    "        ypred.append(int(np.floor((max_label+1)*np.random.uniform(0,1))))\n",
    "    print(\"-----RANDOM CLASSIFIER-----\")\n",
    "    print(\"count of prediction:\",Counter(ypred).values()) # counts the elements' frequency\n",
    "    print(\"probability of prediction:\",np.fromiter(Counter(ypred).values(),dtype=float)/len(y_data)) # counts the elements' frequency\n",
    "    print(\"accuracy\",accuracy_score(y_data, ypred))\n",
    "    print(\"percision, recall, fscore,\",precision_recall_fscore_support(y_data,ypred))\n",
    "print(\"\\nBINARY CLASS: UNIFORM LOAD\")\n",
    "y=generate_label_data([True,False],[0.61,0.39],10000)\n",
    "random_classifier(y)"
   ]
  },
  {
   "cell_type": "markdown",
   "id": "5ff27bb8",
   "metadata": {},
   "source": [
    "## Feature selection"
   ]
  },
  {
   "cell_type": "markdown",
   "id": "6398df62",
   "metadata": {},
   "source": [
    "#### In this part, I choose to do feature selection using SelectFromModel\n",
    "#### As we know, linear models penalized with the L1-norm have sparse solutions, that is, many of estimated coefficients are zero to reduce the dimensionality of the data. In particular, sparse estimators useful for this purpose are the Lasso for regression, and of logisticRegression and LinearSVC for classification, and in this part, we choose to use LinearSVC as we want to apply SVM to our dataset. And we use the function, cross_val_score to get the best feature combination."
   ]
  },
  {
   "cell_type": "code",
   "execution_count": 116,
   "id": "c4d168e1",
   "metadata": {},
   "outputs": [
    {
     "name": "stdout",
     "output_type": "stream",
     "text": [
      "(70, 476)\n",
      "(70, 97)\n",
      "(30, 97)\n",
      "We can know that, we select 97 of 476 features in this process.\n"
     ]
    }
   ],
   "source": [
    "from sklearn.svm import LinearSVC\n",
    "from sklearn.feature_selection import SelectFromModel\n",
    "print(Xtraintfidf.shape)\n",
    "lsvc = LinearSVC(C=10000, penalty=\"l1\", dual=False).fit(Xtraintfidf, y_train)\n",
    "model = SelectFromModel(lsvc, prefit=True)\n",
    "X_new = model.transform(Xtraintfidf)\n",
    "Xtestcount = countvect.transform(X_test)\n",
    "Xtesttfidf = tfidf.transform(Xtestcount)\n",
    "X_t = model.transform(Xtesttfidf)\n",
    "print(X_new.shape)\n",
    "print(X_t.shape)\n",
    "print(\"We can know that, we select\",X_new.shape[1],\"of 476 features in this process.\")"
   ]
  },
  {
   "cell_type": "markdown",
   "id": "18c5458d",
   "metadata": {},
   "source": [
    "## Model tuning"
   ]
  },
  {
   "cell_type": "markdown",
   "id": "e73ba095",
   "metadata": {},
   "source": [
    "### In this part, we compare the SVMs with Linear kernels, Polynomial kernels, with RBF kernels and with Sigmoid kernels."
   ]
  },
  {
   "cell_type": "markdown",
   "id": "53ef503a",
   "metadata": {},
   "source": [
    "#### the SVMs with Linear kernels"
   ]
  },
  {
   "cell_type": "code",
   "execution_count": 145,
   "id": "08500c82",
   "metadata": {},
   "outputs": [],
   "source": [
    "from sklearn.svm import SVC\n",
    "from sklearn.metrics import classification_report, confusion_matrix\n",
    "clf_score_tr = []\n",
    "clf_score_te = []\n",
    "for i in np.arange(0.1, 2.5, 0.1):\n",
    "    model = SVC(C=i,kernel=\"linear\")\n",
    "    clf = model.fit(X_new, y_train)\n",
    "    clf_score_tr.append(clf.score(X_new, y_train))\n",
    "    clf_score_te.append(clf.score(X_t, y_test))"
   ]
  },
  {
   "cell_type": "code",
   "execution_count": 146,
   "id": "008a2f62",
   "metadata": {},
   "outputs": [
    {
     "data": {
      "text/plain": [
       "[0.6142857142857143,\n",
       " 0.6142857142857143,\n",
       " 0.6142857142857143,\n",
       " 0.6142857142857143,\n",
       " 0.6142857142857143,\n",
       " 0.6428571428571429,\n",
       " 0.6714285714285714,\n",
       " 0.7714285714285715,\n",
       " 0.8571428571428571,\n",
       " 0.9142857142857143,\n",
       " 0.9571428571428572,\n",
       " 0.9714285714285714,\n",
       " 0.9714285714285714,\n",
       " 0.9714285714285714,\n",
       " 0.9857142857142858,\n",
       " 0.9857142857142858,\n",
       " 1.0,\n",
       " 1.0,\n",
       " 1.0,\n",
       " 1.0,\n",
       " 1.0,\n",
       " 1.0,\n",
       " 1.0,\n",
       " 1.0]"
      ]
     },
     "execution_count": 146,
     "metadata": {},
     "output_type": "execute_result"
    }
   ],
   "source": [
    "clf_score_tr"
   ]
  },
  {
   "cell_type": "code",
   "execution_count": 147,
   "id": "44ae73b5",
   "metadata": {},
   "outputs": [
    {
     "data": {
      "text/plain": [
       "[0.6,\n",
       " 0.6,\n",
       " 0.6,\n",
       " 0.6666666666666666,\n",
       " 0.7,\n",
       " 0.8,\n",
       " 0.8,\n",
       " 0.9,\n",
       " 0.9,\n",
       " 0.9333333333333333,\n",
       " 0.9333333333333333,\n",
       " 0.9333333333333333,\n",
       " 0.9333333333333333,\n",
       " 0.9333333333333333,\n",
       " 0.9333333333333333,\n",
       " 0.9333333333333333,\n",
       " 0.9333333333333333,\n",
       " 0.9666666666666667,\n",
       " 0.9666666666666667,\n",
       " 0.9666666666666667,\n",
       " 0.9666666666666667,\n",
       " 0.9666666666666667,\n",
       " 0.9333333333333333,\n",
       " 0.9333333333333333]"
      ]
     },
     "execution_count": 147,
     "metadata": {},
     "output_type": "execute_result"
    }
   ],
   "source": [
    "clf_score_te"
   ]
  },
  {
   "cell_type": "markdown",
   "id": "cc62a7c1",
   "metadata": {},
   "source": [
    "#### From the above, we can find that when C = 1.8, SVM with Linear kernels perform the best with the lowest training error and the lowest testing error."
   ]
  },
  {
   "cell_type": "code",
   "execution_count": 148,
   "id": "d0ac7d9c",
   "metadata": {},
   "outputs": [
    {
     "name": "stdout",
     "output_type": "stream",
     "text": [
      "-----------train data-----------\n",
      "[[27  0]\n",
      " [ 0 43]]\n",
      "              precision    recall  f1-score   support\n",
      "\n",
      "       False       1.00      1.00      1.00        27\n",
      "        True       1.00      1.00      1.00        43\n",
      "\n",
      "    accuracy                           1.00        70\n",
      "   macro avg       1.00      1.00      1.00        70\n",
      "weighted avg       1.00      1.00      1.00        70\n",
      "\n",
      "-----------test data-----------\n",
      "[[12  0]\n",
      " [ 1 17]]\n",
      "              precision    recall  f1-score   support\n",
      "\n",
      "       False       0.92      1.00      0.96        12\n",
      "        True       1.00      0.94      0.97        18\n",
      "\n",
      "    accuracy                           0.97        30\n",
      "   macro avg       0.96      0.97      0.97        30\n",
      "weighted avg       0.97      0.97      0.97        30\n",
      "\n"
     ]
    }
   ],
   "source": [
    "model = SVC(C=1.8,kernel=\"linear\")\n",
    "clf = model.fit(X_new, y_train)\n",
    "predict_te = clf.predict(X_t)\n",
    "predict_tr = clf.predict(X_new)\n",
    "# Calculate the confusion matrix and classification report for the train and test data. \n",
    "# Train data\n",
    "print(\"-----------train data-----------\")\n",
    "print(confusion_matrix(y_train, predict_tr))\n",
    "print(classification_report(y_train, predict_tr))\n",
    "# Test data\n",
    "print(\"-----------test data-----------\")\n",
    "print(confusion_matrix(y_test, predict_te))\n",
    "print(classification_report(y_test, predict_te))"
   ]
  },
  {
   "cell_type": "code",
   "execution_count": 141,
   "id": "d19b686b",
   "metadata": {},
   "outputs": [],
   "source": [
    "# Save the results in a data frame. \n",
    "report_tr = classification_report(y_train, predict_tr, output_dict=True)\n",
    "report_tr = pd.DataFrame(report_tr).transpose()\n",
    "report_te = classification_report(y_test, predict_te, output_dict=True)\n",
    "report_te = pd.DataFrame(report_te).transpose()"
   ]
  },
  {
   "cell_type": "code",
   "execution_count": 142,
   "id": "7ee3031c",
   "metadata": {},
   "outputs": [
    {
     "name": "stdout",
     "output_type": "stream",
     "text": [
      "              precision  recall  f1-score  support\n",
      "False               1.0     1.0       1.0     27.0\n",
      "True                1.0     1.0       1.0     43.0\n",
      "accuracy            1.0     1.0       1.0      1.0\n",
      "macro avg           1.0     1.0       1.0     70.0\n",
      "weighted avg        1.0     1.0       1.0     70.0\n",
      "              precision    recall  f1-score    support\n",
      "False          0.857143  1.000000  0.923077  12.000000\n",
      "True           1.000000  0.888889  0.941176  18.000000\n",
      "accuracy       0.933333  0.933333  0.933333   0.933333\n",
      "macro avg      0.928571  0.944444  0.932127  30.000000\n",
      "weighted avg   0.942857  0.933333  0.933937  30.000000\n"
     ]
    }
   ],
   "source": [
    "# display the results data frame\n",
    "print(report_tr)\n",
    "print(report_te)"
   ]
  },
  {
   "cell_type": "code",
   "execution_count": 144,
   "id": "8b698573",
   "metadata": {},
   "outputs": [
    {
     "data": {
      "image/png": "[encoded data removed]",
      "text/plain": [
       "<Figure size 432x288 with 2 Axes>"
      ]
     },
     "metadata": {
      "needs_background": "light"
     },
     "output_type": "display_data"
    }
   ],
   "source": [
    "# Display Confusion Matrix for the test data. Remember to use the ConfusionMatrixDisplay function.\n",
    "from sklearn.metrics import confusion_matrix, ConfusionMatrixDisplay\n",
    "cm = confusion_matrix(y_test, predict_te, labels=clf.classes_)\n",
    "disp = ConfusionMatrixDisplay(confusion_matrix=cm,display_labels=clf.classes_)\n",
    "disp.plot()\n",
    "plt.show()"
   ]
  },
  {
   "cell_type": "markdown",
   "id": "24d2609c",
   "metadata": {},
   "source": [
    "#### SVM with Polynomial kernels"
   ]
  },
  {
   "cell_type": "code",
   "execution_count": 153,
   "id": "c4d23478",
   "metadata": {},
   "outputs": [],
   "source": [
    "from sklearn.svm import SVC\n",
    "from sklearn.metrics import classification_report, confusion_matrix\n",
    "clf_score_tr = []\n",
    "clf_score_te = []\n",
    "for i in np.arange(0.1, 3, 0.1):\n",
    "    model = SVC(C=i,kernel=\"poly\",degree = 2)\n",
    "    clf = model.fit(X_new, y_train)\n",
    "    clf_score_tr.append(clf.score(X_new, y_train))\n",
    "    clf_score_te.append(clf.score(X_t, y_test))"
   ]
  },
  {
   "cell_type": "code",
   "execution_count": 154,
   "id": "ef8516be",
   "metadata": {},
   "outputs": [
    {
     "data": {
      "text/plain": [
       "[0.6285714285714286,\n",
       " 0.6857142857142857,\n",
       " 0.7285714285714285,\n",
       " 0.7428571428571429,\n",
       " 0.8,\n",
       " 0.8428571428571429,\n",
       " 0.8857142857142857,\n",
       " 0.8857142857142857,\n",
       " 0.9,\n",
       " 0.9285714285714286,\n",
       " 0.9285714285714286,\n",
       " 0.9285714285714286,\n",
       " 0.9285714285714286,\n",
       " 0.9428571428571428,\n",
       " 0.9571428571428572,\n",
       " 0.9571428571428572,\n",
       " 0.9714285714285714,\n",
       " 0.9714285714285714,\n",
       " 0.9714285714285714,\n",
       " 0.9714285714285714,\n",
       " 0.9714285714285714,\n",
       " 0.9714285714285714,\n",
       " 0.9857142857142858,\n",
       " 0.9857142857142858,\n",
       " 0.9857142857142858,\n",
       " 0.9857142857142858,\n",
       " 0.9857142857142858,\n",
       " 0.9857142857142858,\n",
       " 0.9857142857142858]"
      ]
     },
     "execution_count": 154,
     "metadata": {},
     "output_type": "execute_result"
    }
   ],
   "source": [
    "clf_score_tr"
   ]
  },
  {
   "cell_type": "code",
   "execution_count": 155,
   "id": "f7c8dcae",
   "metadata": {},
   "outputs": [
    {
     "data": {
      "text/plain": [
       "[0.6,\n",
       " 0.6333333333333333,\n",
       " 0.7,\n",
       " 0.7666666666666667,\n",
       " 0.8333333333333334,\n",
       " 0.8666666666666667,\n",
       " 0.8666666666666667,\n",
       " 0.8666666666666667,\n",
       " 0.8,\n",
       " 0.8,\n",
       " 0.8,\n",
       " 0.8,\n",
       " 0.8,\n",
       " 0.8333333333333334,\n",
       " 0.8333333333333334,\n",
       " 0.8333333333333334,\n",
       " 0.8333333333333334,\n",
       " 0.8,\n",
       " 0.8,\n",
       " 0.8,\n",
       " 0.8,\n",
       " 0.8,\n",
       " 0.8,\n",
       " 0.8,\n",
       " 0.8,\n",
       " 0.8,\n",
       " 0.8,\n",
       " 0.8,\n",
       " 0.8]"
      ]
     },
     "execution_count": 155,
     "metadata": {},
     "output_type": "execute_result"
    }
   ],
   "source": [
    "clf_score_te"
   ]
  },
  {
   "cell_type": "markdown",
   "id": "e59c0975",
   "metadata": {},
   "source": [
    "#### From the above, we can find that when C = 1.7, SVM with Polynomial kernels perform the best with the the lowest training error and the lowest testing error."
   ]
  },
  {
   "cell_type": "code",
   "execution_count": 157,
   "id": "c72b8816",
   "metadata": {},
   "outputs": [
    {
     "name": "stdout",
     "output_type": "stream",
     "text": [
      "-----------train data-----------\n",
      "[[25  2]\n",
      " [ 0 43]]\n",
      "              precision    recall  f1-score   support\n",
      "\n",
      "       False       1.00      0.93      0.96        27\n",
      "        True       0.96      1.00      0.98        43\n",
      "\n",
      "    accuracy                           0.97        70\n",
      "   macro avg       0.98      0.96      0.97        70\n",
      "weighted avg       0.97      0.97      0.97        70\n",
      "\n",
      "-----------test data-----------\n",
      "[[10  2]\n",
      " [ 3 15]]\n",
      "              precision    recall  f1-score   support\n",
      "\n",
      "       False       0.77      0.83      0.80        12\n",
      "        True       0.88      0.83      0.86        18\n",
      "\n",
      "    accuracy                           0.83        30\n",
      "   macro avg       0.83      0.83      0.83        30\n",
      "weighted avg       0.84      0.83      0.83        30\n",
      "\n"
     ]
    }
   ],
   "source": [
    "model = SVC(C=1.7,kernel=\"poly\",degree = 2)\n",
    "clf = model.fit(X_new, y_train)\n",
    "predict_te = clf.predict(X_t)\n",
    "predict_tr = clf.predict(X_new)\n",
    "# Calculate the confusion matrix and classification report for the train and test data. \n",
    "# Train data\n",
    "print(\"-----------train data-----------\")\n",
    "print(confusion_matrix(y_train, predict_tr))\n",
    "print(classification_report(y_train, predict_tr))\n",
    "# Test data\n",
    "print(\"-----------test data-----------\")\n",
    "print(confusion_matrix(y_test, predict_te))\n",
    "print(classification_report(y_test, predict_te))"
   ]
  },
  {
   "cell_type": "code",
   "execution_count": 158,
   "id": "659da132",
   "metadata": {},
   "outputs": [],
   "source": [
    "# Save the results in a data frame. \n",
    "report_tr = classification_report(y_train, predict_tr, output_dict=True)\n",
    "report_tr = pd.DataFrame(report_tr).transpose()\n",
    "report_te = classification_report(y_test, predict_te, output_dict=True)\n",
    "report_te = pd.DataFrame(report_te).transpose()"
   ]
  },
  {
   "cell_type": "code",
   "execution_count": 159,
   "id": "f9ddb73c",
   "metadata": {},
   "outputs": [
    {
     "name": "stdout",
     "output_type": "stream",
     "text": [
      "              precision    recall  f1-score    support\n",
      "False          1.000000  0.925926  0.961538  27.000000\n",
      "True           0.955556  1.000000  0.977273  43.000000\n",
      "accuracy       0.971429  0.971429  0.971429   0.971429\n",
      "macro avg      0.977778  0.962963  0.969406  70.000000\n",
      "weighted avg   0.972698  0.971429  0.971204  70.000000\n",
      "              precision    recall  f1-score    support\n",
      "False          0.769231  0.833333  0.800000  12.000000\n",
      "True           0.882353  0.833333  0.857143  18.000000\n",
      "accuracy       0.833333  0.833333  0.833333   0.833333\n",
      "macro avg      0.825792  0.833333  0.828571  30.000000\n",
      "weighted avg   0.837104  0.833333  0.834286  30.000000\n"
     ]
    }
   ],
   "source": [
    "# display the results data frame\n",
    "print(report_tr)\n",
    "print(report_te)"
   ]
  },
  {
   "cell_type": "code",
   "execution_count": 160,
   "id": "5f89ea21",
   "metadata": {},
   "outputs": [
    {
     "data": {
      "image/png": "[encoded data removed]",
      "text/plain": [
       "<Figure size 432x288 with 2 Axes>"
      ]
     },
     "metadata": {
      "needs_background": "light"
     },
     "output_type": "display_data"
    }
   ],
   "source": [
    "# Display Confusion Matrix for the test data. Remember to use the ConfusionMatrixDisplay function.\n",
    "from sklearn.metrics import confusion_matrix, ConfusionMatrixDisplay\n",
    "cm = confusion_matrix(y_test, predict_te, labels=clf.classes_)\n",
    "disp = ConfusionMatrixDisplay(confusion_matrix=cm,display_labels=clf.classes_)\n",
    "disp.plot()\n",
    "plt.show()"
   ]
  },
  {
   "cell_type": "markdown",
   "id": "eb1c0763",
   "metadata": {},
   "source": [
    "#### SVM with RBF kernels"
   ]
  },
  {
   "cell_type": "code",
   "execution_count": 161,
   "id": "9a036781",
   "metadata": {},
   "outputs": [],
   "source": [
    "from sklearn.svm import SVC\n",
    "from sklearn.metrics import classification_report, confusion_matrix\n",
    "clf_score_tr = []\n",
    "clf_score_te = []\n",
    "for i in np.arange(0.1, 2.5, 0.1):\n",
    "    model = SVC(C=i,kernel=\"rbf\")\n",
    "    clf = model.fit(X_new, y_train)\n",
    "    clf_score_tr.append(clf.score(X_new, y_train))\n",
    "    clf_score_te.append(clf.score(X_t, y_test))"
   ]
  },
  {
   "cell_type": "code",
   "execution_count": 162,
   "id": "749cebf6",
   "metadata": {},
   "outputs": [
    {
     "data": {
      "text/plain": [
       "[0.6142857142857143,\n",
       " 0.6142857142857143,\n",
       " 0.7,\n",
       " 0.9714285714285714,\n",
       " 0.9857142857142858,\n",
       " 0.9857142857142858,\n",
       " 1.0,\n",
       " 1.0,\n",
       " 1.0,\n",
       " 1.0,\n",
       " 1.0,\n",
       " 1.0,\n",
       " 1.0,\n",
       " 1.0,\n",
       " 1.0,\n",
       " 1.0,\n",
       " 1.0,\n",
       " 1.0,\n",
       " 1.0,\n",
       " 1.0,\n",
       " 1.0,\n",
       " 1.0,\n",
       " 1.0,\n",
       " 1.0]"
      ]
     },
     "execution_count": 162,
     "metadata": {},
     "output_type": "execute_result"
    }
   ],
   "source": [
    "clf_score_tr"
   ]
  },
  {
   "cell_type": "code",
   "execution_count": 163,
   "id": "1bc3d33b",
   "metadata": {},
   "outputs": [
    {
     "data": {
      "text/plain": [
       "[0.6,\n",
       " 0.6,\n",
       " 0.7333333333333333,\n",
       " 0.8333333333333334,\n",
       " 0.8666666666666667,\n",
       " 0.7333333333333333,\n",
       " 0.7333333333333333,\n",
       " 0.7333333333333333,\n",
       " 0.8,\n",
       " 0.8,\n",
       " 0.8333333333333334,\n",
       " 0.8333333333333334,\n",
       " 0.8333333333333334,\n",
       " 0.8333333333333334,\n",
       " 0.8333333333333334,\n",
       " 0.8333333333333334,\n",
       " 0.8333333333333334,\n",
       " 0.8333333333333334,\n",
       " 0.8333333333333334,\n",
       " 0.8666666666666667,\n",
       " 0.8666666666666667,\n",
       " 0.8666666666666667,\n",
       " 0.8666666666666667,\n",
       " 0.8666666666666667]"
      ]
     },
     "execution_count": 163,
     "metadata": {},
     "output_type": "execute_result"
    }
   ],
   "source": [
    "clf_score_te"
   ]
  },
  {
   "cell_type": "markdown",
   "id": "f85dd5e6",
   "metadata": {},
   "source": [
    "#### From the above, we can find that when C = 2.0, SVM with RBF kernels perform the best with the the lowest training error and the lowest testing error."
   ]
  },
  {
   "cell_type": "code",
   "execution_count": 164,
   "id": "719b795b",
   "metadata": {},
   "outputs": [
    {
     "name": "stdout",
     "output_type": "stream",
     "text": [
      "-----------train data-----------\n",
      "[[27  0]\n",
      " [ 0 43]]\n",
      "              precision    recall  f1-score   support\n",
      "\n",
      "       False       1.00      1.00      1.00        27\n",
      "        True       1.00      1.00      1.00        43\n",
      "\n",
      "    accuracy                           1.00        70\n",
      "   macro avg       1.00      1.00      1.00        70\n",
      "weighted avg       1.00      1.00      1.00        70\n",
      "\n",
      "-----------test data-----------\n",
      "[[12  0]\n",
      " [ 4 14]]\n",
      "              precision    recall  f1-score   support\n",
      "\n",
      "       False       0.75      1.00      0.86        12\n",
      "        True       1.00      0.78      0.88        18\n",
      "\n",
      "    accuracy                           0.87        30\n",
      "   macro avg       0.88      0.89      0.87        30\n",
      "weighted avg       0.90      0.87      0.87        30\n",
      "\n"
     ]
    }
   ],
   "source": [
    "model = SVC(C=2.0,kernel=\"rbf\")\n",
    "clf = model.fit(X_new, y_train)\n",
    "predict_te = clf.predict(X_t)\n",
    "predict_tr = clf.predict(X_new)\n",
    "# Calculate the confusion matrix and classification report for the train and test data. \n",
    "# Train data\n",
    "print(\"-----------train data-----------\")\n",
    "print(confusion_matrix(y_train, predict_tr))\n",
    "print(classification_report(y_train, predict_tr))\n",
    "# Test data\n",
    "print(\"-----------test data-----------\")\n",
    "print(confusion_matrix(y_test, predict_te))\n",
    "print(classification_report(y_test, predict_te))"
   ]
  },
  {
   "cell_type": "code",
   "execution_count": 165,
   "id": "7f4cb875",
   "metadata": {},
   "outputs": [],
   "source": [
    "# Save the results in a data frame. \n",
    "report_tr = classification_report(y_train, predict_tr, output_dict=True)\n",
    "report_tr = pd.DataFrame(report_tr).transpose()\n",
    "report_te = classification_report(y_test, predict_te, output_dict=True)\n",
    "report_te = pd.DataFrame(report_te).transpose()"
   ]
  },
  {
   "cell_type": "code",
   "execution_count": 166,
   "id": "4aca76e7",
   "metadata": {},
   "outputs": [
    {
     "name": "stdout",
     "output_type": "stream",
     "text": [
      "              precision  recall  f1-score  support\n",
      "False               1.0     1.0       1.0     27.0\n",
      "True                1.0     1.0       1.0     43.0\n",
      "accuracy            1.0     1.0       1.0      1.0\n",
      "macro avg           1.0     1.0       1.0     70.0\n",
      "weighted avg        1.0     1.0       1.0     70.0\n",
      "              precision    recall  f1-score    support\n",
      "False          0.750000  1.000000  0.857143  12.000000\n",
      "True           1.000000  0.777778  0.875000  18.000000\n",
      "accuracy       0.866667  0.866667  0.866667   0.866667\n",
      "macro avg      0.875000  0.888889  0.866071  30.000000\n",
      "weighted avg   0.900000  0.866667  0.867857  30.000000\n"
     ]
    }
   ],
   "source": [
    "# display the results data frame\n",
    "print(report_tr)\n",
    "print(report_te)"
   ]
  },
  {
   "cell_type": "code",
   "execution_count": 167,
   "id": "dee4f7bc",
   "metadata": {},
   "outputs": [
    {
     "data": {
      "image/png": "[encoded data removed]",
      "text/plain": [
       "<Figure size 432x288 with 2 Axes>"
      ]
     },
     "metadata": {
      "needs_background": "light"
     },
     "output_type": "display_data"
    }
   ],
   "source": [
    "# Display Confusion Matrix for the test data. Remember to use the ConfusionMatrixDisplay function.\n",
    "from sklearn.metrics import confusion_matrix, ConfusionMatrixDisplay\n",
    "cm = confusion_matrix(y_test, predict_te, labels=clf.classes_)\n",
    "disp = ConfusionMatrixDisplay(confusion_matrix=cm,display_labels=clf.classes_)\n",
    "disp.plot()\n",
    "plt.show()"
   ]
  },
  {
   "cell_type": "markdown",
   "id": "248db193",
   "metadata": {},
   "source": [
    "#### SVM with Sigmoid kernels"
   ]
  },
  {
   "cell_type": "code",
   "execution_count": 168,
   "id": "3c260e28",
   "metadata": {},
   "outputs": [],
   "source": [
    "from sklearn.svm import SVC\n",
    "from sklearn.metrics import classification_report, confusion_matrix\n",
    "clf_score_tr = []\n",
    "clf_score_te = []\n",
    "for i in np.arange(0.1, 2.5, 0.1):\n",
    "    model = SVC(C=i,kernel=\"sigmoid\")\n",
    "    clf = model.fit(X_new, y_train)\n",
    "    clf_score_tr.append(clf.score(X_new, y_train))\n",
    "    clf_score_te.append(clf.score(X_t, y_test))"
   ]
  },
  {
   "cell_type": "code",
   "execution_count": 169,
   "id": "85abe368",
   "metadata": {},
   "outputs": [
    {
     "data": {
      "text/plain": [
       "[0.6142857142857143,\n",
       " 0.6285714285714286,\n",
       " 0.8142857142857143,\n",
       " 0.9142857142857143,\n",
       " 0.9714285714285714,\n",
       " 0.9857142857142858,\n",
       " 1.0,\n",
       " 1.0,\n",
       " 1.0,\n",
       " 1.0,\n",
       " 1.0,\n",
       " 1.0,\n",
       " 1.0,\n",
       " 1.0,\n",
       " 1.0,\n",
       " 1.0,\n",
       " 1.0,\n",
       " 1.0,\n",
       " 1.0,\n",
       " 1.0,\n",
       " 1.0,\n",
       " 1.0,\n",
       " 1.0,\n",
       " 1.0]"
      ]
     },
     "execution_count": 169,
     "metadata": {},
     "output_type": "execute_result"
    }
   ],
   "source": [
    "clf_score_tr"
   ]
  },
  {
   "cell_type": "code",
   "execution_count": 170,
   "id": "edb36db3",
   "metadata": {},
   "outputs": [
    {
     "data": {
      "text/plain": [
       "[0.6,\n",
       " 0.8,\n",
       " 0.9,\n",
       " 0.9333333333333333,\n",
       " 0.9666666666666667,\n",
       " 0.9666666666666667,\n",
       " 0.9666666666666667,\n",
       " 0.9666666666666667,\n",
       " 0.9333333333333333,\n",
       " 0.9333333333333333,\n",
       " 0.9333333333333333,\n",
       " 0.9333333333333333,\n",
       " 0.9333333333333333,\n",
       " 0.9333333333333333,\n",
       " 0.9,\n",
       " 0.9,\n",
       " 0.9,\n",
       " 0.9,\n",
       " 0.9,\n",
       " 0.9,\n",
       " 0.9,\n",
       " 0.9,\n",
       " 0.9,\n",
       " 0.9]"
      ]
     },
     "execution_count": 170,
     "metadata": {},
     "output_type": "execute_result"
    }
   ],
   "source": [
    "clf_score_te"
   ]
  },
  {
   "cell_type": "markdown",
   "id": "41768dac",
   "metadata": {},
   "source": [
    "#### From the above, we can find that when C = 0.7, SVM with Sigmoid kernels perform the best with the the lowest training error and the lowest testing error."
   ]
  },
  {
   "cell_type": "code",
   "execution_count": 171,
   "id": "e531561c",
   "metadata": {},
   "outputs": [
    {
     "name": "stdout",
     "output_type": "stream",
     "text": [
      "-----------train data-----------\n",
      "[[27  0]\n",
      " [ 0 43]]\n",
      "              precision    recall  f1-score   support\n",
      "\n",
      "       False       1.00      1.00      1.00        27\n",
      "        True       1.00      1.00      1.00        43\n",
      "\n",
      "    accuracy                           1.00        70\n",
      "   macro avg       1.00      1.00      1.00        70\n",
      "weighted avg       1.00      1.00      1.00        70\n",
      "\n",
      "-----------test data-----------\n",
      "[[12  0]\n",
      " [ 1 17]]\n",
      "              precision    recall  f1-score   support\n",
      "\n",
      "       False       0.92      1.00      0.96        12\n",
      "        True       1.00      0.94      0.97        18\n",
      "\n",
      "    accuracy                           0.97        30\n",
      "   macro avg       0.96      0.97      0.97        30\n",
      "weighted avg       0.97      0.97      0.97        30\n",
      "\n"
     ]
    }
   ],
   "source": [
    "model = SVC(C=0.7,kernel=\"sigmoid\")\n",
    "clf = model.fit(X_new, y_train)\n",
    "predict_te = clf.predict(X_t)\n",
    "predict_tr = clf.predict(X_new)\n",
    "# Calculate the confusion matrix and classification report for the train and test data. \n",
    "# Train data\n",
    "print(\"-----------train data-----------\")\n",
    "print(confusion_matrix(y_train, predict_tr))\n",
    "print(classification_report(y_train, predict_tr))\n",
    "# Test data\n",
    "print(\"-----------test data-----------\")\n",
    "print(confusion_matrix(y_test, predict_te))\n",
    "print(classification_report(y_test, predict_te))"
   ]
  },
  {
   "cell_type": "code",
   "execution_count": 172,
   "id": "025d655d",
   "metadata": {},
   "outputs": [],
   "source": [
    "# Save the results in a data frame. \n",
    "report_tr = classification_report(y_train, predict_tr, output_dict=True)\n",
    "report_tr = pd.DataFrame(report_tr).transpose()\n",
    "report_te = classification_report(y_test, predict_te, output_dict=True)\n",
    "report_te = pd.DataFrame(report_te).transpose()"
   ]
  },
  {
   "cell_type": "code",
   "execution_count": 173,
   "id": "86413050",
   "metadata": {},
   "outputs": [
    {
     "name": "stdout",
     "output_type": "stream",
     "text": [
      "              precision  recall  f1-score  support\n",
      "False               1.0     1.0       1.0     27.0\n",
      "True                1.0     1.0       1.0     43.0\n",
      "accuracy            1.0     1.0       1.0      1.0\n",
      "macro avg           1.0     1.0       1.0     70.0\n",
      "weighted avg        1.0     1.0       1.0     70.0\n",
      "              precision    recall  f1-score    support\n",
      "False          0.923077  1.000000  0.960000  12.000000\n",
      "True           1.000000  0.944444  0.971429  18.000000\n",
      "accuracy       0.966667  0.966667  0.966667   0.966667\n",
      "macro avg      0.961538  0.972222  0.965714  30.000000\n",
      "weighted avg   0.969231  0.966667  0.966857  30.000000\n"
     ]
    }
   ],
   "source": [
    "# display the results data frame\n",
    "print(report_tr)\n",
    "print(report_te)"
   ]
  },
  {
   "cell_type": "code",
   "execution_count": 174,
   "id": "0d563e50",
   "metadata": {},
   "outputs": [
    {
     "data": {
      "image/png": "[encoded data removed]",
      "text/plain": [
       "<Figure size 432x288 with 2 Axes>"
      ]
     },
     "metadata": {
      "needs_background": "light"
     },
     "output_type": "display_data"
    }
   ],
   "source": [
    "# Display Confusion Matrix for the test data. Remember to use the ConfusionMatrixDisplay function.\n",
    "from sklearn.metrics import confusion_matrix, ConfusionMatrixDisplay\n",
    "cm = confusion_matrix(y_test, predict_te, labels=clf.classes_)\n",
    "disp = ConfusionMatrixDisplay(confusion_matrix=cm,display_labels=clf.classes_)\n",
    "disp.plot()\n",
    "plt.show()"
   ]
  },
  {
   "cell_type": "markdown",
   "id": "ed7ed69a",
   "metadata": {},
   "source": [
    "## Final results"
   ]
  },
  {
   "cell_type": "markdown",
   "id": "52bb8262",
   "metadata": {},
   "source": [
    "#### From the above results, the best models for this problem are SVM with Linear kernels and C = 1.8, and SVM with Sigmoid kernels and C = 0.7."
   ]
  },
  {
   "cell_type": "markdown",
   "id": "3a64ab03",
   "metadata": {},
   "source": [
    "#### SVM with Linear kernels and C = 1.8"
   ]
  },
  {
   "cell_type": "code",
   "execution_count": 175,
   "id": "4e3c0cb8",
   "metadata": {},
   "outputs": [
    {
     "name": "stdout",
     "output_type": "stream",
     "text": [
      "-----------train data-----------\n",
      "[[27  0]\n",
      " [ 0 43]]\n",
      "              precision    recall  f1-score   support\n",
      "\n",
      "       False       1.00      1.00      1.00        27\n",
      "        True       1.00      1.00      1.00        43\n",
      "\n",
      "    accuracy                           1.00        70\n",
      "   macro avg       1.00      1.00      1.00        70\n",
      "weighted avg       1.00      1.00      1.00        70\n",
      "\n",
      "-----------test data-----------\n",
      "[[12  0]\n",
      " [ 1 17]]\n",
      "              precision    recall  f1-score   support\n",
      "\n",
      "       False       0.92      1.00      0.96        12\n",
      "        True       1.00      0.94      0.97        18\n",
      "\n",
      "    accuracy                           0.97        30\n",
      "   macro avg       0.96      0.97      0.97        30\n",
      "weighted avg       0.97      0.97      0.97        30\n",
      "\n"
     ]
    }
   ],
   "source": [
    "model = SVC(C=1.8,kernel=\"linear\")\n",
    "clf = model.fit(X_new, y_train)\n",
    "predict_te = clf.predict(X_t)\n",
    "predict_tr = clf.predict(X_new)\n",
    "# Calculate the confusion matrix and classification report for the train and test data. \n",
    "# Train data\n",
    "print(\"-----------train data-----------\")\n",
    "print(confusion_matrix(y_train, predict_tr))\n",
    "print(classification_report(y_train, predict_tr))\n",
    "# Test data\n",
    "print(\"-----------test data-----------\")\n",
    "print(confusion_matrix(y_test, predict_te))\n",
    "print(classification_report(y_test, predict_te))"
   ]
  },
  {
   "cell_type": "code",
   "execution_count": 176,
   "id": "08ebcb1e",
   "metadata": {},
   "outputs": [],
   "source": [
    "# Save the results in a data frame. \n",
    "report_tr = classification_report(y_train, predict_tr, output_dict=True)\n",
    "report_tr = pd.DataFrame(report_tr).transpose()\n",
    "report_te = classification_report(y_test, predict_te, output_dict=True)\n",
    "report_te = pd.DataFrame(report_te).transpose()"
   ]
  },
  {
   "cell_type": "code",
   "execution_count": 177,
   "id": "ff6f2054",
   "metadata": {},
   "outputs": [
    {
     "name": "stdout",
     "output_type": "stream",
     "text": [
      "              precision  recall  f1-score  support\n",
      "False               1.0     1.0       1.0     27.0\n",
      "True                1.0     1.0       1.0     43.0\n",
      "accuracy            1.0     1.0       1.0      1.0\n",
      "macro avg           1.0     1.0       1.0     70.0\n",
      "weighted avg        1.0     1.0       1.0     70.0\n",
      "              precision    recall  f1-score    support\n",
      "False          0.923077  1.000000  0.960000  12.000000\n",
      "True           1.000000  0.944444  0.971429  18.000000\n",
      "accuracy       0.966667  0.966667  0.966667   0.966667\n",
      "macro avg      0.961538  0.972222  0.965714  30.000000\n",
      "weighted avg   0.969231  0.966667  0.966857  30.000000\n"
     ]
    }
   ],
   "source": [
    "# display the results data frame\n",
    "print(report_tr)\n",
    "print(report_te)"
   ]
  },
  {
   "cell_type": "code",
   "execution_count": 178,
   "id": "6b86f2cd",
   "metadata": {},
   "outputs": [
    {
     "data": {
      "image/png": "[encoded data removed]",
      "text/plain": [
       "<Figure size 432x288 with 2 Axes>"
      ]
     },
     "metadata": {
      "needs_background": "light"
     },
     "output_type": "display_data"
    }
   ],
   "source": [
    "# Display Confusion Matrix for the test data. Remember to use the ConfusionMatrixDisplay function.\n",
    "from sklearn.metrics import confusion_matrix, ConfusionMatrixDisplay\n",
    "cm = confusion_matrix(y_test, predict_te, labels=clf.classes_)\n",
    "disp = ConfusionMatrixDisplay(confusion_matrix=cm,display_labels=clf.classes_)\n",
    "disp.plot()\n",
    "plt.show()"
   ]
  },
  {
   "cell_type": "markdown",
   "id": "542b2898",
   "metadata": {},
   "source": [
    "#### SVM with Sigmoid kernels and C = 0.7"
   ]
  },
  {
   "cell_type": "code",
   "execution_count": 179,
   "id": "8599e20f",
   "metadata": {},
   "outputs": [
    {
     "name": "stdout",
     "output_type": "stream",
     "text": [
      "-----------train data-----------\n",
      "[[27  0]\n",
      " [ 0 43]]\n",
      "              precision    recall  f1-score   support\n",
      "\n",
      "       False       1.00      1.00      1.00        27\n",
      "        True       1.00      1.00      1.00        43\n",
      "\n",
      "    accuracy                           1.00        70\n",
      "   macro avg       1.00      1.00      1.00        70\n",
      "weighted avg       1.00      1.00      1.00        70\n",
      "\n",
      "-----------test data-----------\n",
      "[[12  0]\n",
      " [ 1 17]]\n",
      "              precision    recall  f1-score   support\n",
      "\n",
      "       False       0.92      1.00      0.96        12\n",
      "        True       1.00      0.94      0.97        18\n",
      "\n",
      "    accuracy                           0.97        30\n",
      "   macro avg       0.96      0.97      0.97        30\n",
      "weighted avg       0.97      0.97      0.97        30\n",
      "\n"
     ]
    }
   ],
   "source": [
    "model = SVC(C=0.7,kernel=\"sigmoid\")\n",
    "clf = model.fit(X_new, y_train)\n",
    "predict_te = clf.predict(X_t)\n",
    "predict_tr = clf.predict(X_new)\n",
    "# Calculate the confusion matrix and classification report for the train and test data. \n",
    "# Train data\n",
    "print(\"-----------train data-----------\")\n",
    "print(confusion_matrix(y_train, predict_tr))\n",
    "print(classification_report(y_train, predict_tr))\n",
    "# Test data\n",
    "print(\"-----------test data-----------\")\n",
    "print(confusion_matrix(y_test, predict_te))\n",
    "print(classification_report(y_test, predict_te))"
   ]
  },
  {
   "cell_type": "code",
   "execution_count": 180,
   "id": "4f14c560",
   "metadata": {},
   "outputs": [],
   "source": [
    "# Save the results in a data frame. \n",
    "report_tr = classification_report(y_train, predict_tr, output_dict=True)\n",
    "report_tr = pd.DataFrame(report_tr).transpose()\n",
    "report_te = classification_report(y_test, predict_te, output_dict=True)\n",
    "report_te = pd.DataFrame(report_te).transpose()"
   ]
  },
  {
   "cell_type": "code",
   "execution_count": 181,
   "id": "9b3dc9cd",
   "metadata": {},
   "outputs": [
    {
     "name": "stdout",
     "output_type": "stream",
     "text": [
      "              precision  recall  f1-score  support\n",
      "False               1.0     1.0       1.0     27.0\n",
      "True                1.0     1.0       1.0     43.0\n",
      "accuracy            1.0     1.0       1.0      1.0\n",
      "macro avg           1.0     1.0       1.0     70.0\n",
      "weighted avg        1.0     1.0       1.0     70.0\n",
      "              precision    recall  f1-score    support\n",
      "False          0.923077  1.000000  0.960000  12.000000\n",
      "True           1.000000  0.944444  0.971429  18.000000\n",
      "accuracy       0.966667  0.966667  0.966667   0.966667\n",
      "macro avg      0.961538  0.972222  0.965714  30.000000\n",
      "weighted avg   0.969231  0.966667  0.966857  30.000000\n"
     ]
    }
   ],
   "source": [
    "# display the results data frame\n",
    "print(report_tr)\n",
    "print(report_te)"
   ]
  },
  {
   "cell_type": "code",
   "execution_count": 182,
   "id": "891bdca2",
   "metadata": {},
   "outputs": [
    {
     "data": {
      "image/png": "[encoded data removed]",
      "text/plain": [
       "<Figure size 432x288 with 2 Axes>"
      ]
     },
     "metadata": {
      "needs_background": "light"
     },
     "output_type": "display_data"
    }
   ],
   "source": [
    "# Display Confusion Matrix for the test data. Remember to use the ConfusionMatrixDisplay function.\n",
    "from sklearn.metrics import confusion_matrix, ConfusionMatrixDisplay\n",
    "cm = confusion_matrix(y_test, predict_te, labels=clf.classes_)\n",
    "disp = ConfusionMatrixDisplay(confusion_matrix=cm,display_labels=clf.classes_)\n",
    "disp.plot()\n",
    "plt.show()"
   ]
  },
  {
   "cell_type": "markdown",
   "id": "112c3b41",
   "metadata": {},
   "source": [
    "#### The performances in both two SVMs are very good with accurancy of 96.92% in the testing set and 100% in the training set. As we have done dimension reduction, SVM is suitable for this problem as there are many dimension and we can find a hyper-plane. We should use more data to detect which model is much better as the sample size increases."
   ]
  },
  {
   "cell_type": "markdown",
   "id": "bfac1030",
   "metadata": {},
   "source": [
    "## Conclusions:"
   ]
  },
  {
   "cell_type": "markdown",
   "id": "8826569a",
   "metadata": {},
   "source": [
    "### In general, the above results show us a phenomenon that we can judge whether such tweets can be forwarded and attract people's attention through the analysis of tweets. And the tweets forwarded have similarities in the use of words. From the above results, it can be seen that by using the same words and similar word frequency as tweets that have been forwarded many times, it can effectively help people to obtain forwarding without being ignored."
   ]
  },
  {
   "cell_type": "markdown",
   "id": "cdb8319b",
   "metadata": {},
   "source": [
    "### As a popular social media, Twitter can not only enhance people's sense of social belonging, but also help them gain attention, reputation, fans and profit from it if they can get more forwarding volume and attention from it. For such an information age, it is beneficial for both the platform and bloggers to receive more attention."
   ]
  },
  {
   "cell_type": "markdown",
   "id": "053bca32",
   "metadata": {},
   "source": [
    "### Such a study makes me more confident to observe the effect of the text itself on improving the quality of user accounts by comparing the growth of the text itself with the number of users' fans and the number of users' likes of tweets"
   ]
  }
 ],
 "metadata": {
  "kernelspec": {
   "display_name": "Python 3 (ipykernel)",
   "language": "python",
   "name": "python3"
  },
  "language_info": {
   "codemirror_mode": {
    "name": "ipython",
    "version": 3
   },
   "file_extension": ".py",
   "mimetype": "text/x-python",
   "name": "python",
   "nbconvert_exporter": "python",
   "pygments_lexer": "ipython3",
   "version": "3.10.4"
  }
 },
 "nbformat": 4,
 "nbformat_minor": 5
}
