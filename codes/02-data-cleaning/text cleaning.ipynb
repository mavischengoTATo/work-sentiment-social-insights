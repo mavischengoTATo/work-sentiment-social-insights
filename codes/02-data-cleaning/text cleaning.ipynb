{
 "cells": [
  {
   "cell_type": "markdown",
   "id": "c52c9f85",
   "metadata": {},
   "source": [
    "# Data Cleaning\n",
    "### This page will divide data cleaning into two parts. \n",
    "### The first part is the Python method. Here we focus on the data set of Twitter. It will include the data cleaning process of texts including keyword,\" work, job\"  from Twitter,the data cleaning process of texts including keyword,\" job hunting\"  from Twitter,the data cleaning process of texts including keyword,\" new graduate\"  from Twitter,the data cleaning process of texts including keyword,\" retire\"  from Twitter and two label, tweeted, so see if the text of a tweet is widely recognized by people or not, and favorited, so see if the text tweet is widely aggreed by people or not. If you want to get the data, you can come back to \"Home\" click the \"Data\" tab in the menu, and if you want to get the code, you can just copy it from below, or you can get it by clicking the \"Code\" tab in the menu. \n",
    "### In general, I get the all needed columns and then clean the text data by using Spacy pipeline for text normalization and preprocessing. I use \"re\" package to identity the formats of most URLs,  emails. And in this part, numbers in the text is not important for my topic so I replace them with \"numbr\" to explore the relationship between number and retweeted. Then, I remove commas in numbers, punctuation and other junk. After these process, I get a much clean dataset. Then I use CountVectorizer, TfidfVectorizer to get BOW features for further exploration.\n",
    "### The label \"retweeted\" is very strightfoward, which is designed as when retweet_count is larger than 0,  then retweeted is True, else False. \n",
    "\n",
    "### More:  make attention about that I didn't save the \"X_bow\" in this part, you can use the code at the last part in python part to get it, you can find \"textcleaning_py1.csv\",\"textcleaning_py2.csv\",\"textcleaning_py3.csv\",\"textcleaning_py4.csv\", which contains \"id\", \"label\", \"text\".\n",
    "\n",
    "\n"
   ]
  },
  {
   "cell_type": "markdown",
   "id": "2d4416f2",
   "metadata": {},
   "source": [
    "The first dataset we need to deal with is \"raw_data1.csv\", that is, the twitter texts with the keyword of \"new graduate\"."
   ]
  },
  {
   "cell_type": "code",
   "execution_count": 45,
   "id": "f6ccd318",
   "metadata": {},
   "outputs": [],
   "source": [
    "import pandas as pd\n",
    "r = pd.read_csv(\"raw_data1.csv\")"
   ]
  },
  {
   "cell_type": "markdown",
   "id": "d4043ca9",
   "metadata": {},
   "source": [
    "### Select all needed columns"
   ]
  },
  {
   "cell_type": "code",
   "execution_count": 46,
   "id": "66b3a9e1",
   "metadata": {},
   "outputs": [
    {
     "data": {
      "text/html": [
       "<div>\n",
       "<style scoped>\n",
       "    .dataframe tbody tr th:only-of-type {\n",
       "        vertical-align: middle;\n",
       "    }\n",
       "\n",
       "    .dataframe tbody tr th {\n",
       "        vertical-align: top;\n",
       "    }\n",
       "\n",
       "    .dataframe thead th {\n",
       "        text-align: right;\n",
       "    }\n",
       "</style>\n",
       "<table border=\"1\" class=\"dataframe\">\n",
       "  <thead>\n",
       "    <tr style=\"text-align: right;\">\n",
       "      <th></th>\n",
       "      <th>Unnamed: 0</th>\n",
       "      <th>created_at</th>\n",
       "      <th>id</th>\n",
       "      <th>id_str</th>\n",
       "      <th>text</th>\n",
       "      <th>truncated</th>\n",
       "      <th>entities</th>\n",
       "      <th>metadata</th>\n",
       "      <th>source</th>\n",
       "      <th>in_reply_to_status_id</th>\n",
       "      <th>...</th>\n",
       "      <th>favorite_count</th>\n",
       "      <th>favorited</th>\n",
       "      <th>retweeted</th>\n",
       "      <th>lang</th>\n",
       "      <th>possibly_sensitive</th>\n",
       "      <th>quoted_status_id</th>\n",
       "      <th>quoted_status_id_str</th>\n",
       "      <th>quoted_status</th>\n",
       "      <th>extended_entities</th>\n",
       "      <th>withheld_in_countries</th>\n",
       "    </tr>\n",
       "  </thead>\n",
       "  <tbody>\n",
       "    <tr>\n",
       "      <th>0</th>\n",
       "      <td>0</td>\n",
       "      <td>Sun Dec 04 04:49:26 +0000 2022</td>\n",
       "      <td>1599264591531638784</td>\n",
       "      <td>1599264591531638784</td>\n",
       "      <td>RT @scjchurch_en: New York Feature\\nZion Chris...</td>\n",
       "      <td>False</td>\n",
       "      <td>{'hashtags': [], 'symbols': [], 'user_mentions...</td>\n",
       "      <td>{'iso_language_code': 'en', 'result_type': 're...</td>\n",
       "      <td>&lt;a href=\"https://mobile.twitter.com\" rel=\"nofo...</td>\n",
       "      <td>NaN</td>\n",
       "      <td>...</td>\n",
       "      <td>0</td>\n",
       "      <td>False</td>\n",
       "      <td>False</td>\n",
       "      <td>en</td>\n",
       "      <td>NaN</td>\n",
       "      <td>NaN</td>\n",
       "      <td>NaN</td>\n",
       "      <td>NaN</td>\n",
       "      <td>NaN</td>\n",
       "      <td>NaN</td>\n",
       "    </tr>\n",
       "    <tr>\n",
       "      <th>1</th>\n",
       "      <td>1</td>\n",
       "      <td>Sun Dec 04 04:48:35 +0000 2022</td>\n",
       "      <td>1599264378875846656</td>\n",
       "      <td>1599264378875846656</td>\n",
       "      <td>RT @ARYNEWSOFFICIAL: MBBS Graduate sets new wo...</td>\n",
       "      <td>False</td>\n",
       "      <td>{'hashtags': [{'text': 'ARYNews', 'indices': [...</td>\n",
       "      <td>{'iso_language_code': 'en', 'result_type': 're...</td>\n",
       "      <td>&lt;a href=\"http://twitter.com/download/android\" ...</td>\n",
       "      <td>NaN</td>\n",
       "      <td>...</td>\n",
       "      <td>0</td>\n",
       "      <td>False</td>\n",
       "      <td>False</td>\n",
       "      <td>en</td>\n",
       "      <td>False</td>\n",
       "      <td>NaN</td>\n",
       "      <td>NaN</td>\n",
       "      <td>NaN</td>\n",
       "      <td>NaN</td>\n",
       "      <td>NaN</td>\n",
       "    </tr>\n",
       "    <tr>\n",
       "      <th>2</th>\n",
       "      <td>2</td>\n",
       "      <td>Sun Dec 04 04:41:52 +0000 2022</td>\n",
       "      <td>1599262688466477056</td>\n",
       "      <td>1599262688466477056</td>\n",
       "      <td>RT @TEDchris: 5/6 It really feels like the wor...</td>\n",
       "      <td>False</td>\n",
       "      <td>{'hashtags': [], 'symbols': [], 'user_mentions...</td>\n",
       "      <td>{'iso_language_code': 'en', 'result_type': 're...</td>\n",
       "      <td>&lt;a href=\"http://twitter.com/download/android\" ...</td>\n",
       "      <td>NaN</td>\n",
       "      <td>...</td>\n",
       "      <td>0</td>\n",
       "      <td>False</td>\n",
       "      <td>False</td>\n",
       "      <td>en</td>\n",
       "      <td>NaN</td>\n",
       "      <td>NaN</td>\n",
       "      <td>NaN</td>\n",
       "      <td>NaN</td>\n",
       "      <td>NaN</td>\n",
       "      <td>NaN</td>\n",
       "    </tr>\n",
       "    <tr>\n",
       "      <th>3</th>\n",
       "      <td>3</td>\n",
       "      <td>Sun Dec 04 04:35:54 +0000 2022</td>\n",
       "      <td>1599261187635830785</td>\n",
       "      <td>1599261187635830785</td>\n",
       "      <td>RT @NamyrMya: Wait if they're gonna announce n...</td>\n",
       "      <td>False</td>\n",
       "      <td>{'hashtags': [{'text': 'BeOnCloudNewYearParty'...</td>\n",
       "      <td>{'iso_language_code': 'en', 'result_type': 're...</td>\n",
       "      <td>&lt;a href=\"http://twitter.com/download/android\" ...</td>\n",
       "      <td>NaN</td>\n",
       "      <td>...</td>\n",
       "      <td>0</td>\n",
       "      <td>False</td>\n",
       "      <td>False</td>\n",
       "      <td>en</td>\n",
       "      <td>NaN</td>\n",
       "      <td>NaN</td>\n",
       "      <td>NaN</td>\n",
       "      <td>NaN</td>\n",
       "      <td>NaN</td>\n",
       "      <td>NaN</td>\n",
       "    </tr>\n",
       "    <tr>\n",
       "      <th>4</th>\n",
       "      <td>4</td>\n",
       "      <td>Sun Dec 04 04:32:15 +0000 2022</td>\n",
       "      <td>1599260268042760194</td>\n",
       "      <td>1599260268042760194</td>\n",
       "      <td>RT @ConceptTVNews: MBBS graduate Hafiz Muhamma...</td>\n",
       "      <td>False</td>\n",
       "      <td>{'hashtags': [], 'symbols': [], 'user_mentions...</td>\n",
       "      <td>{'iso_language_code': 'en', 'result_type': 're...</td>\n",
       "      <td>&lt;a href=\"http://twitter.com/download/iphone\" r...</td>\n",
       "      <td>NaN</td>\n",
       "      <td>...</td>\n",
       "      <td>0</td>\n",
       "      <td>False</td>\n",
       "      <td>False</td>\n",
       "      <td>en</td>\n",
       "      <td>NaN</td>\n",
       "      <td>NaN</td>\n",
       "      <td>NaN</td>\n",
       "      <td>NaN</td>\n",
       "      <td>NaN</td>\n",
       "      <td>NaN</td>\n",
       "    </tr>\n",
       "  </tbody>\n",
       "</table>\n",
       "<p>5 rows × 32 columns</p>\n",
       "</div>"
      ],
      "text/plain": [
       "   Unnamed: 0                      created_at                   id  \\\n",
       "0           0  Sun Dec 04 04:49:26 +0000 2022  1599264591531638784   \n",
       "1           1  Sun Dec 04 04:48:35 +0000 2022  1599264378875846656   \n",
       "2           2  Sun Dec 04 04:41:52 +0000 2022  1599262688466477056   \n",
       "3           3  Sun Dec 04 04:35:54 +0000 2022  1599261187635830785   \n",
       "4           4  Sun Dec 04 04:32:15 +0000 2022  1599260268042760194   \n",
       "\n",
       "                id_str                                               text  \\\n",
       "0  1599264591531638784  RT @scjchurch_en: New York Feature\\nZion Chris...   \n",
       "1  1599264378875846656  RT @ARYNEWSOFFICIAL: MBBS Graduate sets new wo...   \n",
       "2  1599262688466477056  RT @TEDchris: 5/6 It really feels like the wor...   \n",
       "3  1599261187635830785  RT @NamyrMya: Wait if they're gonna announce n...   \n",
       "4  1599260268042760194  RT @ConceptTVNews: MBBS graduate Hafiz Muhamma...   \n",
       "\n",
       "   truncated                                           entities  \\\n",
       "0      False  {'hashtags': [], 'symbols': [], 'user_mentions...   \n",
       "1      False  {'hashtags': [{'text': 'ARYNews', 'indices': [...   \n",
       "2      False  {'hashtags': [], 'symbols': [], 'user_mentions...   \n",
       "3      False  {'hashtags': [{'text': 'BeOnCloudNewYearParty'...   \n",
       "4      False  {'hashtags': [], 'symbols': [], 'user_mentions...   \n",
       "\n",
       "                                            metadata  \\\n",
       "0  {'iso_language_code': 'en', 'result_type': 're...   \n",
       "1  {'iso_language_code': 'en', 'result_type': 're...   \n",
       "2  {'iso_language_code': 'en', 'result_type': 're...   \n",
       "3  {'iso_language_code': 'en', 'result_type': 're...   \n",
       "4  {'iso_language_code': 'en', 'result_type': 're...   \n",
       "\n",
       "                                              source  in_reply_to_status_id  \\\n",
       "0  <a href=\"https://mobile.twitter.com\" rel=\"nofo...                    NaN   \n",
       "1  <a href=\"http://twitter.com/download/android\" ...                    NaN   \n",
       "2  <a href=\"http://twitter.com/download/android\" ...                    NaN   \n",
       "3  <a href=\"http://twitter.com/download/android\" ...                    NaN   \n",
       "4  <a href=\"http://twitter.com/download/iphone\" r...                    NaN   \n",
       "\n",
       "   ...  favorite_count  favorited  retweeted lang possibly_sensitive  \\\n",
       "0  ...               0      False      False   en                NaN   \n",
       "1  ...               0      False      False   en              False   \n",
       "2  ...               0      False      False   en                NaN   \n",
       "3  ...               0      False      False   en                NaN   \n",
       "4  ...               0      False      False   en                NaN   \n",
       "\n",
       "  quoted_status_id quoted_status_id_str quoted_status  extended_entities  \\\n",
       "0              NaN                  NaN           NaN                NaN   \n",
       "1              NaN                  NaN           NaN                NaN   \n",
       "2              NaN                  NaN           NaN                NaN   \n",
       "3              NaN                  NaN           NaN                NaN   \n",
       "4              NaN                  NaN           NaN                NaN   \n",
       "\n",
       "  withheld_in_countries  \n",
       "0                   NaN  \n",
       "1                   NaN  \n",
       "2                   NaN  \n",
       "3                   NaN  \n",
       "4                   NaN  \n",
       "\n",
       "[5 rows x 32 columns]"
      ]
     },
     "execution_count": 46,
     "metadata": {},
     "output_type": "execute_result"
    }
   ],
   "source": [
    "r.head()"
   ]
  },
  {
   "cell_type": "code",
   "execution_count": 47,
   "id": "b3abe585",
   "metadata": {},
   "outputs": [],
   "source": [
    "r1 = r[[\"id\",\"text\",\"truncated\",\"entities\",\"metadata\",\"user\",\"is_quote_status\",\"favorite_count\",\"retweet_count\",\"favorited\",\"retweeted\",\"lang\",\"possibly_sensitive\"]]"
   ]
  },
  {
   "cell_type": "markdown",
   "id": "f604a722",
   "metadata": {},
   "source": [
    "### Deal with Text data\n",
    "#### use Spacy pipeline for text normalization & preprocessing"
   ]
  },
  {
   "cell_type": "markdown",
   "id": "e67147bd",
   "metadata": {},
   "source": [
    "### This is a quick look of text data"
   ]
  },
  {
   "cell_type": "code",
   "execution_count": 48,
   "id": "8259ed23",
   "metadata": {},
   "outputs": [],
   "source": [
    "t = r1[[\"id\",\"text\"]]"
   ]
  },
  {
   "cell_type": "code",
   "execution_count": 49,
   "id": "7c0f508e",
   "metadata": {},
   "outputs": [
    {
     "data": {
      "text/html": [
       "<div>\n",
       "<style scoped>\n",
       "    .dataframe tbody tr th:only-of-type {\n",
       "        vertical-align: middle;\n",
       "    }\n",
       "\n",
       "    .dataframe tbody tr th {\n",
       "        vertical-align: top;\n",
       "    }\n",
       "\n",
       "    .dataframe thead th {\n",
       "        text-align: right;\n",
       "    }\n",
       "</style>\n",
       "<table border=\"1\" class=\"dataframe\">\n",
       "  <thead>\n",
       "    <tr style=\"text-align: right;\">\n",
       "      <th></th>\n",
       "      <th>id</th>\n",
       "      <th>text</th>\n",
       "    </tr>\n",
       "  </thead>\n",
       "  <tbody>\n",
       "    <tr>\n",
       "      <th>0</th>\n",
       "      <td>1599264591531638784</td>\n",
       "      <td>RT @scjchurch_en: New York Feature\\nZion Chris...</td>\n",
       "    </tr>\n",
       "    <tr>\n",
       "      <th>1</th>\n",
       "      <td>1599264378875846656</td>\n",
       "      <td>RT @ARYNEWSOFFICIAL: MBBS Graduate sets new wo...</td>\n",
       "    </tr>\n",
       "    <tr>\n",
       "      <th>2</th>\n",
       "      <td>1599262688466477056</td>\n",
       "      <td>RT @TEDchris: 5/6 It really feels like the wor...</td>\n",
       "    </tr>\n",
       "    <tr>\n",
       "      <th>3</th>\n",
       "      <td>1599261187635830785</td>\n",
       "      <td>RT @NamyrMya: Wait if they're gonna announce n...</td>\n",
       "    </tr>\n",
       "    <tr>\n",
       "      <th>4</th>\n",
       "      <td>1599260268042760194</td>\n",
       "      <td>RT @ConceptTVNews: MBBS graduate Hafiz Muhamma...</td>\n",
       "    </tr>\n",
       "  </tbody>\n",
       "</table>\n",
       "</div>"
      ],
      "text/plain": [
       "                    id                                               text\n",
       "0  1599264591531638784  RT @scjchurch_en: New York Feature\\nZion Chris...\n",
       "1  1599264378875846656  RT @ARYNEWSOFFICIAL: MBBS Graduate sets new wo...\n",
       "2  1599262688466477056  RT @TEDchris: 5/6 It really feels like the wor...\n",
       "3  1599261187635830785  RT @NamyrMya: Wait if they're gonna announce n...\n",
       "4  1599260268042760194  RT @ConceptTVNews: MBBS graduate Hafiz Muhamma..."
      ]
     },
     "execution_count": 49,
     "metadata": {},
     "output_type": "execute_result"
    }
   ],
   "source": [
    "t.head()"
   ]
  },
  {
   "cell_type": "markdown",
   "id": "63cabee1",
   "metadata": {},
   "source": [
    "### We can find that the text is mixed with name, numbers, uppercase, which we should deal with it, so I use a pipeline to match URLs, emails, numbers and punctuation."
   ]
  },
  {
   "cell_type": "code",
   "execution_count": 50,
   "id": "8fdefd79",
   "metadata": {},
   "outputs": [
    {
     "data": {
      "text/plain": [
       "<function __main__.ng20_preprocess(doc)>"
      ]
     },
     "execution_count": 50,
     "metadata": {},
     "output_type": "execute_result"
    }
   ],
   "source": [
    "import re\n",
    "import spacy\n",
    "from spacy.language import Language\n",
    "\n",
    "pipeline = spacy.load('en_core_web_sm')\n",
    "\n",
    "# http://emailregex.com/\n",
    "email_re = r\"\"\"(?:[a-z0-9!#$%&'*+/=?^_`{|}~-]+(?:\\.[a-z0-9!#$%&'*+/=?^_`{|}~-]+)*|\"(?:[\\x01-\\x08\\x0b\\x0c\\x0e-\\x1f\\x21\\x23-\\x5b\\x5d-\\x7f]|\\\\[\\x01-\\x09\\x0b\\x0c\\x0e-\\x7f])*\")@(?:(?:[a-z0-9](?:[a-z0-9-]*[a-z0-9])?\\.)+[a-z0-9](?:[a-z0-9-]*[a-z0-9])?|\\[(?:(?:25[0-5]|2[0-4][0-9]|[01]?[0-9][0-9]?)\\.){3}(?:25[0-5]|2[0-4][0-9]|[01]?[0-9][0-9]?|[a-z0-9-]*[a-z0-9]:(?:[\\x01-\\x08\\x0b\\x0c\\x0e-\\x1f\\x21-\\x5a\\x53-\\x7f]|\\\\[\\x01-\\x09\\x0b\\x0c\\x0e-\\x7f])+)\\])\"\"\"\n",
    "\n",
    "# replace = [ (pattern-to-replace, replacement),  ...]\n",
    "replace = [\n",
    "    (r\"<a[^>]*>(.*?)</a>\", r\"\\1\"),  # Matches most URLs\n",
    "    (email_re, \"email\"),            # Matches emails\n",
    "    (r\"(?<=\\d),(?=\\d)\", \"\"),        # Remove commas in numbers\n",
    "    (r\"\\d+\", \"number\"),              # Map digits to special token <numbr>\n",
    "    (r\"[\\t\\n\\r\\*\\.\\@\\,\\-\\/]\", \" \"), # Punctuation and other junk\n",
    "    (r\"\\s+\", \" \")                   # Stips extra whitespace\n",
    "]\n",
    "train_sentences = []\n",
    "for i, d in enumerate(t['text']):\n",
    "    for repl in replace:\n",
    "        d = re.sub(repl[0], repl[1], d)\n",
    "    train_sentences.append(d)\n",
    "\n",
    "\n",
    "@Language.component(\"anly501project\")\n",
    "def ng20_preprocess(doc):\n",
    "    tokens = [token for token in doc \n",
    "              if not any((token.is_stop, token.is_punct))]\n",
    "    tokens = [token.lemma_.lower().strip() for token in tokens]\n",
    "    tokens = [token for token in tokens if token]\n",
    "    return \" \".join(tokens)\n",
    "\n",
    "\n",
    "pipeline.add_pipe(\"anly501project\")"
   ]
  },
  {
   "cell_type": "markdown",
   "id": "3bed45fc",
   "metadata": {},
   "source": [
    "### Pass data through our Spacy pipeline"
   ]
  },
  {
   "cell_type": "code",
   "execution_count": 51,
   "id": "34c123f4",
   "metadata": {},
   "outputs": [],
   "source": [
    "texts = []\n",
    "for sent in train_sentences:\n",
    "    texts.append(pipeline(sent))"
   ]
  },
  {
   "cell_type": "code",
   "execution_count": 52,
   "id": "7db881ca",
   "metadata": {},
   "outputs": [
    {
     "data": {
      "text/plain": [
       "['rt scjchurch_en new york feature zion christian mission center break record high graduate world christian insti',\n",
       " 'rt arynewsofficial mbbs graduate set new world record win number gold medal read https t co nbnumberyasdvznumber arynew https t',\n",
       " 'rt tedchris number number feel like world change writer editor designer coder artist suspect countless',\n",
       " 'rt namyrmya wait go to announce new actor s beoncloudnewyearparty amp previously search number amp',\n",
       " 'rt concepttvnew mbbs graduate hafiz muhammad waleed malik ameeruddin medical college lahore set new record win number gold']"
      ]
     },
     "execution_count": 52,
     "metadata": {},
     "output_type": "execute_result"
    }
   ],
   "source": [
    "texts[0:5]"
   ]
  },
  {
   "cell_type": "markdown",
   "id": "4f73a99f",
   "metadata": {},
   "source": [
    "### Compute number of unique words (vocabulary size)"
   ]
  },
  {
   "cell_type": "code",
   "execution_count": 53,
   "id": "005175bd",
   "metadata": {},
   "outputs": [
    {
     "data": {
      "text/plain": [
       "8438"
      ]
     },
     "execution_count": 53,
     "metadata": {},
     "output_type": "execute_result"
    }
   ],
   "source": [
    "vocab_size = len(set(\" \".join(texts).split(\" \")))\n",
    "vocab_size"
   ]
  },
  {
   "cell_type": "markdown",
   "id": "07745e5e",
   "metadata": {},
   "source": [
    "### Build the term-document matrix, which is BOW features in this case."
   ]
  },
  {
   "cell_type": "code",
   "execution_count": 54,
   "id": "312eb9ee",
   "metadata": {},
   "outputs": [
    {
     "data": {
      "text/plain": [
       "(scipy.sparse._csr.csr_matrix, (6000, 329))"
      ]
     },
     "execution_count": 54,
     "metadata": {},
     "output_type": "execute_result"
    }
   ],
   "source": [
    "from sklearn.feature_extraction.text import CountVectorizer, TfidfVectorizer\n",
    "bow_featurizer = CountVectorizer(max_features=vocab_size, max_df=0.95, min_df=0.005, stop_words='english')\n",
    "tfidf_featurizer = TfidfVectorizer(max_features=vocab_size, max_df=0.95, stop_words='english')\n",
    "X_bow = bow_featurizer.fit_transform(texts)\n",
    "X_tfidf = tfidf_featurizer.fit_transform(texts)\n",
    "type(X_bow), X_bow.shape"
   ]
  },
  {
   "cell_type": "code",
   "execution_count": 55,
   "id": "d10c0d47",
   "metadata": {},
   "outputs": [
    {
     "data": {
      "text/plain": [
       "(scipy.sparse._csr.csr_matrix, (6000, 8201))"
      ]
     },
     "execution_count": 55,
     "metadata": {},
     "output_type": "execute_result"
    }
   ],
   "source": [
    "type(X_tfidf),X_tfidf.shape"
   ]
  },
  {
   "cell_type": "markdown",
   "id": "e5175cfa",
   "metadata": {},
   "source": [
    "### Create a index-to-word map"
   ]
  },
  {
   "cell_type": "code",
   "execution_count": 56,
   "id": "e6dae561",
   "metadata": {},
   "outputs": [],
   "source": [
    "idxtoword = {idx: word for word, idx in bow_featurizer.vocabulary_.items()}"
   ]
  },
  {
   "cell_type": "markdown",
   "id": "2f315053",
   "metadata": {},
   "source": [
    "### Create a label"
   ]
  },
  {
   "cell_type": "code",
   "execution_count": 57,
   "id": "54501b13",
   "metadata": {},
   "outputs": [],
   "source": [
    "label1 = r1[[\"id\",\"retweet_count\"]]\n",
    "label2 = r1[[\"id\",\"favorite_count\"]]"
   ]
  },
  {
   "cell_type": "markdown",
   "id": "c6eea271",
   "metadata": {},
   "source": [
    "#### This label, retweeted means if this tweet is retweeted by other people.\n",
    "#### This label, favorited means if this tweet is favorited by other people."
   ]
  },
  {
   "cell_type": "code",
   "execution_count": 58,
   "id": "cb01c3b2",
   "metadata": {},
   "outputs": [
    {
     "name": "stderr",
     "output_type": "stream",
     "text": [
      "/var/folders/_0/b954bf3s3y76xgcc4xp4kyhc0000gn/T/ipykernel_15129/3589697755.py:1: SettingWithCopyWarning: \n",
      "A value is trying to be set on a copy of a slice from a DataFrame.\n",
      "Try using .loc[row_indexer,col_indexer] = value instead\n",
      "\n",
      "See the caveats in the documentation: https://pandas.pydata.org/pandas-docs/stable/user_guide/indexing.html#returning-a-view-versus-a-copy\n",
      "  label1['retweeted'] = label1['retweet_count'].map(lambda c:True if c>0 else False)\n",
      "/var/folders/_0/b954bf3s3y76xgcc4xp4kyhc0000gn/T/ipykernel_15129/3589697755.py:2: SettingWithCopyWarning: \n",
      "A value is trying to be set on a copy of a slice from a DataFrame.\n",
      "Try using .loc[row_indexer,col_indexer] = value instead\n",
      "\n",
      "See the caveats in the documentation: https://pandas.pydata.org/pandas-docs/stable/user_guide/indexing.html#returning-a-view-versus-a-copy\n",
      "  label2['favorited'] = label2['favorite_count'].map(lambda c:True if c>0 else False)\n"
     ]
    }
   ],
   "source": [
    "label1['retweeted'] = label1['retweet_count'].map(lambda c:True if c>0 else False)\n",
    "label2['favorited'] = label2['favorite_count'].map(lambda c:True if c>0 else False)"
   ]
  },
  {
   "cell_type": "code",
   "execution_count": 59,
   "id": "d0ffc020",
   "metadata": {},
   "outputs": [
    {
     "data": {
      "text/html": [
       "<div>\n",
       "<style scoped>\n",
       "    .dataframe tbody tr th:only-of-type {\n",
       "        vertical-align: middle;\n",
       "    }\n",
       "\n",
       "    .dataframe tbody tr th {\n",
       "        vertical-align: top;\n",
       "    }\n",
       "\n",
       "    .dataframe thead th {\n",
       "        text-align: right;\n",
       "    }\n",
       "</style>\n",
       "<table border=\"1\" class=\"dataframe\">\n",
       "  <thead>\n",
       "    <tr style=\"text-align: right;\">\n",
       "      <th></th>\n",
       "      <th>id</th>\n",
       "      <th>retweet_count</th>\n",
       "      <th>retweeted</th>\n",
       "    </tr>\n",
       "  </thead>\n",
       "  <tbody>\n",
       "    <tr>\n",
       "      <th>0</th>\n",
       "      <td>1599264591531638784</td>\n",
       "      <td>17</td>\n",
       "      <td>True</td>\n",
       "    </tr>\n",
       "    <tr>\n",
       "      <th>1</th>\n",
       "      <td>1599264378875846656</td>\n",
       "      <td>112</td>\n",
       "      <td>True</td>\n",
       "    </tr>\n",
       "    <tr>\n",
       "      <th>2</th>\n",
       "      <td>1599262688466477056</td>\n",
       "      <td>15</td>\n",
       "      <td>True</td>\n",
       "    </tr>\n",
       "    <tr>\n",
       "      <th>3</th>\n",
       "      <td>1599261187635830785</td>\n",
       "      <td>1</td>\n",
       "      <td>True</td>\n",
       "    </tr>\n",
       "    <tr>\n",
       "      <th>4</th>\n",
       "      <td>1599260268042760194</td>\n",
       "      <td>5</td>\n",
       "      <td>True</td>\n",
       "    </tr>\n",
       "  </tbody>\n",
       "</table>\n",
       "</div>"
      ],
      "text/plain": [
       "                    id  retweet_count  retweeted\n",
       "0  1599264591531638784             17       True\n",
       "1  1599264378875846656            112       True\n",
       "2  1599262688466477056             15       True\n",
       "3  1599261187635830785              1       True\n",
       "4  1599260268042760194              5       True"
      ]
     },
     "execution_count": 59,
     "metadata": {},
     "output_type": "execute_result"
    }
   ],
   "source": [
    "label1.head()"
   ]
  },
  {
   "cell_type": "code",
   "execution_count": 60,
   "id": "17e71307",
   "metadata": {},
   "outputs": [
    {
     "data": {
      "text/html": [
       "<div>\n",
       "<style scoped>\n",
       "    .dataframe tbody tr th:only-of-type {\n",
       "        vertical-align: middle;\n",
       "    }\n",
       "\n",
       "    .dataframe tbody tr th {\n",
       "        vertical-align: top;\n",
       "    }\n",
       "\n",
       "    .dataframe thead th {\n",
       "        text-align: right;\n",
       "    }\n",
       "</style>\n",
       "<table border=\"1\" class=\"dataframe\">\n",
       "  <thead>\n",
       "    <tr style=\"text-align: right;\">\n",
       "      <th></th>\n",
       "      <th>id</th>\n",
       "      <th>favorite_count</th>\n",
       "      <th>favorited</th>\n",
       "    </tr>\n",
       "  </thead>\n",
       "  <tbody>\n",
       "    <tr>\n",
       "      <th>0</th>\n",
       "      <td>1599264591531638784</td>\n",
       "      <td>0</td>\n",
       "      <td>False</td>\n",
       "    </tr>\n",
       "    <tr>\n",
       "      <th>1</th>\n",
       "      <td>1599264378875846656</td>\n",
       "      <td>0</td>\n",
       "      <td>False</td>\n",
       "    </tr>\n",
       "    <tr>\n",
       "      <th>2</th>\n",
       "      <td>1599262688466477056</td>\n",
       "      <td>0</td>\n",
       "      <td>False</td>\n",
       "    </tr>\n",
       "    <tr>\n",
       "      <th>3</th>\n",
       "      <td>1599261187635830785</td>\n",
       "      <td>0</td>\n",
       "      <td>False</td>\n",
       "    </tr>\n",
       "    <tr>\n",
       "      <th>4</th>\n",
       "      <td>1599260268042760194</td>\n",
       "      <td>0</td>\n",
       "      <td>False</td>\n",
       "    </tr>\n",
       "  </tbody>\n",
       "</table>\n",
       "</div>"
      ],
      "text/plain": [
       "                    id  favorite_count  favorited\n",
       "0  1599264591531638784               0      False\n",
       "1  1599264378875846656               0      False\n",
       "2  1599262688466477056               0      False\n",
       "3  1599261187635830785               0      False\n",
       "4  1599260268042760194               0      False"
      ]
     },
     "execution_count": 60,
     "metadata": {},
     "output_type": "execute_result"
    }
   ],
   "source": [
    "label2.head()"
   ]
  },
  {
   "cell_type": "code",
   "execution_count": 61,
   "id": "f0d27bb3",
   "metadata": {},
   "outputs": [],
   "source": [
    "tt = pd.DataFrame(texts,columns =['Clean_Text'])"
   ]
  },
  {
   "cell_type": "markdown",
   "id": "de692043",
   "metadata": {},
   "source": [
    "### As we can see, the text data is much cleaner as a lot of URLs are changed to \"https\" and all the words are in lowercase. "
   ]
  },
  {
   "cell_type": "code",
   "execution_count": 62,
   "id": "b65ee723",
   "metadata": {},
   "outputs": [],
   "source": [
    "tt = pd.concat([label1,tt],axis = 1)\n",
    "tt = pd.concat([label2,tt],axis = 1)"
   ]
  },
  {
   "cell_type": "code",
   "execution_count": 63,
   "id": "93dfa014",
   "metadata": {},
   "outputs": [],
   "source": [
    "tt.to_csv(\"textcleaning_py1.csv\",index = 0)"
   ]
  },
  {
   "cell_type": "markdown",
   "id": "e123e1c1",
   "metadata": {},
   "source": [
    "## For the remaining three data sets, we adopt the same processing method."
   ]
  },
  {
   "cell_type": "markdown",
   "id": "101349e1",
   "metadata": {},
   "source": [
    "The second dataset we need to deal with is \"raw_data2.csv\", that is, the twitter texts with the keyword of \"job hunting\"."
   ]
  },
  {
   "cell_type": "code",
   "execution_count": 64,
   "id": "f9893f77",
   "metadata": {},
   "outputs": [],
   "source": [
    "import pandas as pd\n",
    "r = pd.read_csv(\"raw_data2.csv\")"
   ]
  },
  {
   "cell_type": "markdown",
   "id": "a226b52c",
   "metadata": {},
   "source": [
    "### Select all needed columns"
   ]
  },
  {
   "cell_type": "code",
   "execution_count": 65,
   "id": "82dcef51",
   "metadata": {},
   "outputs": [
    {
     "data": {
      "text/html": [
       "<div>\n",
       "<style scoped>\n",
       "    .dataframe tbody tr th:only-of-type {\n",
       "        vertical-align: middle;\n",
       "    }\n",
       "\n",
       "    .dataframe tbody tr th {\n",
       "        vertical-align: top;\n",
       "    }\n",
       "\n",
       "    .dataframe thead th {\n",
       "        text-align: right;\n",
       "    }\n",
       "</style>\n",
       "<table border=\"1\" class=\"dataframe\">\n",
       "  <thead>\n",
       "    <tr style=\"text-align: right;\">\n",
       "      <th></th>\n",
       "      <th>Unnamed: 0</th>\n",
       "      <th>created_at</th>\n",
       "      <th>id</th>\n",
       "      <th>id_str</th>\n",
       "      <th>text</th>\n",
       "      <th>truncated</th>\n",
       "      <th>entities</th>\n",
       "      <th>metadata</th>\n",
       "      <th>source</th>\n",
       "      <th>in_reply_to_status_id</th>\n",
       "      <th>...</th>\n",
       "      <th>favorite_count</th>\n",
       "      <th>favorited</th>\n",
       "      <th>retweeted</th>\n",
       "      <th>lang</th>\n",
       "      <th>retweeted_status</th>\n",
       "      <th>possibly_sensitive</th>\n",
       "      <th>extended_entities</th>\n",
       "      <th>quoted_status_id</th>\n",
       "      <th>quoted_status_id_str</th>\n",
       "      <th>quoted_status</th>\n",
       "    </tr>\n",
       "  </thead>\n",
       "  <tbody>\n",
       "    <tr>\n",
       "      <th>0</th>\n",
       "      <td>0</td>\n",
       "      <td>Tue Dec 06 16:28:51 +0000 2022</td>\n",
       "      <td>1600165384362938368</td>\n",
       "      <td>1600165384362938368</td>\n",
       "      <td>Anyone got experience interview for job in you...</td>\n",
       "      <td>True</td>\n",
       "      <td>{'hashtags': [], 'symbols': [], 'user_mentions...</td>\n",
       "      <td>{'iso_language_code': 'en', 'result_type': 're...</td>\n",
       "      <td>&lt;a href=\"http://twitter.com/download/android\" ...</td>\n",
       "      <td>NaN</td>\n",
       "      <td>...</td>\n",
       "      <td>0</td>\n",
       "      <td>False</td>\n",
       "      <td>False</td>\n",
       "      <td>en</td>\n",
       "      <td>NaN</td>\n",
       "      <td>NaN</td>\n",
       "      <td>NaN</td>\n",
       "      <td>NaN</td>\n",
       "      <td>NaN</td>\n",
       "      <td>NaN</td>\n",
       "    </tr>\n",
       "    <tr>\n",
       "      <th>1</th>\n",
       "      <td>1</td>\n",
       "      <td>Tue Dec 06 16:28:28 +0000 2022</td>\n",
       "      <td>1600165286090461192</td>\n",
       "      <td>1600165286090461192</td>\n",
       "      <td>Nothing kills your self-esteem more than job h...</td>\n",
       "      <td>False</td>\n",
       "      <td>{'hashtags': [], 'symbols': [], 'user_mentions...</td>\n",
       "      <td>{'iso_language_code': 'en', 'result_type': 're...</td>\n",
       "      <td>&lt;a href=\"http://twitter.com/download/android\" ...</td>\n",
       "      <td>NaN</td>\n",
       "      <td>...</td>\n",
       "      <td>0</td>\n",
       "      <td>False</td>\n",
       "      <td>False</td>\n",
       "      <td>en</td>\n",
       "      <td>NaN</td>\n",
       "      <td>NaN</td>\n",
       "      <td>NaN</td>\n",
       "      <td>NaN</td>\n",
       "      <td>NaN</td>\n",
       "      <td>NaN</td>\n",
       "    </tr>\n",
       "    <tr>\n",
       "      <th>2</th>\n",
       "      <td>2</td>\n",
       "      <td>Tue Dec 06 16:27:55 +0000 2022</td>\n",
       "      <td>1600165148844445700</td>\n",
       "      <td>1600165148844445700</td>\n",
       "      <td>RT @shes_thembeka: The most annoying part abou...</td>\n",
       "      <td>False</td>\n",
       "      <td>{'hashtags': [], 'symbols': [], 'user_mentions...</td>\n",
       "      <td>{'iso_language_code': 'en', 'result_type': 're...</td>\n",
       "      <td>&lt;a href=\"http://twitter.com/download/android\" ...</td>\n",
       "      <td>NaN</td>\n",
       "      <td>...</td>\n",
       "      <td>0</td>\n",
       "      <td>False</td>\n",
       "      <td>False</td>\n",
       "      <td>en</td>\n",
       "      <td>{'created_at': 'Tue Dec 06 16:12:17 +0000 2022...</td>\n",
       "      <td>NaN</td>\n",
       "      <td>NaN</td>\n",
       "      <td>NaN</td>\n",
       "      <td>NaN</td>\n",
       "      <td>NaN</td>\n",
       "    </tr>\n",
       "    <tr>\n",
       "      <th>3</th>\n",
       "      <td>3</td>\n",
       "      <td>Tue Dec 06 16:25:41 +0000 2022</td>\n",
       "      <td>1600164584148860928</td>\n",
       "      <td>1600164584148860928</td>\n",
       "      <td>I got 2 more exams and a presentation this wee...</td>\n",
       "      <td>True</td>\n",
       "      <td>{'hashtags': [], 'symbols': [], 'user_mentions...</td>\n",
       "      <td>{'iso_language_code': 'en', 'result_type': 're...</td>\n",
       "      <td>&lt;a href=\"http://twitter.com/download/iphone\" r...</td>\n",
       "      <td>NaN</td>\n",
       "      <td>...</td>\n",
       "      <td>0</td>\n",
       "      <td>False</td>\n",
       "      <td>False</td>\n",
       "      <td>en</td>\n",
       "      <td>NaN</td>\n",
       "      <td>NaN</td>\n",
       "      <td>NaN</td>\n",
       "      <td>NaN</td>\n",
       "      <td>NaN</td>\n",
       "      <td>NaN</td>\n",
       "    </tr>\n",
       "    <tr>\n",
       "      <th>4</th>\n",
       "      <td>4</td>\n",
       "      <td>Tue Dec 06 16:24:59 +0000 2022</td>\n",
       "      <td>1600164408616898562</td>\n",
       "      <td>1600164408616898562</td>\n",
       "      <td>#jobsearch #jobopenings Email Job-Hunting Tips...</td>\n",
       "      <td>False</td>\n",
       "      <td>{'hashtags': [{'text': 'jobsearch', 'indices':...</td>\n",
       "      <td>{'iso_language_code': 'en', 'result_type': 're...</td>\n",
       "      <td>&lt;a href=\"https://mobile.twitter.com\" rel=\"nofo...</td>\n",
       "      <td>NaN</td>\n",
       "      <td>...</td>\n",
       "      <td>0</td>\n",
       "      <td>False</td>\n",
       "      <td>False</td>\n",
       "      <td>en</td>\n",
       "      <td>NaN</td>\n",
       "      <td>False</td>\n",
       "      <td>NaN</td>\n",
       "      <td>NaN</td>\n",
       "      <td>NaN</td>\n",
       "      <td>NaN</td>\n",
       "    </tr>\n",
       "    <tr>\n",
       "      <th>...</th>\n",
       "      <td>...</td>\n",
       "      <td>...</td>\n",
       "      <td>...</td>\n",
       "      <td>...</td>\n",
       "      <td>...</td>\n",
       "      <td>...</td>\n",
       "      <td>...</td>\n",
       "      <td>...</td>\n",
       "      <td>...</td>\n",
       "      <td>...</td>\n",
       "      <td>...</td>\n",
       "      <td>...</td>\n",
       "      <td>...</td>\n",
       "      <td>...</td>\n",
       "      <td>...</td>\n",
       "      <td>...</td>\n",
       "      <td>...</td>\n",
       "      <td>...</td>\n",
       "      <td>...</td>\n",
       "      <td>...</td>\n",
       "      <td>...</td>\n",
       "    </tr>\n",
       "    <tr>\n",
       "      <th>6047</th>\n",
       "      <td>6047</td>\n",
       "      <td>Tue Nov 29 10:51:52 +0000 2022</td>\n",
       "      <td>1597543863102865410</td>\n",
       "      <td>1597543863102865410</td>\n",
       "      <td>RT @Notyatyi: Job hunting /unemployment.</td>\n",
       "      <td>False</td>\n",
       "      <td>{'hashtags': [], 'symbols': [], 'user_mentions...</td>\n",
       "      <td>{'iso_language_code': 'en', 'result_type': 're...</td>\n",
       "      <td>&lt;a href=\"http://twitter.com/download/iphone\" r...</td>\n",
       "      <td>NaN</td>\n",
       "      <td>...</td>\n",
       "      <td>0</td>\n",
       "      <td>False</td>\n",
       "      <td>False</td>\n",
       "      <td>en</td>\n",
       "      <td>{'created_at': 'Tue Nov 29 05:17:01 +0000 2022...</td>\n",
       "      <td>NaN</td>\n",
       "      <td>NaN</td>\n",
       "      <td>1.597267e+18</td>\n",
       "      <td>1.597267e+18</td>\n",
       "      <td>NaN</td>\n",
       "    </tr>\n",
       "    <tr>\n",
       "      <th>6048</th>\n",
       "      <td>6048</td>\n",
       "      <td>Tue Nov 29 10:48:42 +0000 2022</td>\n",
       "      <td>1597543066256015360</td>\n",
       "      <td>1597543066256015360</td>\n",
       "      <td>If you are hunting for a DevOps engineering jo...</td>\n",
       "      <td>True</td>\n",
       "      <td>{'hashtags': [], 'symbols': [], 'user_mentions...</td>\n",
       "      <td>{'iso_language_code': 'en', 'result_type': 're...</td>\n",
       "      <td>&lt;a href=\"https://mobile.twitter.com\" rel=\"nofo...</td>\n",
       "      <td>NaN</td>\n",
       "      <td>...</td>\n",
       "      <td>0</td>\n",
       "      <td>False</td>\n",
       "      <td>False</td>\n",
       "      <td>en</td>\n",
       "      <td>NaN</td>\n",
       "      <td>NaN</td>\n",
       "      <td>NaN</td>\n",
       "      <td>NaN</td>\n",
       "      <td>NaN</td>\n",
       "      <td>NaN</td>\n",
       "    </tr>\n",
       "    <tr>\n",
       "      <th>6049</th>\n",
       "      <td>6049</td>\n",
       "      <td>Tue Nov 29 10:47:54 +0000 2022</td>\n",
       "      <td>1597542864908877824</td>\n",
       "      <td>1597542864908877824</td>\n",
       "      <td>RT @Notyatyi: Job hunting /unemployment.</td>\n",
       "      <td>False</td>\n",
       "      <td>{'hashtags': [], 'symbols': [], 'user_mentions...</td>\n",
       "      <td>{'iso_language_code': 'en', 'result_type': 're...</td>\n",
       "      <td>&lt;a href=\"http://twitter.com/download/android\" ...</td>\n",
       "      <td>NaN</td>\n",
       "      <td>...</td>\n",
       "      <td>0</td>\n",
       "      <td>False</td>\n",
       "      <td>False</td>\n",
       "      <td>en</td>\n",
       "      <td>{'created_at': 'Tue Nov 29 05:17:01 +0000 2022...</td>\n",
       "      <td>NaN</td>\n",
       "      <td>NaN</td>\n",
       "      <td>1.597267e+18</td>\n",
       "      <td>1.597267e+18</td>\n",
       "      <td>NaN</td>\n",
       "    </tr>\n",
       "    <tr>\n",
       "      <th>6050</th>\n",
       "      <td>6050</td>\n",
       "      <td>Tue Nov 29 10:44:44 +0000 2022</td>\n",
       "      <td>1597542068246544384</td>\n",
       "      <td>1597542068246544384</td>\n",
       "      <td>RT @Notyatyi: Job hunting /unemployment.</td>\n",
       "      <td>False</td>\n",
       "      <td>{'hashtags': [], 'symbols': [], 'user_mentions...</td>\n",
       "      <td>{'iso_language_code': 'en', 'result_type': 're...</td>\n",
       "      <td>&lt;a href=\"http://twitter.com/download/android\" ...</td>\n",
       "      <td>NaN</td>\n",
       "      <td>...</td>\n",
       "      <td>0</td>\n",
       "      <td>False</td>\n",
       "      <td>False</td>\n",
       "      <td>en</td>\n",
       "      <td>{'created_at': 'Tue Nov 29 05:17:01 +0000 2022...</td>\n",
       "      <td>NaN</td>\n",
       "      <td>NaN</td>\n",
       "      <td>1.597267e+18</td>\n",
       "      <td>1.597267e+18</td>\n",
       "      <td>NaN</td>\n",
       "    </tr>\n",
       "    <tr>\n",
       "      <th>6051</th>\n",
       "      <td>6051</td>\n",
       "      <td>Tue Nov 29 10:44:18 +0000 2022</td>\n",
       "      <td>1597541956858810369</td>\n",
       "      <td>1597541956858810369</td>\n",
       "      <td>RT @Taesirat_: Web3 Job hunting is the ghetto....</td>\n",
       "      <td>False</td>\n",
       "      <td>{'hashtags': [], 'symbols': [], 'user_mentions...</td>\n",
       "      <td>{'iso_language_code': 'en', 'result_type': 're...</td>\n",
       "      <td>&lt;a href=\"http://twitter.com/download/iphone\" r...</td>\n",
       "      <td>NaN</td>\n",
       "      <td>...</td>\n",
       "      <td>0</td>\n",
       "      <td>False</td>\n",
       "      <td>False</td>\n",
       "      <td>en</td>\n",
       "      <td>{'created_at': 'Tue Nov 29 10:15:01 +0000 2022...</td>\n",
       "      <td>NaN</td>\n",
       "      <td>NaN</td>\n",
       "      <td>NaN</td>\n",
       "      <td>NaN</td>\n",
       "      <td>NaN</td>\n",
       "    </tr>\n",
       "  </tbody>\n",
       "</table>\n",
       "<p>6052 rows × 31 columns</p>\n",
       "</div>"
      ],
      "text/plain": [
       "      Unnamed: 0                      created_at                   id  \\\n",
       "0              0  Tue Dec 06 16:28:51 +0000 2022  1600165384362938368   \n",
       "1              1  Tue Dec 06 16:28:28 +0000 2022  1600165286090461192   \n",
       "2              2  Tue Dec 06 16:27:55 +0000 2022  1600165148844445700   \n",
       "3              3  Tue Dec 06 16:25:41 +0000 2022  1600164584148860928   \n",
       "4              4  Tue Dec 06 16:24:59 +0000 2022  1600164408616898562   \n",
       "...          ...                             ...                  ...   \n",
       "6047        6047  Tue Nov 29 10:51:52 +0000 2022  1597543863102865410   \n",
       "6048        6048  Tue Nov 29 10:48:42 +0000 2022  1597543066256015360   \n",
       "6049        6049  Tue Nov 29 10:47:54 +0000 2022  1597542864908877824   \n",
       "6050        6050  Tue Nov 29 10:44:44 +0000 2022  1597542068246544384   \n",
       "6051        6051  Tue Nov 29 10:44:18 +0000 2022  1597541956858810369   \n",
       "\n",
       "                   id_str                                               text  \\\n",
       "0     1600165384362938368  Anyone got experience interview for job in you...   \n",
       "1     1600165286090461192  Nothing kills your self-esteem more than job h...   \n",
       "2     1600165148844445700  RT @shes_thembeka: The most annoying part abou...   \n",
       "3     1600164584148860928  I got 2 more exams and a presentation this wee...   \n",
       "4     1600164408616898562  #jobsearch #jobopenings Email Job-Hunting Tips...   \n",
       "...                   ...                                                ...   \n",
       "6047  1597543863102865410           RT @Notyatyi: Job hunting /unemployment.   \n",
       "6048  1597543066256015360  If you are hunting for a DevOps engineering jo...   \n",
       "6049  1597542864908877824           RT @Notyatyi: Job hunting /unemployment.   \n",
       "6050  1597542068246544384           RT @Notyatyi: Job hunting /unemployment.   \n",
       "6051  1597541956858810369  RT @Taesirat_: Web3 Job hunting is the ghetto....   \n",
       "\n",
       "      truncated                                           entities  \\\n",
       "0          True  {'hashtags': [], 'symbols': [], 'user_mentions...   \n",
       "1         False  {'hashtags': [], 'symbols': [], 'user_mentions...   \n",
       "2         False  {'hashtags': [], 'symbols': [], 'user_mentions...   \n",
       "3          True  {'hashtags': [], 'symbols': [], 'user_mentions...   \n",
       "4         False  {'hashtags': [{'text': 'jobsearch', 'indices':...   \n",
       "...         ...                                                ...   \n",
       "6047      False  {'hashtags': [], 'symbols': [], 'user_mentions...   \n",
       "6048       True  {'hashtags': [], 'symbols': [], 'user_mentions...   \n",
       "6049      False  {'hashtags': [], 'symbols': [], 'user_mentions...   \n",
       "6050      False  {'hashtags': [], 'symbols': [], 'user_mentions...   \n",
       "6051      False  {'hashtags': [], 'symbols': [], 'user_mentions...   \n",
       "\n",
       "                                               metadata  \\\n",
       "0     {'iso_language_code': 'en', 'result_type': 're...   \n",
       "1     {'iso_language_code': 'en', 'result_type': 're...   \n",
       "2     {'iso_language_code': 'en', 'result_type': 're...   \n",
       "3     {'iso_language_code': 'en', 'result_type': 're...   \n",
       "4     {'iso_language_code': 'en', 'result_type': 're...   \n",
       "...                                                 ...   \n",
       "6047  {'iso_language_code': 'en', 'result_type': 're...   \n",
       "6048  {'iso_language_code': 'en', 'result_type': 're...   \n",
       "6049  {'iso_language_code': 'en', 'result_type': 're...   \n",
       "6050  {'iso_language_code': 'en', 'result_type': 're...   \n",
       "6051  {'iso_language_code': 'en', 'result_type': 're...   \n",
       "\n",
       "                                                 source  \\\n",
       "0     <a href=\"http://twitter.com/download/android\" ...   \n",
       "1     <a href=\"http://twitter.com/download/android\" ...   \n",
       "2     <a href=\"http://twitter.com/download/android\" ...   \n",
       "3     <a href=\"http://twitter.com/download/iphone\" r...   \n",
       "4     <a href=\"https://mobile.twitter.com\" rel=\"nofo...   \n",
       "...                                                 ...   \n",
       "6047  <a href=\"http://twitter.com/download/iphone\" r...   \n",
       "6048  <a href=\"https://mobile.twitter.com\" rel=\"nofo...   \n",
       "6049  <a href=\"http://twitter.com/download/android\" ...   \n",
       "6050  <a href=\"http://twitter.com/download/android\" ...   \n",
       "6051  <a href=\"http://twitter.com/download/iphone\" r...   \n",
       "\n",
       "      in_reply_to_status_id  ...  favorite_count  favorited  retweeted lang  \\\n",
       "0                       NaN  ...               0      False      False   en   \n",
       "1                       NaN  ...               0      False      False   en   \n",
       "2                       NaN  ...               0      False      False   en   \n",
       "3                       NaN  ...               0      False      False   en   \n",
       "4                       NaN  ...               0      False      False   en   \n",
       "...                     ...  ...             ...        ...        ...  ...   \n",
       "6047                    NaN  ...               0      False      False   en   \n",
       "6048                    NaN  ...               0      False      False   en   \n",
       "6049                    NaN  ...               0      False      False   en   \n",
       "6050                    NaN  ...               0      False      False   en   \n",
       "6051                    NaN  ...               0      False      False   en   \n",
       "\n",
       "                                       retweeted_status possibly_sensitive  \\\n",
       "0                                                   NaN                NaN   \n",
       "1                                                   NaN                NaN   \n",
       "2     {'created_at': 'Tue Dec 06 16:12:17 +0000 2022...                NaN   \n",
       "3                                                   NaN                NaN   \n",
       "4                                                   NaN              False   \n",
       "...                                                 ...                ...   \n",
       "6047  {'created_at': 'Tue Nov 29 05:17:01 +0000 2022...                NaN   \n",
       "6048                                                NaN                NaN   \n",
       "6049  {'created_at': 'Tue Nov 29 05:17:01 +0000 2022...                NaN   \n",
       "6050  {'created_at': 'Tue Nov 29 05:17:01 +0000 2022...                NaN   \n",
       "6051  {'created_at': 'Tue Nov 29 10:15:01 +0000 2022...                NaN   \n",
       "\n",
       "     extended_entities quoted_status_id  quoted_status_id_str  quoted_status  \n",
       "0                  NaN              NaN                   NaN            NaN  \n",
       "1                  NaN              NaN                   NaN            NaN  \n",
       "2                  NaN              NaN                   NaN            NaN  \n",
       "3                  NaN              NaN                   NaN            NaN  \n",
       "4                  NaN              NaN                   NaN            NaN  \n",
       "...                ...              ...                   ...            ...  \n",
       "6047               NaN     1.597267e+18          1.597267e+18            NaN  \n",
       "6048               NaN              NaN                   NaN            NaN  \n",
       "6049               NaN     1.597267e+18          1.597267e+18            NaN  \n",
       "6050               NaN     1.597267e+18          1.597267e+18            NaN  \n",
       "6051               NaN              NaN                   NaN            NaN  \n",
       "\n",
       "[6052 rows x 31 columns]"
      ]
     },
     "execution_count": 65,
     "metadata": {},
     "output_type": "execute_result"
    }
   ],
   "source": [
    "r"
   ]
  },
  {
   "cell_type": "code",
   "execution_count": 66,
   "id": "145b7735",
   "metadata": {},
   "outputs": [],
   "source": [
    "r1 = r[[\"id\",\"text\",\"truncated\",\"entities\",\"metadata\",\"user\",\"is_quote_status\",\"favorite_count\",\"retweet_count\",\"favorited\",\"retweeted\",\"lang\",\"possibly_sensitive\"]]"
   ]
  },
  {
   "cell_type": "markdown",
   "id": "20aa2422",
   "metadata": {},
   "source": [
    "### Deal with Text data\n",
    "#### use Spacy pipeline for text normalization & preprocessing"
   ]
  },
  {
   "cell_type": "markdown",
   "id": "631c612a",
   "metadata": {},
   "source": [
    "### This is a quick look of text data"
   ]
  },
  {
   "cell_type": "code",
   "execution_count": 67,
   "id": "1c2edfe8",
   "metadata": {},
   "outputs": [],
   "source": [
    "t = r1[[\"id\",\"text\"]]"
   ]
  },
  {
   "cell_type": "code",
   "execution_count": 68,
   "id": "d2c80ad2",
   "metadata": {},
   "outputs": [
    {
     "data": {
      "text/html": [
       "<div>\n",
       "<style scoped>\n",
       "    .dataframe tbody tr th:only-of-type {\n",
       "        vertical-align: middle;\n",
       "    }\n",
       "\n",
       "    .dataframe tbody tr th {\n",
       "        vertical-align: top;\n",
       "    }\n",
       "\n",
       "    .dataframe thead th {\n",
       "        text-align: right;\n",
       "    }\n",
       "</style>\n",
       "<table border=\"1\" class=\"dataframe\">\n",
       "  <thead>\n",
       "    <tr style=\"text-align: right;\">\n",
       "      <th></th>\n",
       "      <th>id</th>\n",
       "      <th>text</th>\n",
       "    </tr>\n",
       "  </thead>\n",
       "  <tbody>\n",
       "    <tr>\n",
       "      <th>0</th>\n",
       "      <td>1600165384362938368</td>\n",
       "      <td>Anyone got experience interview for job in you...</td>\n",
       "    </tr>\n",
       "    <tr>\n",
       "      <th>1</th>\n",
       "      <td>1600165286090461192</td>\n",
       "      <td>Nothing kills your self-esteem more than job h...</td>\n",
       "    </tr>\n",
       "    <tr>\n",
       "      <th>2</th>\n",
       "      <td>1600165148844445700</td>\n",
       "      <td>RT @shes_thembeka: The most annoying part abou...</td>\n",
       "    </tr>\n",
       "    <tr>\n",
       "      <th>3</th>\n",
       "      <td>1600164584148860928</td>\n",
       "      <td>I got 2 more exams and a presentation this wee...</td>\n",
       "    </tr>\n",
       "    <tr>\n",
       "      <th>4</th>\n",
       "      <td>1600164408616898562</td>\n",
       "      <td>#jobsearch #jobopenings Email Job-Hunting Tips...</td>\n",
       "    </tr>\n",
       "  </tbody>\n",
       "</table>\n",
       "</div>"
      ],
      "text/plain": [
       "                    id                                               text\n",
       "0  1600165384362938368  Anyone got experience interview for job in you...\n",
       "1  1600165286090461192  Nothing kills your self-esteem more than job h...\n",
       "2  1600165148844445700  RT @shes_thembeka: The most annoying part abou...\n",
       "3  1600164584148860928  I got 2 more exams and a presentation this wee...\n",
       "4  1600164408616898562  #jobsearch #jobopenings Email Job-Hunting Tips..."
      ]
     },
     "execution_count": 68,
     "metadata": {},
     "output_type": "execute_result"
    }
   ],
   "source": [
    "t.head()"
   ]
  },
  {
   "cell_type": "markdown",
   "id": "f5ed013c",
   "metadata": {},
   "source": [
    "### We can find that the text is mixed with name, numbers, uppercase, which we should deal with it, so I use a pipeline to match URLs, emails, numbers and punctuation."
   ]
  },
  {
   "cell_type": "code",
   "execution_count": 69,
   "id": "4c059447",
   "metadata": {},
   "outputs": [],
   "source": [
    "texts = []\n",
    "for sent in train_sentences:\n",
    "    texts.append(pipeline(sent))"
   ]
  },
  {
   "cell_type": "code",
   "execution_count": 70,
   "id": "1eb3abe7",
   "metadata": {},
   "outputs": [
    {
     "data": {
      "text/plain": [
       "['rt scjchurch_en new york feature zion christian mission center break record high graduate world christian insti',\n",
       " 'rt arynewsofficial mbbs graduate set new world record win number gold medal read https t co nbnumberyasdvznumber arynew https t',\n",
       " 'rt tedchris number number feel like world change writer editor designer coder artist suspect countless',\n",
       " 'rt namyrmya wait go to announce new actor s beoncloudnewyearparty amp previously search number amp',\n",
       " 'rt concepttvnew mbbs graduate hafiz muhammad waleed malik ameeruddin medical college lahore set new record win number gold']"
      ]
     },
     "execution_count": 70,
     "metadata": {},
     "output_type": "execute_result"
    }
   ],
   "source": [
    "texts[0:5]"
   ]
  },
  {
   "cell_type": "markdown",
   "id": "c42fdfce",
   "metadata": {},
   "source": [
    "### Compute number of unique words (vocabulary size)"
   ]
  },
  {
   "cell_type": "code",
   "execution_count": 71,
   "id": "ff049d09",
   "metadata": {},
   "outputs": [
    {
     "data": {
      "text/plain": [
       "8438"
      ]
     },
     "execution_count": 71,
     "metadata": {},
     "output_type": "execute_result"
    }
   ],
   "source": [
    "vocab_size = len(set(\" \".join(texts).split(\" \")))\n",
    "vocab_size"
   ]
  },
  {
   "cell_type": "markdown",
   "id": "8f0cb0b7",
   "metadata": {},
   "source": [
    "### Build the term-document matrix, which is BOW features in this case."
   ]
  },
  {
   "cell_type": "code",
   "execution_count": 72,
   "id": "177a3152",
   "metadata": {},
   "outputs": [
    {
     "data": {
      "text/plain": [
       "(scipy.sparse._csr.csr_matrix, (6000, 329))"
      ]
     },
     "execution_count": 72,
     "metadata": {},
     "output_type": "execute_result"
    }
   ],
   "source": [
    "from sklearn.feature_extraction.text import CountVectorizer, TfidfVectorizer\n",
    "bow_featurizer = CountVectorizer(max_features=vocab_size, max_df=0.95, min_df=0.005, stop_words='english')\n",
    "tfidf_featurizer = TfidfVectorizer(max_features=vocab_size, max_df=0.95, stop_words='english')\n",
    "X_bow = bow_featurizer.fit_transform(texts)\n",
    "X_tfidf = tfidf_featurizer.fit_transform(texts)\n",
    "type(X_bow), X_bow.shape"
   ]
  },
  {
   "cell_type": "code",
   "execution_count": 73,
   "id": "cbcaf0e3",
   "metadata": {},
   "outputs": [
    {
     "data": {
      "text/plain": [
       "(scipy.sparse._csr.csr_matrix, (6000, 8201))"
      ]
     },
     "execution_count": 73,
     "metadata": {},
     "output_type": "execute_result"
    }
   ],
   "source": [
    "type(X_tfidf),X_tfidf.shape"
   ]
  },
  {
   "cell_type": "markdown",
   "id": "d836f762",
   "metadata": {},
   "source": [
    "### Create a index-to-word map"
   ]
  },
  {
   "cell_type": "code",
   "execution_count": 74,
   "id": "08273056",
   "metadata": {},
   "outputs": [],
   "source": [
    "idxtoword = {idx: word for word, idx in bow_featurizer.vocabulary_.items()}"
   ]
  },
  {
   "cell_type": "markdown",
   "id": "4d8504df",
   "metadata": {},
   "source": [
    "### Create a label"
   ]
  },
  {
   "cell_type": "code",
   "execution_count": 75,
   "id": "641d2978",
   "metadata": {},
   "outputs": [],
   "source": [
    "label1 = r1[[\"id\",\"retweet_count\"]]\n",
    "label2 = r1[[\"id\",\"favorite_count\"]]"
   ]
  },
  {
   "cell_type": "markdown",
   "id": "5c2b3ee7",
   "metadata": {},
   "source": [
    "#### This label, retweeted means if this tweet is retweeted by other people.\n",
    "#### This label, favorited means if this tweet is favorited by other people."
   ]
  },
  {
   "cell_type": "code",
   "execution_count": 76,
   "id": "957a4907",
   "metadata": {},
   "outputs": [
    {
     "name": "stderr",
     "output_type": "stream",
     "text": [
      "/var/folders/_0/b954bf3s3y76xgcc4xp4kyhc0000gn/T/ipykernel_15129/3589697755.py:1: SettingWithCopyWarning: \n",
      "A value is trying to be set on a copy of a slice from a DataFrame.\n",
      "Try using .loc[row_indexer,col_indexer] = value instead\n",
      "\n",
      "See the caveats in the documentation: https://pandas.pydata.org/pandas-docs/stable/user_guide/indexing.html#returning-a-view-versus-a-copy\n",
      "  label1['retweeted'] = label1['retweet_count'].map(lambda c:True if c>0 else False)\n",
      "/var/folders/_0/b954bf3s3y76xgcc4xp4kyhc0000gn/T/ipykernel_15129/3589697755.py:2: SettingWithCopyWarning: \n",
      "A value is trying to be set on a copy of a slice from a DataFrame.\n",
      "Try using .loc[row_indexer,col_indexer] = value instead\n",
      "\n",
      "See the caveats in the documentation: https://pandas.pydata.org/pandas-docs/stable/user_guide/indexing.html#returning-a-view-versus-a-copy\n",
      "  label2['favorited'] = label2['favorite_count'].map(lambda c:True if c>0 else False)\n"
     ]
    }
   ],
   "source": [
    "label1['retweeted'] = label1['retweet_count'].map(lambda c:True if c>0 else False)\n",
    "label2['favorited'] = label2['favorite_count'].map(lambda c:True if c>0 else False)"
   ]
  },
  {
   "cell_type": "code",
   "execution_count": 77,
   "id": "f1e134c8",
   "metadata": {},
   "outputs": [
    {
     "data": {
      "text/html": [
       "<div>\n",
       "<style scoped>\n",
       "    .dataframe tbody tr th:only-of-type {\n",
       "        vertical-align: middle;\n",
       "    }\n",
       "\n",
       "    .dataframe tbody tr th {\n",
       "        vertical-align: top;\n",
       "    }\n",
       "\n",
       "    .dataframe thead th {\n",
       "        text-align: right;\n",
       "    }\n",
       "</style>\n",
       "<table border=\"1\" class=\"dataframe\">\n",
       "  <thead>\n",
       "    <tr style=\"text-align: right;\">\n",
       "      <th></th>\n",
       "      <th>id</th>\n",
       "      <th>retweet_count</th>\n",
       "      <th>retweeted</th>\n",
       "    </tr>\n",
       "  </thead>\n",
       "  <tbody>\n",
       "    <tr>\n",
       "      <th>0</th>\n",
       "      <td>1600165384362938368</td>\n",
       "      <td>0</td>\n",
       "      <td>False</td>\n",
       "    </tr>\n",
       "    <tr>\n",
       "      <th>1</th>\n",
       "      <td>1600165286090461192</td>\n",
       "      <td>0</td>\n",
       "      <td>False</td>\n",
       "    </tr>\n",
       "    <tr>\n",
       "      <th>2</th>\n",
       "      <td>1600165148844445700</td>\n",
       "      <td>1</td>\n",
       "      <td>True</td>\n",
       "    </tr>\n",
       "    <tr>\n",
       "      <th>3</th>\n",
       "      <td>1600164584148860928</td>\n",
       "      <td>0</td>\n",
       "      <td>False</td>\n",
       "    </tr>\n",
       "    <tr>\n",
       "      <th>4</th>\n",
       "      <td>1600164408616898562</td>\n",
       "      <td>0</td>\n",
       "      <td>False</td>\n",
       "    </tr>\n",
       "  </tbody>\n",
       "</table>\n",
       "</div>"
      ],
      "text/plain": [
       "                    id  retweet_count  retweeted\n",
       "0  1600165384362938368              0      False\n",
       "1  1600165286090461192              0      False\n",
       "2  1600165148844445700              1       True\n",
       "3  1600164584148860928              0      False\n",
       "4  1600164408616898562              0      False"
      ]
     },
     "execution_count": 77,
     "metadata": {},
     "output_type": "execute_result"
    }
   ],
   "source": [
    "label1.head()"
   ]
  },
  {
   "cell_type": "code",
   "execution_count": 78,
   "id": "7bc6b48b",
   "metadata": {},
   "outputs": [
    {
     "data": {
      "text/html": [
       "<div>\n",
       "<style scoped>\n",
       "    .dataframe tbody tr th:only-of-type {\n",
       "        vertical-align: middle;\n",
       "    }\n",
       "\n",
       "    .dataframe tbody tr th {\n",
       "        vertical-align: top;\n",
       "    }\n",
       "\n",
       "    .dataframe thead th {\n",
       "        text-align: right;\n",
       "    }\n",
       "</style>\n",
       "<table border=\"1\" class=\"dataframe\">\n",
       "  <thead>\n",
       "    <tr style=\"text-align: right;\">\n",
       "      <th></th>\n",
       "      <th>id</th>\n",
       "      <th>favorite_count</th>\n",
       "      <th>favorited</th>\n",
       "    </tr>\n",
       "  </thead>\n",
       "  <tbody>\n",
       "    <tr>\n",
       "      <th>0</th>\n",
       "      <td>1600165384362938368</td>\n",
       "      <td>0</td>\n",
       "      <td>False</td>\n",
       "    </tr>\n",
       "    <tr>\n",
       "      <th>1</th>\n",
       "      <td>1600165286090461192</td>\n",
       "      <td>0</td>\n",
       "      <td>False</td>\n",
       "    </tr>\n",
       "    <tr>\n",
       "      <th>2</th>\n",
       "      <td>1600165148844445700</td>\n",
       "      <td>0</td>\n",
       "      <td>False</td>\n",
       "    </tr>\n",
       "    <tr>\n",
       "      <th>3</th>\n",
       "      <td>1600164584148860928</td>\n",
       "      <td>0</td>\n",
       "      <td>False</td>\n",
       "    </tr>\n",
       "    <tr>\n",
       "      <th>4</th>\n",
       "      <td>1600164408616898562</td>\n",
       "      <td>0</td>\n",
       "      <td>False</td>\n",
       "    </tr>\n",
       "  </tbody>\n",
       "</table>\n",
       "</div>"
      ],
      "text/plain": [
       "                    id  favorite_count  favorited\n",
       "0  1600165384362938368               0      False\n",
       "1  1600165286090461192               0      False\n",
       "2  1600165148844445700               0      False\n",
       "3  1600164584148860928               0      False\n",
       "4  1600164408616898562               0      False"
      ]
     },
     "execution_count": 78,
     "metadata": {},
     "output_type": "execute_result"
    }
   ],
   "source": [
    "label2.head()"
   ]
  },
  {
   "cell_type": "markdown",
   "id": "ae4c3923",
   "metadata": {},
   "source": [
    "### As we can see, the text data is much cleaner as a lot of URLs are changed to \"https\" and all the words are in lowercase. "
   ]
  },
  {
   "cell_type": "code",
   "execution_count": 79,
   "id": "af99fb37",
   "metadata": {},
   "outputs": [],
   "source": [
    "tt = pd.concat([label1,tt],axis = 1)\n",
    "tt = pd.concat([label2,tt],axis = 1)"
   ]
  },
  {
   "cell_type": "code",
   "execution_count": 80,
   "id": "713062fa",
   "metadata": {},
   "outputs": [],
   "source": [
    "tt.to_csv(\"textcleaning_py2.csv\",index = 0)"
   ]
  },
  {
   "cell_type": "markdown",
   "id": "75c16644",
   "metadata": {},
   "source": [
    "The third dataset we need to deal with is \"raw_data3.csv\", that is, the twitter texts with the keyword of \"job or work\"."
   ]
  },
  {
   "cell_type": "code",
   "execution_count": 81,
   "id": "a5b71f4f",
   "metadata": {},
   "outputs": [],
   "source": [
    "import pandas as pd\n",
    "r = pd.read_csv(\"raw_data3.csv\")"
   ]
  },
  {
   "cell_type": "markdown",
   "id": "8eff6ebb",
   "metadata": {},
   "source": [
    "### Select all needed columns"
   ]
  },
  {
   "cell_type": "code",
   "execution_count": 82,
   "id": "8b511e24",
   "metadata": {},
   "outputs": [
    {
     "data": {
      "text/html": [
       "<div>\n",
       "<style scoped>\n",
       "    .dataframe tbody tr th:only-of-type {\n",
       "        vertical-align: middle;\n",
       "    }\n",
       "\n",
       "    .dataframe tbody tr th {\n",
       "        vertical-align: top;\n",
       "    }\n",
       "\n",
       "    .dataframe thead th {\n",
       "        text-align: right;\n",
       "    }\n",
       "</style>\n",
       "<table border=\"1\" class=\"dataframe\">\n",
       "  <thead>\n",
       "    <tr style=\"text-align: right;\">\n",
       "      <th></th>\n",
       "      <th>Unnamed: 0</th>\n",
       "      <th>created_at</th>\n",
       "      <th>id</th>\n",
       "      <th>id_str</th>\n",
       "      <th>text</th>\n",
       "      <th>truncated</th>\n",
       "      <th>entities</th>\n",
       "      <th>metadata</th>\n",
       "      <th>source</th>\n",
       "      <th>in_reply_to_status_id</th>\n",
       "      <th>...</th>\n",
       "      <th>retweet_count</th>\n",
       "      <th>favorite_count</th>\n",
       "      <th>favorited</th>\n",
       "      <th>retweeted</th>\n",
       "      <th>lang</th>\n",
       "      <th>extended_entities</th>\n",
       "      <th>possibly_sensitive</th>\n",
       "      <th>quoted_status_id</th>\n",
       "      <th>quoted_status_id_str</th>\n",
       "      <th>quoted_status</th>\n",
       "    </tr>\n",
       "  </thead>\n",
       "  <tbody>\n",
       "    <tr>\n",
       "      <th>0</th>\n",
       "      <td>0</td>\n",
       "      <td>Tue Dec 06 16:32:45 +0000 2022</td>\n",
       "      <td>1600166363456507904</td>\n",
       "      <td>1600166363456507904</td>\n",
       "      <td>RT @CNNHeroes: This is your last chance to vot...</td>\n",
       "      <td>False</td>\n",
       "      <td>{'hashtags': [], 'symbols': [], 'user_mentions...</td>\n",
       "      <td>{'iso_language_code': 'en', 'result_type': 're...</td>\n",
       "      <td>&lt;a href=\"http://twitter.com/#!/download/ipad\" ...</td>\n",
       "      <td>NaN</td>\n",
       "      <td>...</td>\n",
       "      <td>1</td>\n",
       "      <td>0</td>\n",
       "      <td>False</td>\n",
       "      <td>False</td>\n",
       "      <td>en</td>\n",
       "      <td>NaN</td>\n",
       "      <td>NaN</td>\n",
       "      <td>NaN</td>\n",
       "      <td>NaN</td>\n",
       "      <td>NaN</td>\n",
       "    </tr>\n",
       "    <tr>\n",
       "      <th>1</th>\n",
       "      <td>1</td>\n",
       "      <td>Tue Dec 06 16:32:45 +0000 2022</td>\n",
       "      <td>1600166363347419136</td>\n",
       "      <td>1600166363347419136</td>\n",
       "      <td>work pays off. 1   good life meet slomy  A0.0Z...</td>\n",
       "      <td>False</td>\n",
       "      <td>{'hashtags': [], 'symbols': [], 'user_mentions...</td>\n",
       "      <td>{'iso_language_code': 'en', 'result_type': 're...</td>\n",
       "      <td>&lt;a href=\"http://twitter.com/download/android\" ...</td>\n",
       "      <td>NaN</td>\n",
       "      <td>...</td>\n",
       "      <td>0</td>\n",
       "      <td>0</td>\n",
       "      <td>False</td>\n",
       "      <td>False</td>\n",
       "      <td>en</td>\n",
       "      <td>{'media': [{'id': 1600135851400638464, 'id_str...</td>\n",
       "      <td>False</td>\n",
       "      <td>NaN</td>\n",
       "      <td>NaN</td>\n",
       "      <td>NaN</td>\n",
       "    </tr>\n",
       "    <tr>\n",
       "      <th>2</th>\n",
       "      <td>2</td>\n",
       "      <td>Tue Dec 06 16:32:45 +0000 2022</td>\n",
       "      <td>1600166362420170762</td>\n",
       "      <td>1600166362420170762</td>\n",
       "      <td>RT @CSSZNi: Pogba in the 2018 World Cup has to...</td>\n",
       "      <td>False</td>\n",
       "      <td>{'hashtags': [], 'symbols': [], 'user_mentions...</td>\n",
       "      <td>{'iso_language_code': 'en', 'result_type': 're...</td>\n",
       "      <td>&lt;a href=\"http://twitter.com/download/android\" ...</td>\n",
       "      <td>NaN</td>\n",
       "      <td>...</td>\n",
       "      <td>19</td>\n",
       "      <td>0</td>\n",
       "      <td>False</td>\n",
       "      <td>False</td>\n",
       "      <td>en</td>\n",
       "      <td>NaN</td>\n",
       "      <td>NaN</td>\n",
       "      <td>NaN</td>\n",
       "      <td>NaN</td>\n",
       "      <td>NaN</td>\n",
       "    </tr>\n",
       "    <tr>\n",
       "      <th>3</th>\n",
       "      <td>3</td>\n",
       "      <td>Tue Dec 06 16:32:45 +0000 2022</td>\n",
       "      <td>1600166362139480066</td>\n",
       "      <td>1600166362139480066</td>\n",
       "      <td>Most urban corporation are controlled by BJP. ...</td>\n",
       "      <td>True</td>\n",
       "      <td>{'hashtags': [], 'symbols': [], 'user_mentions...</td>\n",
       "      <td>{'iso_language_code': 'en', 'result_type': 're...</td>\n",
       "      <td>&lt;a href=\"http://twitter.com/download/android\" ...</td>\n",
       "      <td>NaN</td>\n",
       "      <td>...</td>\n",
       "      <td>0</td>\n",
       "      <td>0</td>\n",
       "      <td>False</td>\n",
       "      <td>False</td>\n",
       "      <td>en</td>\n",
       "      <td>NaN</td>\n",
       "      <td>False</td>\n",
       "      <td>1.600165e+18</td>\n",
       "      <td>1.600165e+18</td>\n",
       "      <td>{'created_at': 'Tue Dec 06 16:25:42 +0000 2022...</td>\n",
       "    </tr>\n",
       "    <tr>\n",
       "      <th>4</th>\n",
       "      <td>4</td>\n",
       "      <td>Tue Dec 06 16:32:44 +0000 2022</td>\n",
       "      <td>1600166361803653131</td>\n",
       "      <td>1600166361803653131</td>\n",
       "      <td>RT @KTP92: “World powers fear a united people ...</td>\n",
       "      <td>False</td>\n",
       "      <td>{'hashtags': [], 'symbols': [], 'user_mentions...</td>\n",
       "      <td>{'iso_language_code': 'en', 'result_type': 're...</td>\n",
       "      <td>&lt;a href=\"https://tweetoshi.com\" rel=\"nofollow\"...</td>\n",
       "      <td>NaN</td>\n",
       "      <td>...</td>\n",
       "      <td>38</td>\n",
       "      <td>0</td>\n",
       "      <td>False</td>\n",
       "      <td>False</td>\n",
       "      <td>en</td>\n",
       "      <td>NaN</td>\n",
       "      <td>NaN</td>\n",
       "      <td>NaN</td>\n",
       "      <td>NaN</td>\n",
       "      <td>NaN</td>\n",
       "    </tr>\n",
       "  </tbody>\n",
       "</table>\n",
       "<p>5 rows × 31 columns</p>\n",
       "</div>"
      ],
      "text/plain": [
       "   Unnamed: 0                      created_at                   id  \\\n",
       "0           0  Tue Dec 06 16:32:45 +0000 2022  1600166363456507904   \n",
       "1           1  Tue Dec 06 16:32:45 +0000 2022  1600166363347419136   \n",
       "2           2  Tue Dec 06 16:32:45 +0000 2022  1600166362420170762   \n",
       "3           3  Tue Dec 06 16:32:45 +0000 2022  1600166362139480066   \n",
       "4           4  Tue Dec 06 16:32:44 +0000 2022  1600166361803653131   \n",
       "\n",
       "                id_str                                               text  \\\n",
       "0  1600166363456507904  RT @CNNHeroes: This is your last chance to vot...   \n",
       "1  1600166363347419136  work pays off. 1   good life meet slomy  A0.0Z...   \n",
       "2  1600166362420170762  RT @CSSZNi: Pogba in the 2018 World Cup has to...   \n",
       "3  1600166362139480066  Most urban corporation are controlled by BJP. ...   \n",
       "4  1600166361803653131  RT @KTP92: “World powers fear a united people ...   \n",
       "\n",
       "   truncated                                           entities  \\\n",
       "0      False  {'hashtags': [], 'symbols': [], 'user_mentions...   \n",
       "1      False  {'hashtags': [], 'symbols': [], 'user_mentions...   \n",
       "2      False  {'hashtags': [], 'symbols': [], 'user_mentions...   \n",
       "3       True  {'hashtags': [], 'symbols': [], 'user_mentions...   \n",
       "4      False  {'hashtags': [], 'symbols': [], 'user_mentions...   \n",
       "\n",
       "                                            metadata  \\\n",
       "0  {'iso_language_code': 'en', 'result_type': 're...   \n",
       "1  {'iso_language_code': 'en', 'result_type': 're...   \n",
       "2  {'iso_language_code': 'en', 'result_type': 're...   \n",
       "3  {'iso_language_code': 'en', 'result_type': 're...   \n",
       "4  {'iso_language_code': 'en', 'result_type': 're...   \n",
       "\n",
       "                                              source  in_reply_to_status_id  \\\n",
       "0  <a href=\"http://twitter.com/#!/download/ipad\" ...                    NaN   \n",
       "1  <a href=\"http://twitter.com/download/android\" ...                    NaN   \n",
       "2  <a href=\"http://twitter.com/download/android\" ...                    NaN   \n",
       "3  <a href=\"http://twitter.com/download/android\" ...                    NaN   \n",
       "4  <a href=\"https://tweetoshi.com\" rel=\"nofollow\"...                    NaN   \n",
       "\n",
       "   ...  retweet_count  favorite_count  favorited retweeted lang  \\\n",
       "0  ...              1               0      False     False   en   \n",
       "1  ...              0               0      False     False   en   \n",
       "2  ...             19               0      False     False   en   \n",
       "3  ...              0               0      False     False   en   \n",
       "4  ...             38               0      False     False   en   \n",
       "\n",
       "                                   extended_entities possibly_sensitive  \\\n",
       "0                                                NaN                NaN   \n",
       "1  {'media': [{'id': 1600135851400638464, 'id_str...              False   \n",
       "2                                                NaN                NaN   \n",
       "3                                                NaN              False   \n",
       "4                                                NaN                NaN   \n",
       "\n",
       "  quoted_status_id  quoted_status_id_str  \\\n",
       "0              NaN                   NaN   \n",
       "1              NaN                   NaN   \n",
       "2              NaN                   NaN   \n",
       "3     1.600165e+18          1.600165e+18   \n",
       "4              NaN                   NaN   \n",
       "\n",
       "                                       quoted_status  \n",
       "0                                                NaN  \n",
       "1                                                NaN  \n",
       "2                                                NaN  \n",
       "3  {'created_at': 'Tue Dec 06 16:25:42 +0000 2022...  \n",
       "4                                                NaN  \n",
       "\n",
       "[5 rows x 31 columns]"
      ]
     },
     "execution_count": 82,
     "metadata": {},
     "output_type": "execute_result"
    }
   ],
   "source": [
    "r.head()"
   ]
  },
  {
   "cell_type": "code",
   "execution_count": 83,
   "id": "4c13d61b",
   "metadata": {},
   "outputs": [],
   "source": [
    "r1 = r[[\"id\",\"text\",\"truncated\",\"entities\",\"metadata\",\"user\",\"is_quote_status\",\"favorite_count\",\"retweet_count\",\"favorited\",\"retweeted\",\"lang\",\"possibly_sensitive\"]]"
   ]
  },
  {
   "cell_type": "markdown",
   "id": "8810cbbb",
   "metadata": {},
   "source": [
    "### Deal with Text data\n",
    "#### use Spacy pipeline for text normalization & preprocessing"
   ]
  },
  {
   "cell_type": "markdown",
   "id": "5d30afcc",
   "metadata": {},
   "source": [
    "### This is a quick look of text data"
   ]
  },
  {
   "cell_type": "code",
   "execution_count": 84,
   "id": "25a9685b",
   "metadata": {},
   "outputs": [],
   "source": [
    "t = r1[[\"id\",\"text\"]]"
   ]
  },
  {
   "cell_type": "code",
   "execution_count": 85,
   "id": "8a641499",
   "metadata": {},
   "outputs": [
    {
     "data": {
      "text/html": [
       "<div>\n",
       "<style scoped>\n",
       "    .dataframe tbody tr th:only-of-type {\n",
       "        vertical-align: middle;\n",
       "    }\n",
       "\n",
       "    .dataframe tbody tr th {\n",
       "        vertical-align: top;\n",
       "    }\n",
       "\n",
       "    .dataframe thead th {\n",
       "        text-align: right;\n",
       "    }\n",
       "</style>\n",
       "<table border=\"1\" class=\"dataframe\">\n",
       "  <thead>\n",
       "    <tr style=\"text-align: right;\">\n",
       "      <th></th>\n",
       "      <th>id</th>\n",
       "      <th>text</th>\n",
       "    </tr>\n",
       "  </thead>\n",
       "  <tbody>\n",
       "    <tr>\n",
       "      <th>0</th>\n",
       "      <td>1600166363456507904</td>\n",
       "      <td>RT @CNNHeroes: This is your last chance to vot...</td>\n",
       "    </tr>\n",
       "    <tr>\n",
       "      <th>1</th>\n",
       "      <td>1600166363347419136</td>\n",
       "      <td>work pays off. 1   good life meet slomy  A0.0Z...</td>\n",
       "    </tr>\n",
       "    <tr>\n",
       "      <th>2</th>\n",
       "      <td>1600166362420170762</td>\n",
       "      <td>RT @CSSZNi: Pogba in the 2018 World Cup has to...</td>\n",
       "    </tr>\n",
       "    <tr>\n",
       "      <th>3</th>\n",
       "      <td>1600166362139480066</td>\n",
       "      <td>Most urban corporation are controlled by BJP. ...</td>\n",
       "    </tr>\n",
       "    <tr>\n",
       "      <th>4</th>\n",
       "      <td>1600166361803653131</td>\n",
       "      <td>RT @KTP92: “World powers fear a united people ...</td>\n",
       "    </tr>\n",
       "  </tbody>\n",
       "</table>\n",
       "</div>"
      ],
      "text/plain": [
       "                    id                                               text\n",
       "0  1600166363456507904  RT @CNNHeroes: This is your last chance to vot...\n",
       "1  1600166363347419136  work pays off. 1   good life meet slomy  A0.0Z...\n",
       "2  1600166362420170762  RT @CSSZNi: Pogba in the 2018 World Cup has to...\n",
       "3  1600166362139480066  Most urban corporation are controlled by BJP. ...\n",
       "4  1600166361803653131  RT @KTP92: “World powers fear a united people ..."
      ]
     },
     "execution_count": 85,
     "metadata": {},
     "output_type": "execute_result"
    }
   ],
   "source": [
    "t.head()"
   ]
  },
  {
   "cell_type": "markdown",
   "id": "109944dd",
   "metadata": {},
   "source": [
    "### We can find that the text is mixed with name, numbers, uppercase, which we should deal with it, so I use a pipeline to match URLs, emails, numbers and punctuation."
   ]
  },
  {
   "cell_type": "markdown",
   "id": "f83509f0",
   "metadata": {},
   "source": [
    "### Pass data through our Spacy pipeline"
   ]
  },
  {
   "cell_type": "code",
   "execution_count": 86,
   "id": "6acd4722",
   "metadata": {},
   "outputs": [],
   "source": [
    "texts = []\n",
    "for sent in train_sentences:\n",
    "    texts.append(pipeline(sent))"
   ]
  },
  {
   "cell_type": "code",
   "execution_count": 87,
   "id": "2acaa5ec",
   "metadata": {},
   "outputs": [
    {
     "data": {
      "text/plain": [
       "['rt scjchurch_en new york feature zion christian mission center break record high graduate world christian insti',\n",
       " 'rt arynewsofficial mbbs graduate set new world record win number gold medal read https t co nbnumberyasdvznumber arynew https t',\n",
       " 'rt tedchris number number feel like world change writer editor designer coder artist suspect countless',\n",
       " 'rt namyrmya wait go to announce new actor s beoncloudnewyearparty amp previously search number amp',\n",
       " 'rt concepttvnew mbbs graduate hafiz muhammad waleed malik ameeruddin medical college lahore set new record win number gold']"
      ]
     },
     "execution_count": 87,
     "metadata": {},
     "output_type": "execute_result"
    }
   ],
   "source": [
    "texts[0:5]"
   ]
  },
  {
   "cell_type": "markdown",
   "id": "9ec9af54",
   "metadata": {},
   "source": [
    "### Compute number of unique words (vocabulary size)"
   ]
  },
  {
   "cell_type": "code",
   "execution_count": 88,
   "id": "b8ce3f6b",
   "metadata": {},
   "outputs": [
    {
     "data": {
      "text/plain": [
       "8438"
      ]
     },
     "execution_count": 88,
     "metadata": {},
     "output_type": "execute_result"
    }
   ],
   "source": [
    "vocab_size = len(set(\" \".join(texts).split(\" \")))\n",
    "vocab_size"
   ]
  },
  {
   "cell_type": "markdown",
   "id": "9f9a76da",
   "metadata": {},
   "source": [
    "### Build the term-document matrix, which is BOW features in this case."
   ]
  },
  {
   "cell_type": "code",
   "execution_count": 89,
   "id": "b619a713",
   "metadata": {},
   "outputs": [
    {
     "data": {
      "text/plain": [
       "(scipy.sparse._csr.csr_matrix, (6000, 329))"
      ]
     },
     "execution_count": 89,
     "metadata": {},
     "output_type": "execute_result"
    }
   ],
   "source": [
    "from sklearn.feature_extraction.text import CountVectorizer, TfidfVectorizer\n",
    "bow_featurizer = CountVectorizer(max_features=vocab_size, max_df=0.95, min_df=0.005, stop_words='english')\n",
    "tfidf_featurizer = TfidfVectorizer(max_features=vocab_size, max_df=0.95, stop_words='english')\n",
    "X_bow = bow_featurizer.fit_transform(texts)\n",
    "X_tfidf = tfidf_featurizer.fit_transform(texts)\n",
    "type(X_bow), X_bow.shape"
   ]
  },
  {
   "cell_type": "code",
   "execution_count": 90,
   "id": "478c580c",
   "metadata": {},
   "outputs": [
    {
     "data": {
      "text/plain": [
       "(scipy.sparse._csr.csr_matrix, (6000, 8201))"
      ]
     },
     "execution_count": 90,
     "metadata": {},
     "output_type": "execute_result"
    }
   ],
   "source": [
    "type(X_tfidf),X_tfidf.shape"
   ]
  },
  {
   "cell_type": "markdown",
   "id": "78ddc80b",
   "metadata": {},
   "source": [
    "### Create a index-to-word map"
   ]
  },
  {
   "cell_type": "code",
   "execution_count": 91,
   "id": "f685118d",
   "metadata": {},
   "outputs": [],
   "source": [
    "idxtoword = {idx: word for word, idx in bow_featurizer.vocabulary_.items()}"
   ]
  },
  {
   "cell_type": "markdown",
   "id": "6f8a04d7",
   "metadata": {},
   "source": [
    "### Create a label"
   ]
  },
  {
   "cell_type": "code",
   "execution_count": 92,
   "id": "1f7824cc",
   "metadata": {},
   "outputs": [],
   "source": [
    "label1 = r1[[\"id\",\"retweet_count\"]]\n",
    "label2 = r1[[\"id\",\"favorite_count\"]]"
   ]
  },
  {
   "cell_type": "markdown",
   "id": "965cc4f6",
   "metadata": {},
   "source": [
    "#### This label, retweeted means if this tweet is retweeted by other people.\n",
    "#### This label, favorited means if this tweet is favorited by other people."
   ]
  },
  {
   "cell_type": "code",
   "execution_count": 93,
   "id": "c32bde91",
   "metadata": {},
   "outputs": [
    {
     "name": "stderr",
     "output_type": "stream",
     "text": [
      "/var/folders/_0/b954bf3s3y76xgcc4xp4kyhc0000gn/T/ipykernel_15129/3589697755.py:1: SettingWithCopyWarning: \n",
      "A value is trying to be set on a copy of a slice from a DataFrame.\n",
      "Try using .loc[row_indexer,col_indexer] = value instead\n",
      "\n",
      "See the caveats in the documentation: https://pandas.pydata.org/pandas-docs/stable/user_guide/indexing.html#returning-a-view-versus-a-copy\n",
      "  label1['retweeted'] = label1['retweet_count'].map(lambda c:True if c>0 else False)\n",
      "/var/folders/_0/b954bf3s3y76xgcc4xp4kyhc0000gn/T/ipykernel_15129/3589697755.py:2: SettingWithCopyWarning: \n",
      "A value is trying to be set on a copy of a slice from a DataFrame.\n",
      "Try using .loc[row_indexer,col_indexer] = value instead\n",
      "\n",
      "See the caveats in the documentation: https://pandas.pydata.org/pandas-docs/stable/user_guide/indexing.html#returning-a-view-versus-a-copy\n",
      "  label2['favorited'] = label2['favorite_count'].map(lambda c:True if c>0 else False)\n"
     ]
    }
   ],
   "source": [
    "label1['retweeted'] = label1['retweet_count'].map(lambda c:True if c>0 else False)\n",
    "label2['favorited'] = label2['favorite_count'].map(lambda c:True if c>0 else False)"
   ]
  },
  {
   "cell_type": "code",
   "execution_count": 94,
   "id": "cfdd646c",
   "metadata": {},
   "outputs": [
    {
     "data": {
      "text/html": [
       "<div>\n",
       "<style scoped>\n",
       "    .dataframe tbody tr th:only-of-type {\n",
       "        vertical-align: middle;\n",
       "    }\n",
       "\n",
       "    .dataframe tbody tr th {\n",
       "        vertical-align: top;\n",
       "    }\n",
       "\n",
       "    .dataframe thead th {\n",
       "        text-align: right;\n",
       "    }\n",
       "</style>\n",
       "<table border=\"1\" class=\"dataframe\">\n",
       "  <thead>\n",
       "    <tr style=\"text-align: right;\">\n",
       "      <th></th>\n",
       "      <th>id</th>\n",
       "      <th>retweet_count</th>\n",
       "      <th>retweeted</th>\n",
       "    </tr>\n",
       "  </thead>\n",
       "  <tbody>\n",
       "    <tr>\n",
       "      <th>0</th>\n",
       "      <td>1600166363456507904</td>\n",
       "      <td>1</td>\n",
       "      <td>True</td>\n",
       "    </tr>\n",
       "    <tr>\n",
       "      <th>1</th>\n",
       "      <td>1600166363347419136</td>\n",
       "      <td>0</td>\n",
       "      <td>False</td>\n",
       "    </tr>\n",
       "    <tr>\n",
       "      <th>2</th>\n",
       "      <td>1600166362420170762</td>\n",
       "      <td>19</td>\n",
       "      <td>True</td>\n",
       "    </tr>\n",
       "    <tr>\n",
       "      <th>3</th>\n",
       "      <td>1600166362139480066</td>\n",
       "      <td>0</td>\n",
       "      <td>False</td>\n",
       "    </tr>\n",
       "    <tr>\n",
       "      <th>4</th>\n",
       "      <td>1600166361803653131</td>\n",
       "      <td>38</td>\n",
       "      <td>True</td>\n",
       "    </tr>\n",
       "  </tbody>\n",
       "</table>\n",
       "</div>"
      ],
      "text/plain": [
       "                    id  retweet_count  retweeted\n",
       "0  1600166363456507904              1       True\n",
       "1  1600166363347419136              0      False\n",
       "2  1600166362420170762             19       True\n",
       "3  1600166362139480066              0      False\n",
       "4  1600166361803653131             38       True"
      ]
     },
     "execution_count": 94,
     "metadata": {},
     "output_type": "execute_result"
    }
   ],
   "source": [
    "label1.head()"
   ]
  },
  {
   "cell_type": "code",
   "execution_count": 95,
   "id": "d84ab2e5",
   "metadata": {},
   "outputs": [
    {
     "data": {
      "text/html": [
       "<div>\n",
       "<style scoped>\n",
       "    .dataframe tbody tr th:only-of-type {\n",
       "        vertical-align: middle;\n",
       "    }\n",
       "\n",
       "    .dataframe tbody tr th {\n",
       "        vertical-align: top;\n",
       "    }\n",
       "\n",
       "    .dataframe thead th {\n",
       "        text-align: right;\n",
       "    }\n",
       "</style>\n",
       "<table border=\"1\" class=\"dataframe\">\n",
       "  <thead>\n",
       "    <tr style=\"text-align: right;\">\n",
       "      <th></th>\n",
       "      <th>id</th>\n",
       "      <th>favorite_count</th>\n",
       "      <th>favorited</th>\n",
       "    </tr>\n",
       "  </thead>\n",
       "  <tbody>\n",
       "    <tr>\n",
       "      <th>0</th>\n",
       "      <td>1600166363456507904</td>\n",
       "      <td>0</td>\n",
       "      <td>False</td>\n",
       "    </tr>\n",
       "    <tr>\n",
       "      <th>1</th>\n",
       "      <td>1600166363347419136</td>\n",
       "      <td>0</td>\n",
       "      <td>False</td>\n",
       "    </tr>\n",
       "    <tr>\n",
       "      <th>2</th>\n",
       "      <td>1600166362420170762</td>\n",
       "      <td>0</td>\n",
       "      <td>False</td>\n",
       "    </tr>\n",
       "    <tr>\n",
       "      <th>3</th>\n",
       "      <td>1600166362139480066</td>\n",
       "      <td>0</td>\n",
       "      <td>False</td>\n",
       "    </tr>\n",
       "    <tr>\n",
       "      <th>4</th>\n",
       "      <td>1600166361803653131</td>\n",
       "      <td>0</td>\n",
       "      <td>False</td>\n",
       "    </tr>\n",
       "  </tbody>\n",
       "</table>\n",
       "</div>"
      ],
      "text/plain": [
       "                    id  favorite_count  favorited\n",
       "0  1600166363456507904               0      False\n",
       "1  1600166363347419136               0      False\n",
       "2  1600166362420170762               0      False\n",
       "3  1600166362139480066               0      False\n",
       "4  1600166361803653131               0      False"
      ]
     },
     "execution_count": 95,
     "metadata": {},
     "output_type": "execute_result"
    }
   ],
   "source": [
    "label2.head()"
   ]
  },
  {
   "cell_type": "code",
   "execution_count": 96,
   "id": "9c0c3c76",
   "metadata": {},
   "outputs": [],
   "source": [
    "tt = pd.DataFrame(texts,columns =['Clean_Text'])"
   ]
  },
  {
   "cell_type": "markdown",
   "id": "d32e3d54",
   "metadata": {},
   "source": [
    "### As we can see, the text data is much cleaner as a lot of URLs are changed to \"https\" and all the words are in lowercase. "
   ]
  },
  {
   "cell_type": "code",
   "execution_count": 97,
   "id": "b100edd6",
   "metadata": {},
   "outputs": [],
   "source": [
    "tt = pd.concat([label1,tt],axis = 1)\n",
    "tt = pd.concat([label2,tt],axis = 1)"
   ]
  },
  {
   "cell_type": "code",
   "execution_count": 98,
   "id": "1b80d554",
   "metadata": {},
   "outputs": [],
   "source": [
    "tt.to_csv(\"textcleaning_py3.csv\",index = 0)"
   ]
  },
  {
   "cell_type": "markdown",
   "id": "e287d813",
   "metadata": {},
   "source": [
    "The second dataset we need to deal with is \"raw_data4.csv\", that is, the twitter texts with the keyword of \"retire\"."
   ]
  },
  {
   "cell_type": "code",
   "execution_count": 99,
   "id": "b29fb1ae",
   "metadata": {},
   "outputs": [],
   "source": [
    "import pandas as pd\n",
    "r = pd.read_csv(\"raw_data4.csv\")"
   ]
  },
  {
   "cell_type": "markdown",
   "id": "c4d9db30",
   "metadata": {},
   "source": [
    "### Select all needed columns"
   ]
  },
  {
   "cell_type": "code",
   "execution_count": 100,
   "id": "256a32d6",
   "metadata": {},
   "outputs": [
    {
     "data": {
      "text/html": [
       "<div>\n",
       "<style scoped>\n",
       "    .dataframe tbody tr th:only-of-type {\n",
       "        vertical-align: middle;\n",
       "    }\n",
       "\n",
       "    .dataframe tbody tr th {\n",
       "        vertical-align: top;\n",
       "    }\n",
       "\n",
       "    .dataframe thead th {\n",
       "        text-align: right;\n",
       "    }\n",
       "</style>\n",
       "<table border=\"1\" class=\"dataframe\">\n",
       "  <thead>\n",
       "    <tr style=\"text-align: right;\">\n",
       "      <th></th>\n",
       "      <th>Unnamed: 0</th>\n",
       "      <th>created_at</th>\n",
       "      <th>id</th>\n",
       "      <th>id_str</th>\n",
       "      <th>text</th>\n",
       "      <th>truncated</th>\n",
       "      <th>entities</th>\n",
       "      <th>metadata</th>\n",
       "      <th>source</th>\n",
       "      <th>in_reply_to_status_id</th>\n",
       "      <th>...</th>\n",
       "      <th>favorite_count</th>\n",
       "      <th>favorited</th>\n",
       "      <th>retweeted</th>\n",
       "      <th>lang</th>\n",
       "      <th>quoted_status_id</th>\n",
       "      <th>quoted_status_id_str</th>\n",
       "      <th>quoted_status</th>\n",
       "      <th>possibly_sensitive</th>\n",
       "      <th>extended_entities</th>\n",
       "      <th>withheld_in_countries</th>\n",
       "    </tr>\n",
       "  </thead>\n",
       "  <tbody>\n",
       "    <tr>\n",
       "      <th>0</th>\n",
       "      <td>0</td>\n",
       "      <td>Tue Dec 06 16:46:49 +0000 2022</td>\n",
       "      <td>1600169903952388097</td>\n",
       "      <td>1600169903952388097</td>\n",
       "      <td>RT @bcliberals: According to BC Family Doctors...</td>\n",
       "      <td>False</td>\n",
       "      <td>{'hashtags': [], 'symbols': [], 'user_mentions...</td>\n",
       "      <td>{'iso_language_code': 'en', 'result_type': 're...</td>\n",
       "      <td>&lt;a href=\"http://twitter.com/download/iphone\" r...</td>\n",
       "      <td>NaN</td>\n",
       "      <td>...</td>\n",
       "      <td>0</td>\n",
       "      <td>False</td>\n",
       "      <td>False</td>\n",
       "      <td>en</td>\n",
       "      <td>NaN</td>\n",
       "      <td>NaN</td>\n",
       "      <td>NaN</td>\n",
       "      <td>NaN</td>\n",
       "      <td>NaN</td>\n",
       "      <td>NaN</td>\n",
       "    </tr>\n",
       "    <tr>\n",
       "      <th>1</th>\n",
       "      <td>1</td>\n",
       "      <td>Tue Dec 06 16:46:46 +0000 2022</td>\n",
       "      <td>1600169889607450629</td>\n",
       "      <td>1600169889607450629</td>\n",
       "      <td>RT @DeborahDian: Where should you retire?  Wha...</td>\n",
       "      <td>False</td>\n",
       "      <td>{'hashtags': [], 'symbols': [], 'user_mentions...</td>\n",
       "      <td>{'iso_language_code': 'en', 'result_type': 're...</td>\n",
       "      <td>&lt;a href=\"http://twitter.com/#!/download/ipad\" ...</td>\n",
       "      <td>NaN</td>\n",
       "      <td>...</td>\n",
       "      <td>0</td>\n",
       "      <td>False</td>\n",
       "      <td>False</td>\n",
       "      <td>en</td>\n",
       "      <td>NaN</td>\n",
       "      <td>NaN</td>\n",
       "      <td>NaN</td>\n",
       "      <td>NaN</td>\n",
       "      <td>NaN</td>\n",
       "      <td>NaN</td>\n",
       "    </tr>\n",
       "    <tr>\n",
       "      <th>2</th>\n",
       "      <td>2</td>\n",
       "      <td>Tue Dec 06 16:46:28 +0000 2022</td>\n",
       "      <td>1600169817964617728</td>\n",
       "      <td>1600169817964617728</td>\n",
       "      <td>RT @roadto_billions: My plan is to retire from...</td>\n",
       "      <td>False</td>\n",
       "      <td>{'hashtags': [{'text': 'dividends', 'indices':...</td>\n",
       "      <td>{'iso_language_code': 'en', 'result_type': 're...</td>\n",
       "      <td>&lt;a href=\"http://twitter.com/download/iphone\" r...</td>\n",
       "      <td>NaN</td>\n",
       "      <td>...</td>\n",
       "      <td>0</td>\n",
       "      <td>False</td>\n",
       "      <td>False</td>\n",
       "      <td>en</td>\n",
       "      <td>NaN</td>\n",
       "      <td>NaN</td>\n",
       "      <td>NaN</td>\n",
       "      <td>NaN</td>\n",
       "      <td>NaN</td>\n",
       "      <td>NaN</td>\n",
       "    </tr>\n",
       "    <tr>\n",
       "      <th>3</th>\n",
       "      <td>3</td>\n",
       "      <td>Tue Dec 06 16:46:20 +0000 2022</td>\n",
       "      <td>1600169780840759299</td>\n",
       "      <td>1600169780840759299</td>\n",
       "      <td>Crazy they let this man “retire” when it’s cau...</td>\n",
       "      <td>True</td>\n",
       "      <td>{'hashtags': [], 'symbols': [], 'user_mentions...</td>\n",
       "      <td>{'iso_language_code': 'en', 'result_type': 're...</td>\n",
       "      <td>&lt;a href=\"http://twitter.com/download/iphone\" r...</td>\n",
       "      <td>NaN</td>\n",
       "      <td>...</td>\n",
       "      <td>0</td>\n",
       "      <td>False</td>\n",
       "      <td>False</td>\n",
       "      <td>en</td>\n",
       "      <td>1.599923e+18</td>\n",
       "      <td>1.599923e+18</td>\n",
       "      <td>{'created_at': 'Tue Dec 06 00:24:56 +0000 2022...</td>\n",
       "      <td>False</td>\n",
       "      <td>NaN</td>\n",
       "      <td>NaN</td>\n",
       "    </tr>\n",
       "    <tr>\n",
       "      <th>4</th>\n",
       "      <td>4</td>\n",
       "      <td>Tue Dec 06 16:46:19 +0000 2022</td>\n",
       "      <td>1600169779519574016</td>\n",
       "      <td>1600169779519574016</td>\n",
       "      <td>All the tweets about #tombrady should retire a...</td>\n",
       "      <td>True</td>\n",
       "      <td>{'hashtags': [{'text': 'tombrady', 'indices': ...</td>\n",
       "      <td>{'iso_language_code': 'en', 'result_type': 're...</td>\n",
       "      <td>&lt;a href=\"http://twitter.com/download/iphone\" r...</td>\n",
       "      <td>NaN</td>\n",
       "      <td>...</td>\n",
       "      <td>0</td>\n",
       "      <td>False</td>\n",
       "      <td>False</td>\n",
       "      <td>en</td>\n",
       "      <td>NaN</td>\n",
       "      <td>NaN</td>\n",
       "      <td>NaN</td>\n",
       "      <td>NaN</td>\n",
       "      <td>NaN</td>\n",
       "      <td>NaN</td>\n",
       "    </tr>\n",
       "  </tbody>\n",
       "</table>\n",
       "<p>5 rows × 32 columns</p>\n",
       "</div>"
      ],
      "text/plain": [
       "   Unnamed: 0                      created_at                   id  \\\n",
       "0           0  Tue Dec 06 16:46:49 +0000 2022  1600169903952388097   \n",
       "1           1  Tue Dec 06 16:46:46 +0000 2022  1600169889607450629   \n",
       "2           2  Tue Dec 06 16:46:28 +0000 2022  1600169817964617728   \n",
       "3           3  Tue Dec 06 16:46:20 +0000 2022  1600169780840759299   \n",
       "4           4  Tue Dec 06 16:46:19 +0000 2022  1600169779519574016   \n",
       "\n",
       "                id_str                                               text  \\\n",
       "0  1600169903952388097  RT @bcliberals: According to BC Family Doctors...   \n",
       "1  1600169889607450629  RT @DeborahDian: Where should you retire?  Wha...   \n",
       "2  1600169817964617728  RT @roadto_billions: My plan is to retire from...   \n",
       "3  1600169780840759299  Crazy they let this man “retire” when it’s cau...   \n",
       "4  1600169779519574016  All the tweets about #tombrady should retire a...   \n",
       "\n",
       "   truncated                                           entities  \\\n",
       "0      False  {'hashtags': [], 'symbols': [], 'user_mentions...   \n",
       "1      False  {'hashtags': [], 'symbols': [], 'user_mentions...   \n",
       "2      False  {'hashtags': [{'text': 'dividends', 'indices':...   \n",
       "3       True  {'hashtags': [], 'symbols': [], 'user_mentions...   \n",
       "4       True  {'hashtags': [{'text': 'tombrady', 'indices': ...   \n",
       "\n",
       "                                            metadata  \\\n",
       "0  {'iso_language_code': 'en', 'result_type': 're...   \n",
       "1  {'iso_language_code': 'en', 'result_type': 're...   \n",
       "2  {'iso_language_code': 'en', 'result_type': 're...   \n",
       "3  {'iso_language_code': 'en', 'result_type': 're...   \n",
       "4  {'iso_language_code': 'en', 'result_type': 're...   \n",
       "\n",
       "                                              source  in_reply_to_status_id  \\\n",
       "0  <a href=\"http://twitter.com/download/iphone\" r...                    NaN   \n",
       "1  <a href=\"http://twitter.com/#!/download/ipad\" ...                    NaN   \n",
       "2  <a href=\"http://twitter.com/download/iphone\" r...                    NaN   \n",
       "3  <a href=\"http://twitter.com/download/iphone\" r...                    NaN   \n",
       "4  <a href=\"http://twitter.com/download/iphone\" r...                    NaN   \n",
       "\n",
       "   ...  favorite_count  favorited  retweeted lang quoted_status_id  \\\n",
       "0  ...               0      False      False   en              NaN   \n",
       "1  ...               0      False      False   en              NaN   \n",
       "2  ...               0      False      False   en              NaN   \n",
       "3  ...               0      False      False   en     1.599923e+18   \n",
       "4  ...               0      False      False   en              NaN   \n",
       "\n",
       "   quoted_status_id_str                                      quoted_status  \\\n",
       "0                   NaN                                                NaN   \n",
       "1                   NaN                                                NaN   \n",
       "2                   NaN                                                NaN   \n",
       "3          1.599923e+18  {'created_at': 'Tue Dec 06 00:24:56 +0000 2022...   \n",
       "4                   NaN                                                NaN   \n",
       "\n",
       "  possibly_sensitive  extended_entities withheld_in_countries  \n",
       "0                NaN                NaN                   NaN  \n",
       "1                NaN                NaN                   NaN  \n",
       "2                NaN                NaN                   NaN  \n",
       "3              False                NaN                   NaN  \n",
       "4                NaN                NaN                   NaN  \n",
       "\n",
       "[5 rows x 32 columns]"
      ]
     },
     "execution_count": 100,
     "metadata": {},
     "output_type": "execute_result"
    }
   ],
   "source": [
    "r.head()"
   ]
  },
  {
   "cell_type": "code",
   "execution_count": 101,
   "id": "aaeb2721",
   "metadata": {},
   "outputs": [],
   "source": [
    "r1 = r[[\"id\",\"text\",\"truncated\",\"entities\",\"metadata\",\"user\",\"is_quote_status\",\"favorite_count\",\"retweet_count\",\"favorited\",\"retweeted\",\"lang\",\"possibly_sensitive\"]]"
   ]
  },
  {
   "cell_type": "markdown",
   "id": "c6563f37",
   "metadata": {},
   "source": [
    "### Deal with Text data\n",
    "#### use Spacy pipeline for text normalization & preprocessing"
   ]
  },
  {
   "cell_type": "markdown",
   "id": "cad50a4a",
   "metadata": {},
   "source": [
    "### This is a quick look of text data"
   ]
  },
  {
   "cell_type": "code",
   "execution_count": 102,
   "id": "41ff08ed",
   "metadata": {},
   "outputs": [],
   "source": [
    "t = r1[[\"id\",\"text\"]]"
   ]
  },
  {
   "cell_type": "code",
   "execution_count": 103,
   "id": "f23434cc",
   "metadata": {},
   "outputs": [
    {
     "data": {
      "text/html": [
       "<div>\n",
       "<style scoped>\n",
       "    .dataframe tbody tr th:only-of-type {\n",
       "        vertical-align: middle;\n",
       "    }\n",
       "\n",
       "    .dataframe tbody tr th {\n",
       "        vertical-align: top;\n",
       "    }\n",
       "\n",
       "    .dataframe thead th {\n",
       "        text-align: right;\n",
       "    }\n",
       "</style>\n",
       "<table border=\"1\" class=\"dataframe\">\n",
       "  <thead>\n",
       "    <tr style=\"text-align: right;\">\n",
       "      <th></th>\n",
       "      <th>id</th>\n",
       "      <th>text</th>\n",
       "    </tr>\n",
       "  </thead>\n",
       "  <tbody>\n",
       "    <tr>\n",
       "      <th>0</th>\n",
       "      <td>1600169903952388097</td>\n",
       "      <td>RT @bcliberals: According to BC Family Doctors...</td>\n",
       "    </tr>\n",
       "    <tr>\n",
       "      <th>1</th>\n",
       "      <td>1600169889607450629</td>\n",
       "      <td>RT @DeborahDian: Where should you retire?  Wha...</td>\n",
       "    </tr>\n",
       "    <tr>\n",
       "      <th>2</th>\n",
       "      <td>1600169817964617728</td>\n",
       "      <td>RT @roadto_billions: My plan is to retire from...</td>\n",
       "    </tr>\n",
       "    <tr>\n",
       "      <th>3</th>\n",
       "      <td>1600169780840759299</td>\n",
       "      <td>Crazy they let this man “retire” when it’s cau...</td>\n",
       "    </tr>\n",
       "    <tr>\n",
       "      <th>4</th>\n",
       "      <td>1600169779519574016</td>\n",
       "      <td>All the tweets about #tombrady should retire a...</td>\n",
       "    </tr>\n",
       "  </tbody>\n",
       "</table>\n",
       "</div>"
      ],
      "text/plain": [
       "                    id                                               text\n",
       "0  1600169903952388097  RT @bcliberals: According to BC Family Doctors...\n",
       "1  1600169889607450629  RT @DeborahDian: Where should you retire?  Wha...\n",
       "2  1600169817964617728  RT @roadto_billions: My plan is to retire from...\n",
       "3  1600169780840759299  Crazy they let this man “retire” when it’s cau...\n",
       "4  1600169779519574016  All the tweets about #tombrady should retire a..."
      ]
     },
     "execution_count": 103,
     "metadata": {},
     "output_type": "execute_result"
    }
   ],
   "source": [
    "t.head()"
   ]
  },
  {
   "cell_type": "markdown",
   "id": "1a9aaccf",
   "metadata": {},
   "source": [
    "### We can find that the text is mixed with name, numbers, uppercase, which we should deal with it, so I use a pipeline to match URLs, emails, numbers and punctuation."
   ]
  },
  {
   "cell_type": "code",
   "execution_count": 104,
   "id": "58259126",
   "metadata": {},
   "outputs": [],
   "source": [
    "texts = []\n",
    "for sent in train_sentences:\n",
    "    texts.append(pipeline(sent))"
   ]
  },
  {
   "cell_type": "code",
   "execution_count": 105,
   "id": "ce41c662",
   "metadata": {},
   "outputs": [
    {
     "data": {
      "text/plain": [
       "['rt scjchurch_en new york feature zion christian mission center break record high graduate world christian insti',\n",
       " 'rt arynewsofficial mbbs graduate set new world record win number gold medal read https t co nbnumberyasdvznumber arynew https t',\n",
       " 'rt tedchris number number feel like world change writer editor designer coder artist suspect countless',\n",
       " 'rt namyrmya wait go to announce new actor s beoncloudnewyearparty amp previously search number amp',\n",
       " 'rt concepttvnew mbbs graduate hafiz muhammad waleed malik ameeruddin medical college lahore set new record win number gold']"
      ]
     },
     "execution_count": 105,
     "metadata": {},
     "output_type": "execute_result"
    }
   ],
   "source": [
    "texts[0:5]"
   ]
  },
  {
   "cell_type": "markdown",
   "id": "05b4d5eb",
   "metadata": {},
   "source": [
    "### Compute number of unique words (vocabulary size)"
   ]
  },
  {
   "cell_type": "code",
   "execution_count": 106,
   "id": "62b761d9",
   "metadata": {},
   "outputs": [
    {
     "data": {
      "text/plain": [
       "8438"
      ]
     },
     "execution_count": 106,
     "metadata": {},
     "output_type": "execute_result"
    }
   ],
   "source": [
    "vocab_size = len(set(\" \".join(texts).split(\" \")))\n",
    "vocab_size"
   ]
  },
  {
   "cell_type": "markdown",
   "id": "18072bfa",
   "metadata": {},
   "source": [
    "### Build the term-document matrix, which is BOW features in this case."
   ]
  },
  {
   "cell_type": "code",
   "execution_count": 107,
   "id": "6a5668a8",
   "metadata": {},
   "outputs": [
    {
     "data": {
      "text/plain": [
       "(scipy.sparse._csr.csr_matrix, (6000, 329))"
      ]
     },
     "execution_count": 107,
     "metadata": {},
     "output_type": "execute_result"
    }
   ],
   "source": [
    "from sklearn.feature_extraction.text import CountVectorizer, TfidfVectorizer\n",
    "bow_featurizer = CountVectorizer(max_features=vocab_size, max_df=0.95, min_df=0.005, stop_words='english')\n",
    "tfidf_featurizer = TfidfVectorizer(max_features=vocab_size, max_df=0.95, stop_words='english')\n",
    "X_bow = bow_featurizer.fit_transform(texts)\n",
    "X_tfidf = tfidf_featurizer.fit_transform(texts)\n",
    "type(X_bow), X_bow.shape"
   ]
  },
  {
   "cell_type": "code",
   "execution_count": 108,
   "id": "871dc54b",
   "metadata": {},
   "outputs": [
    {
     "data": {
      "text/plain": [
       "(scipy.sparse._csr.csr_matrix, (6000, 8201))"
      ]
     },
     "execution_count": 108,
     "metadata": {},
     "output_type": "execute_result"
    }
   ],
   "source": [
    "type(X_tfidf),X_tfidf.shape"
   ]
  },
  {
   "cell_type": "markdown",
   "id": "074a1348",
   "metadata": {},
   "source": [
    "### Create a index-to-word map"
   ]
  },
  {
   "cell_type": "code",
   "execution_count": 109,
   "id": "bf6559c9",
   "metadata": {},
   "outputs": [],
   "source": [
    "idxtoword = {idx: word for word, idx in bow_featurizer.vocabulary_.items()}"
   ]
  },
  {
   "cell_type": "markdown",
   "id": "38895440",
   "metadata": {},
   "source": [
    "### Create a label"
   ]
  },
  {
   "cell_type": "code",
   "execution_count": 110,
   "id": "4de77e5c",
   "metadata": {},
   "outputs": [],
   "source": [
    "label1 = r1[[\"id\",\"retweet_count\"]]\n",
    "label2 = r1[[\"id\",\"favorite_count\"]]"
   ]
  },
  {
   "cell_type": "markdown",
   "id": "586ba572",
   "metadata": {},
   "source": [
    "#### This label, retweeted means if this tweet is retweeted by other people.\n",
    "#### This label, favorited means if this tweet is favorited by other people."
   ]
  },
  {
   "cell_type": "code",
   "execution_count": 111,
   "id": "602226b6",
   "metadata": {},
   "outputs": [
    {
     "name": "stderr",
     "output_type": "stream",
     "text": [
      "/var/folders/_0/b954bf3s3y76xgcc4xp4kyhc0000gn/T/ipykernel_15129/3589697755.py:1: SettingWithCopyWarning: \n",
      "A value is trying to be set on a copy of a slice from a DataFrame.\n",
      "Try using .loc[row_indexer,col_indexer] = value instead\n",
      "\n",
      "See the caveats in the documentation: https://pandas.pydata.org/pandas-docs/stable/user_guide/indexing.html#returning-a-view-versus-a-copy\n",
      "  label1['retweeted'] = label1['retweet_count'].map(lambda c:True if c>0 else False)\n",
      "/var/folders/_0/b954bf3s3y76xgcc4xp4kyhc0000gn/T/ipykernel_15129/3589697755.py:2: SettingWithCopyWarning: \n",
      "A value is trying to be set on a copy of a slice from a DataFrame.\n",
      "Try using .loc[row_indexer,col_indexer] = value instead\n",
      "\n",
      "See the caveats in the documentation: https://pandas.pydata.org/pandas-docs/stable/user_guide/indexing.html#returning-a-view-versus-a-copy\n",
      "  label2['favorited'] = label2['favorite_count'].map(lambda c:True if c>0 else False)\n"
     ]
    }
   ],
   "source": [
    "label1['retweeted'] = label1['retweet_count'].map(lambda c:True if c>0 else False)\n",
    "label2['favorited'] = label2['favorite_count'].map(lambda c:True if c>0 else False)"
   ]
  },
  {
   "cell_type": "code",
   "execution_count": 112,
   "id": "6561ef09",
   "metadata": {},
   "outputs": [
    {
     "data": {
      "text/html": [
       "<div>\n",
       "<style scoped>\n",
       "    .dataframe tbody tr th:only-of-type {\n",
       "        vertical-align: middle;\n",
       "    }\n",
       "\n",
       "    .dataframe tbody tr th {\n",
       "        vertical-align: top;\n",
       "    }\n",
       "\n",
       "    .dataframe thead th {\n",
       "        text-align: right;\n",
       "    }\n",
       "</style>\n",
       "<table border=\"1\" class=\"dataframe\">\n",
       "  <thead>\n",
       "    <tr style=\"text-align: right;\">\n",
       "      <th></th>\n",
       "      <th>id</th>\n",
       "      <th>retweet_count</th>\n",
       "      <th>retweeted</th>\n",
       "    </tr>\n",
       "  </thead>\n",
       "  <tbody>\n",
       "    <tr>\n",
       "      <th>0</th>\n",
       "      <td>1600169903952388097</td>\n",
       "      <td>9</td>\n",
       "      <td>True</td>\n",
       "    </tr>\n",
       "    <tr>\n",
       "      <th>1</th>\n",
       "      <td>1600169889607450629</td>\n",
       "      <td>1</td>\n",
       "      <td>True</td>\n",
       "    </tr>\n",
       "    <tr>\n",
       "      <th>2</th>\n",
       "      <td>1600169817964617728</td>\n",
       "      <td>1</td>\n",
       "      <td>True</td>\n",
       "    </tr>\n",
       "    <tr>\n",
       "      <th>3</th>\n",
       "      <td>1600169780840759299</td>\n",
       "      <td>0</td>\n",
       "      <td>False</td>\n",
       "    </tr>\n",
       "    <tr>\n",
       "      <th>4</th>\n",
       "      <td>1600169779519574016</td>\n",
       "      <td>0</td>\n",
       "      <td>False</td>\n",
       "    </tr>\n",
       "  </tbody>\n",
       "</table>\n",
       "</div>"
      ],
      "text/plain": [
       "                    id  retweet_count  retweeted\n",
       "0  1600169903952388097              9       True\n",
       "1  1600169889607450629              1       True\n",
       "2  1600169817964617728              1       True\n",
       "3  1600169780840759299              0      False\n",
       "4  1600169779519574016              0      False"
      ]
     },
     "execution_count": 112,
     "metadata": {},
     "output_type": "execute_result"
    }
   ],
   "source": [
    "label1.head()"
   ]
  },
  {
   "cell_type": "code",
   "execution_count": 113,
   "id": "cdb7619b",
   "metadata": {},
   "outputs": [
    {
     "data": {
      "text/html": [
       "<div>\n",
       "<style scoped>\n",
       "    .dataframe tbody tr th:only-of-type {\n",
       "        vertical-align: middle;\n",
       "    }\n",
       "\n",
       "    .dataframe tbody tr th {\n",
       "        vertical-align: top;\n",
       "    }\n",
       "\n",
       "    .dataframe thead th {\n",
       "        text-align: right;\n",
       "    }\n",
       "</style>\n",
       "<table border=\"1\" class=\"dataframe\">\n",
       "  <thead>\n",
       "    <tr style=\"text-align: right;\">\n",
       "      <th></th>\n",
       "      <th>id</th>\n",
       "      <th>favorite_count</th>\n",
       "      <th>favorited</th>\n",
       "    </tr>\n",
       "  </thead>\n",
       "  <tbody>\n",
       "    <tr>\n",
       "      <th>0</th>\n",
       "      <td>1600169903952388097</td>\n",
       "      <td>0</td>\n",
       "      <td>False</td>\n",
       "    </tr>\n",
       "    <tr>\n",
       "      <th>1</th>\n",
       "      <td>1600169889607450629</td>\n",
       "      <td>0</td>\n",
       "      <td>False</td>\n",
       "    </tr>\n",
       "    <tr>\n",
       "      <th>2</th>\n",
       "      <td>1600169817964617728</td>\n",
       "      <td>0</td>\n",
       "      <td>False</td>\n",
       "    </tr>\n",
       "    <tr>\n",
       "      <th>3</th>\n",
       "      <td>1600169780840759299</td>\n",
       "      <td>0</td>\n",
       "      <td>False</td>\n",
       "    </tr>\n",
       "    <tr>\n",
       "      <th>4</th>\n",
       "      <td>1600169779519574016</td>\n",
       "      <td>0</td>\n",
       "      <td>False</td>\n",
       "    </tr>\n",
       "  </tbody>\n",
       "</table>\n",
       "</div>"
      ],
      "text/plain": [
       "                    id  favorite_count  favorited\n",
       "0  1600169903952388097               0      False\n",
       "1  1600169889607450629               0      False\n",
       "2  1600169817964617728               0      False\n",
       "3  1600169780840759299               0      False\n",
       "4  1600169779519574016               0      False"
      ]
     },
     "execution_count": 113,
     "metadata": {},
     "output_type": "execute_result"
    }
   ],
   "source": [
    "label2.head()"
   ]
  },
  {
   "cell_type": "markdown",
   "id": "6b9024c6",
   "metadata": {},
   "source": [
    "### As we can see, the text data is much cleaner as a lot of URLs are changed to \"https\" and all the words are in lowercase. "
   ]
  },
  {
   "cell_type": "code",
   "execution_count": 114,
   "id": "c833a039",
   "metadata": {},
   "outputs": [],
   "source": [
    "tt = pd.concat([label1,tt],axis = 1)\n",
    "tt = pd.concat([label2,tt],axis = 1)"
   ]
  },
  {
   "cell_type": "code",
   "execution_count": 115,
   "id": "8d79c2f0",
   "metadata": {},
   "outputs": [],
   "source": [
    "tt.to_csv(\"textcleaning_py4.csv\",index = 0)"
   ]
  }
 ],
 "metadata": {
  "kernelspec": {
   "display_name": "Python 3 (ipykernel)",
   "language": "python",
   "name": "python3"
  },
  "language_info": {
   "codemirror_mode": {
    "name": "ipython",
    "version": 3
   },
   "file_extension": ".py",
   "mimetype": "text/x-python",
   "name": "python",
   "nbconvert_exporter": "python",
   "pygments_lexer": "ipython3",
   "version": "3.10.4"
  }
 },
 "nbformat": 4,
 "nbformat_minor": 5
}
