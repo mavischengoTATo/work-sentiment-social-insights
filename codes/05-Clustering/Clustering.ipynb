{
 "cells": [
  {
   "cell_type": "markdown",
   "id": "35335173",
   "metadata": {},
   "source": [
    "# Clustering"
   ]
  },
  {
   "cell_type": "markdown",
   "id": "e17309c7",
   "metadata": {},
   "source": [
    "## Introduction\n",
    "#### In this part, our feature data X is the TFIDF format converted from our crawled Twitter content. TFIDF, short for term frequency–inverse document frequency, is a numerical statistic. The effect of this format aims to reflect how important a word is to a document in a collection or corpus. And also there is other fomrat like BOW, which treats every word equally while TFIDF wants to weight the importance of diffierent word. And in this case, we suggest that the TFIDF value can increase to the number of times one word in the document proportionally and can be offset by the number of documents in the corpus having the word. In this way, it can help people to adjust as some words appear more frequently in general, as articles, conjunctions and demonstrative pronouns."
   ]
  },
  {
   "cell_type": "markdown",
   "id": "55978730",
   "metadata": {},
   "source": [
    "### Load Data\n",
    "#### In this part, we will focus on dealing with text data."
   ]
  },
  {
   "cell_type": "code",
   "execution_count": 1,
   "id": "1f8f548d",
   "metadata": {},
   "outputs": [],
   "source": [
    "import pandas as pd\n",
    "df = pd.read_csv(\"data/01-modified-data/textcleaning_py.csv\")"
   ]
  },
  {
   "cell_type": "markdown",
   "id": "f4a1fc18",
   "metadata": {},
   "source": [
    "#### Let's take a look of our labeled text data as it shows below."
   ]
  },
  {
   "cell_type": "code",
   "execution_count": 2,
   "id": "e0f483b1",
   "metadata": {},
   "outputs": [
    {
     "data": {
      "text/html": [
       "<div>\n",
       "<style scoped>\n",
       "    .dataframe tbody tr th:only-of-type {\n",
       "        vertical-align: middle;\n",
       "    }\n",
       "\n",
       "    .dataframe tbody tr th {\n",
       "        vertical-align: top;\n",
       "    }\n",
       "\n",
       "    .dataframe thead th {\n",
       "        text-align: right;\n",
       "    }\n",
       "</style>\n",
       "<table border=\"1\" class=\"dataframe\">\n",
       "  <thead>\n",
       "    <tr style=\"text-align: right;\">\n",
       "      <th></th>\n",
       "      <th>id</th>\n",
       "      <th>retweet_count</th>\n",
       "      <th>retweeted</th>\n",
       "      <th>Clean_Text</th>\n",
       "    </tr>\n",
       "  </thead>\n",
       "  <tbody>\n",
       "    <tr>\n",
       "      <th>0</th>\n",
       "      <td>1570097774930132992</td>\n",
       "      <td>1060</td>\n",
       "      <td>True</td>\n",
       "      <td>rt nickiminaj let hope ppl guy r dirty work lo...</td>\n",
       "    </tr>\n",
       "    <tr>\n",
       "      <th>1</th>\n",
       "      <td>1570097774355709954</td>\n",
       "      <td>0</td>\n",
       "      <td>False</td>\n",
       "      <td>ciaoszn charity work ☺ ️ ☺ ️ ☺ ️</td>\n",
       "    </tr>\n",
       "    <tr>\n",
       "      <th>2</th>\n",
       "      <td>1570097773839630337</td>\n",
       "      <td>53</td>\n",
       "      <td>True</td>\n",
       "      <td>rt marii_chaudhry congratulations team wepatri...</td>\n",
       "    </tr>\n",
       "    <tr>\n",
       "      <th>3</th>\n",
       "      <td>1570097773697015808</td>\n",
       "      <td>179</td>\n",
       "      <td>True</td>\n",
       "      <td>rt fact not wish work</td>\n",
       "    </tr>\n",
       "    <tr>\n",
       "      <th>4</th>\n",
       "      <td>1570097773672042498</td>\n",
       "      <td>161</td>\n",
       "      <td>True</td>\n",
       "      <td>rt jeonmanwon seungcheol suspicious like puppe...</td>\n",
       "    </tr>\n",
       "  </tbody>\n",
       "</table>\n",
       "</div>"
      ],
      "text/plain": [
       "                    id  retweet_count  retweeted  \\\n",
       "0  1570097774930132992           1060       True   \n",
       "1  1570097774355709954              0      False   \n",
       "2  1570097773839630337             53       True   \n",
       "3  1570097773697015808            179       True   \n",
       "4  1570097773672042498            161       True   \n",
       "\n",
       "                                          Clean_Text  \n",
       "0  rt nickiminaj let hope ppl guy r dirty work lo...  \n",
       "1                   ciaoszn charity work ☺ ️ ☺ ️ ☺ ️  \n",
       "2  rt marii_chaudhry congratulations team wepatri...  \n",
       "3                              rt fact not wish work  \n",
       "4  rt jeonmanwon seungcheol suspicious like puppe...  "
      ]
     },
     "execution_count": 2,
     "metadata": {},
     "output_type": "execute_result"
    }
   ],
   "source": [
    "df.head()"
   ]
  },
  {
   "cell_type": "code",
   "execution_count": 8,
   "id": "82f0b22f",
   "metadata": {},
   "outputs": [],
   "source": [
    "from sklearn.model_selection import train_test_split\n",
    "X = df[\"Clean_Text\"]\n",
    "# count vectorizer\n",
    "from sklearn.feature_extraction.text import CountVectorizer\n",
    "countvect = CountVectorizer()\n",
    "Xcount = countvect.fit_transform(X)\n",
    "from sklearn.feature_extraction.text import TfidfTransformer\n",
    "tf = TfidfTransformer(use_idf=False).fit(Xcount)\n",
    "Xtf = tf.transform(Xcount)\n",
    "tfidf = TfidfTransformer()\n",
    "X = tfidf.fit_transform(Xcount)"
   ]
  },
  {
   "cell_type": "markdown",
   "id": "391479bb",
   "metadata": {},
   "source": [
    "## Theory\n",
    "### K-means\n",
    "#### K-means clustering is a kind of unsupervised partition-based clustering and it is used when modeling on unlabeled data. This means that there are some situations that we don't know how to define groups or categories by ourselves. This algorithm aims to find how to group the data, with the number of groups represented by the variable K. The algorithm works iteratively to assign each data point a lable among K groups with input features. Basicly, these data points will be assign a label based on feature similarity. \n",
    "#### From the K-means algorithm, we can get two things as results. First, the centroids of the K clusters, which is used to label new data points. Second, the labels of training data and one data point can only have one label. In this algorithm, one important thing is that how to choose K, that is, how many groups can be determined. The centroids of a cluster is a collection of features determine the results. And by examining the distances between data points and the centroids and find the centroids with the shortest distance then find the label for the datapoint.  \n",
    " \n",
    "### DBSAN\n",
    "#### DBSAN clustering is a kind of unsupervised density-based clustering and it is used when modeling on unlabeled data. Compared with K-means clustering, we know that K-means clustering is very useful on normal shaped clusters question while DBSAN is more efficient on arbitrary shaped clusters or decting outliers. Because DBSAN is a kind of density-based clustering, it can be used in fingding high-density regions and outliers. \n",
    "#### From the DBSAN algorithm, there are two important parameters, eps and minPts. Eps is the distance used as defining as neighborhoods. It is obvious that if the distance between two points is shorter or equal to eps, then they are defined as neighborhoods. MinPts is the minimum number of data points used as defining as a cluster. According to these two parameters, points can be assigned as core points, border points and outliers. Core point is the point that at least minPts number of points in its surrounding area with radius eps. Border point is the point that it is reachable from a core point and there are less than minPts number of points within its surrounding area.  Outlier is the point that is not a core point and not reachable from any core points. In general, the main idea of DBSAN clustering is to assign a point to a cluster when it is close to many points from that cluster.\n",
    "### Hierarchical clustering\n",
    "#### Hierarchical Clustering is a kind of unsupervised partition-based clustering that creates clusters in a hierarchical tree-like structure, a Dendrogram. In other words, this algorithm create a subset of similar data in a tree-like structure and in this structure, the root node corresponds to the whole data, and create branches from the root node to form several clusters. \n",
    "#### From the hierarchical clustering algorithm, we first define each data point as a cluster. Then when we find the closest pair of clusters based on different measures, like Euclidean Distance, Manhattan Distance, Cosine Similarity and etc. And the measures here is to measure the distance between two clusters rather than data points. We will merge them to a new cluster, then we will have less clutsers, N-1 clusters. Then We repeat these process, merging these clusters untile all data points are clustered into on cluster with size N. \n",
    "\n",
    "\n"
   ]
  },
  {
   "cell_type": "markdown",
   "id": "4a05519f",
   "metadata": {},
   "source": [
    "## Methods\n",
    "### Data selection\n",
    "#### As we have split these data into X and Y, we need to remove the labels Y as needed so that it is suitable for clustering. So we will use X without Y."
   ]
  },
  {
   "cell_type": "markdown",
   "id": "6b06a8aa",
   "metadata": {},
   "source": [
    "### Hyper-parameter tuning\n",
    "#### K-means"
   ]
  },
  {
   "cell_type": "code",
   "execution_count": 9,
   "id": "66946508",
   "metadata": {},
   "outputs": [],
   "source": [
    "# import relevent libraries for clustering. we will use KMeans, AgglomerativeClustering, MeanShift, Birch, and DBSCAN\n",
    "from sklearn.cluster import KMeans"
   ]
  },
  {
   "cell_type": "code",
   "execution_count": 40,
   "id": "484e8cdb",
   "metadata": {},
   "outputs": [
    {
     "data": {
      "text/html": [
       "<div>\n",
       "<style scoped>\n",
       "    .dataframe tbody tr th:only-of-type {\n",
       "        vertical-align: middle;\n",
       "    }\n",
       "\n",
       "    .dataframe tbody tr th {\n",
       "        vertical-align: top;\n",
       "    }\n",
       "\n",
       "    .dataframe thead th {\n",
       "        text-align: right;\n",
       "    }\n",
       "</style>\n",
       "<table border=\"1\" class=\"dataframe\">\n",
       "  <thead>\n",
       "    <tr style=\"text-align: right;\">\n",
       "      <th></th>\n",
       "      <th>Cluster</th>\n",
       "      <th>Distortion</th>\n",
       "      <th>Inertia</th>\n",
       "    </tr>\n",
       "  </thead>\n",
       "  <tbody>\n",
       "    <tr>\n",
       "      <th>0</th>\n",
       "      <td>1</td>\n",
       "      <td>0.982791</td>\n",
       "      <td>96.604898</td>\n",
       "    </tr>\n",
       "    <tr>\n",
       "      <th>1</th>\n",
       "      <td>2</td>\n",
       "      <td>0.953220</td>\n",
       "      <td>93.690212</td>\n",
       "    </tr>\n",
       "    <tr>\n",
       "      <th>2</th>\n",
       "      <td>3</td>\n",
       "      <td>0.926276</td>\n",
       "      <td>90.397537</td>\n",
       "    </tr>\n",
       "    <tr>\n",
       "      <th>3</th>\n",
       "      <td>4</td>\n",
       "      <td>0.915840</td>\n",
       "      <td>88.370503</td>\n",
       "    </tr>\n",
       "    <tr>\n",
       "      <th>4</th>\n",
       "      <td>5</td>\n",
       "      <td>0.908825</td>\n",
       "      <td>87.037381</td>\n",
       "    </tr>\n",
       "    <tr>\n",
       "      <th>5</th>\n",
       "      <td>6</td>\n",
       "      <td>0.878494</td>\n",
       "      <td>84.375945</td>\n",
       "    </tr>\n",
       "    <tr>\n",
       "      <th>6</th>\n",
       "      <td>7</td>\n",
       "      <td>0.872592</td>\n",
       "      <td>83.036395</td>\n",
       "    </tr>\n",
       "    <tr>\n",
       "      <th>7</th>\n",
       "      <td>8</td>\n",
       "      <td>0.863367</td>\n",
       "      <td>81.553633</td>\n",
       "    </tr>\n",
       "    <tr>\n",
       "      <th>8</th>\n",
       "      <td>9</td>\n",
       "      <td>0.853706</td>\n",
       "      <td>79.869738</td>\n",
       "    </tr>\n",
       "    <tr>\n",
       "      <th>9</th>\n",
       "      <td>10</td>\n",
       "      <td>0.833325</td>\n",
       "      <td>77.852677</td>\n",
       "    </tr>\n",
       "  </tbody>\n",
       "</table>\n",
       "</div>"
      ],
      "text/plain": [
       "   Cluster  Distortion    Inertia\n",
       "0        1    0.982791  96.604898\n",
       "1        2    0.953220  93.690212\n",
       "2        3    0.926276  90.397537\n",
       "3        4    0.915840  88.370503\n",
       "4        5    0.908825  87.037381\n",
       "5        6    0.878494  84.375945\n",
       "6        7    0.872592  83.036395\n",
       "7        8    0.863367  81.553633\n",
       "8        9    0.853706  79.869738\n",
       "9       10    0.833325  77.852677"
      ]
     },
     "execution_count": 40,
     "metadata": {},
     "output_type": "execute_result"
    }
   ],
   "source": [
    "from scipy.spatial import distance\n",
    "inertia=[]\n",
    "distortion=[]\n",
    "for i in range(1,11): \n",
    "    kmeans = KMeans(n_clusters=i, init ='k-means++', max_iter=300,  n_init=10,random_state=0 )\n",
    "    kmeans.fit(X)\n",
    "    inertia.append(kmeans.inertia_)\n",
    "    distortion.append(sum(np.min(distance.cdist(X.todense(),kmeans.cluster_centers_, 'euclidean'),axis=1)) /X.shape[0])\n",
    "elbow = pd.DataFrame()\n",
    "elbow[\"Cluster\"]= range(1,11)\n",
    "elbow[\"Distortion\"]=distortion\n",
    "elbow[\"Inertia\"] =inertia\n",
    "elbow\n"
   ]
  },
  {
   "cell_type": "code",
   "execution_count": 41,
   "id": "b1abab0d",
   "metadata": {},
   "outputs": [
    {
     "data": {
      "image/png": "[encoded data removed]",
      "text/plain": [
       "<Figure size 432x288 with 2 Axes>"
      ]
     },
     "metadata": {},
     "output_type": "display_data"
    }
   ],
   "source": [
    "sns.set_style(\"whitegrid\")\n",
    "fig, ax = plt.subplots(2,1, sharex=True)\n",
    "ax[0].plot(elbow[\"Cluster\"],elbow[\"Distortion\"],color=\"mediumaquamarine\",label = \"Distortion\")\n",
    "ax[1].plot(elbow[\"Cluster\"],elbow[\"Inertia\"], color = \"darkorange\",label = \"Inertia\")\n",
    "ax[0].legend()\n",
    "ax[1].legend()\n",
    "plt.xlabel('Cluster')\n",
    "plt.show()"
   ]
  },
  {
   "cell_type": "markdown",
   "id": "c4ecad4a",
   "metadata": {},
   "source": [
    "From the above figure, 3 is the optimal number of clusters."
   ]
  },
  {
   "cell_type": "code",
   "execution_count": 26,
   "id": "30353429",
   "metadata": {},
   "outputs": [],
   "source": [
    "from sklearn.metrics import silhouette_score\n",
    "silhouette=[]\n",
    "cluster = []\n",
    "for i in range(1,11): \n",
    "    kmeans = KMeans(n_clusters=i, init ='k-means++', max_iter=300,  n_init=10,random_state=0 )\n",
    "    kmeans.fit(X)\n",
    "    if(len(np.unique(kmeans.fit_predict(X)))>1):\n",
    "        silhouette.append(silhouette_score(X, kmeans.fit_predict(X)))\n",
    "        cluster.append(i)"
   ]
  },
  {
   "cell_type": "code",
   "execution_count": 27,
   "id": "1a3b4f95",
   "metadata": {},
   "outputs": [],
   "source": [
    "Silhouette_df = pd.DataFrame()\n",
    "Silhouette_df[\"Cluster\"]= cluster\n",
    "Silhouette_df[\"silhouette_score\"] = silhouette"
   ]
  },
  {
   "cell_type": "code",
   "execution_count": 28,
   "id": "04f12e79",
   "metadata": {},
   "outputs": [
    {
     "data": {
      "text/html": [
       "<div>\n",
       "<style scoped>\n",
       "    .dataframe tbody tr th:only-of-type {\n",
       "        vertical-align: middle;\n",
       "    }\n",
       "\n",
       "    .dataframe tbody tr th {\n",
       "        vertical-align: top;\n",
       "    }\n",
       "\n",
       "    .dataframe thead th {\n",
       "        text-align: right;\n",
       "    }\n",
       "</style>\n",
       "<table border=\"1\" class=\"dataframe\">\n",
       "  <thead>\n",
       "    <tr style=\"text-align: right;\">\n",
       "      <th></th>\n",
       "      <th>Cluster</th>\n",
       "      <th>silhouette_score</th>\n",
       "    </tr>\n",
       "  </thead>\n",
       "  <tbody>\n",
       "    <tr>\n",
       "      <th>0</th>\n",
       "      <td>2</td>\n",
       "      <td>0.035416</td>\n",
       "    </tr>\n",
       "    <tr>\n",
       "      <th>1</th>\n",
       "      <td>3</td>\n",
       "      <td>0.052903</td>\n",
       "    </tr>\n",
       "    <tr>\n",
       "      <th>2</th>\n",
       "      <td>4</td>\n",
       "      <td>0.058709</td>\n",
       "    </tr>\n",
       "    <tr>\n",
       "      <th>3</th>\n",
       "      <td>5</td>\n",
       "      <td>0.058653</td>\n",
       "    </tr>\n",
       "    <tr>\n",
       "      <th>4</th>\n",
       "      <td>6</td>\n",
       "      <td>0.092548</td>\n",
       "    </tr>\n",
       "    <tr>\n",
       "      <th>5</th>\n",
       "      <td>7</td>\n",
       "      <td>0.089785</td>\n",
       "    </tr>\n",
       "    <tr>\n",
       "      <th>6</th>\n",
       "      <td>8</td>\n",
       "      <td>0.094565</td>\n",
       "    </tr>\n",
       "    <tr>\n",
       "      <th>7</th>\n",
       "      <td>9</td>\n",
       "      <td>0.099191</td>\n",
       "    </tr>\n",
       "    <tr>\n",
       "      <th>8</th>\n",
       "      <td>10</td>\n",
       "      <td>0.121758</td>\n",
       "    </tr>\n",
       "  </tbody>\n",
       "</table>\n",
       "</div>"
      ],
      "text/plain": [
       "   Cluster  silhouette_score\n",
       "0        2          0.035416\n",
       "1        3          0.052903\n",
       "2        4          0.058709\n",
       "3        5          0.058653\n",
       "4        6          0.092548\n",
       "5        7          0.089785\n",
       "6        8          0.094565\n",
       "7        9          0.099191\n",
       "8       10          0.121758"
      ]
     },
     "execution_count": 28,
     "metadata": {},
     "output_type": "execute_result"
    }
   ],
   "source": [
    "Silhouette_df"
   ]
  },
  {
   "cell_type": "code",
   "execution_count": 29,
   "id": "f23bb08b",
   "metadata": {},
   "outputs": [
    {
     "data": {
      "image/png": "[encoded data removed]",
      "text/plain": [
       "<Figure size 432x288 with 1 Axes>"
      ]
     },
     "metadata": {},
     "output_type": "display_data"
    }
   ],
   "source": [
    "import seaborn as sns\n",
    "import matplotlib.pyplot as plt\n",
    "sns.set_style(\"whitegrid\")\n",
    "fig, ax = plt.subplots(1,1, sharex=True)\n",
    "ax.plot(Silhouette_df[\"Cluster\"],Silhouette_df[\"silhouette_score\"], color = \"darkorange\",label = \"silhouette_score\")\n",
    "ax.legend()\n",
    "plt.xlabel('Cluster')\n",
    "plt.show()"
   ]
  },
  {
   "cell_type": "markdown",
   "id": "d28db29e",
   "metadata": {},
   "source": [
    "From the above plot, 10 is the optimal number of clusters."
   ]
  },
  {
   "cell_type": "markdown",
   "id": "aabc5fcb",
   "metadata": {},
   "source": [
    "### DBSCAN"
   ]
  },
  {
   "cell_type": "code",
   "execution_count": 30,
   "id": "18deed31",
   "metadata": {},
   "outputs": [
    {
     "data": {
      "text/html": [
       "<div>\n",
       "<style scoped>\n",
       "    .dataframe tbody tr th:only-of-type {\n",
       "        vertical-align: middle;\n",
       "    }\n",
       "\n",
       "    .dataframe tbody tr th {\n",
       "        vertical-align: top;\n",
       "    }\n",
       "\n",
       "    .dataframe thead th {\n",
       "        text-align: right;\n",
       "    }\n",
       "</style>\n",
       "<table border=\"1\" class=\"dataframe\">\n",
       "  <thead>\n",
       "    <tr style=\"text-align: right;\">\n",
       "      <th></th>\n",
       "      <th>silhouette_scores</th>\n",
       "      <th>parameters</th>\n",
       "      <th>num_cluster</th>\n",
       "    </tr>\n",
       "  </thead>\n",
       "  <tbody>\n",
       "    <tr>\n",
       "      <th>0</th>\n",
       "      <td>0.153333</td>\n",
       "      <td>eps:0.1 min_sample :2</td>\n",
       "      <td>7</td>\n",
       "    </tr>\n",
       "  </tbody>\n",
       "</table>\n",
       "</div>"
      ],
      "text/plain": [
       "   silhouette_scores             parameters  num_cluster\n",
       "0           0.153333  eps:0.1 min_sample :2            7"
      ]
     },
     "execution_count": 30,
     "metadata": {},
     "output_type": "execute_result"
    }
   ],
   "source": [
    "# perform DBSCAN clustering. use the eps and min_samples parameters to find the optimal number of clusters. plot the number of clusters vs the silhouette score. Suggest the optimal number of clusters based on the plot.\n",
    "\n",
    "\n",
    "import numpy as np\n",
    "import pandas as pd\n",
    "from sklearn.metrics import silhouette_score\n",
    "from sklearn.cluster import DBSCAN\n",
    " \n",
    "# Defining the list of hyperparameters to try\n",
    "eps_list=np.arange(start=0.1, stop=0.9, step=0.01)\n",
    "min_sample_list=np.arange(start=2, stop=5, step=1)\n",
    " \n",
    "# Creating empty data frame to store the silhouette scores for each trials\n",
    "silhouette_scores_data=pd.DataFrame()\n",
    " \n",
    "for eps_trial in eps_list:\n",
    "    for min_sample_trial in min_sample_list:\n",
    "        \n",
    "        # Generating DBSAN clusters\n",
    "        db = DBSCAN(eps=eps_trial, min_samples=min_sample_trial)\n",
    "        \n",
    "        if(len(np.unique(db.fit_predict(X)))>1):\n",
    "            sil_score=silhouette_score(X, db.fit_predict(X))\n",
    "            num_cluster = len(np.unique(db.fit_predict(X)))\n",
    "        else:\n",
    "            continue\n",
    "        trial_parameters=\"eps:\" + str(eps_trial.round(1)) +\" min_sample :\" + str(min_sample_trial)\n",
    "        \n",
    "        silhouette_scores_data=silhouette_scores_data.append(pd.DataFrame(data=[[sil_score,trial_parameters,num_cluster]], columns=[\"silhouette_scores\", \"parameters\",\"num_cluster\"]))\n",
    " \n",
    "# Finding out the best hyperparameters with highest Score\n",
    "silhouette_scores_data.sort_values(by='silhouette_scores', ascending=False).head(1)"
   ]
  },
  {
   "cell_type": "code",
   "execution_count": 31,
   "id": "d80a2605",
   "metadata": {},
   "outputs": [
    {
     "data": {
      "text/html": [
       "<div>\n",
       "<style scoped>\n",
       "    .dataframe tbody tr th:only-of-type {\n",
       "        vertical-align: middle;\n",
       "    }\n",
       "\n",
       "    .dataframe tbody tr th {\n",
       "        vertical-align: top;\n",
       "    }\n",
       "\n",
       "    .dataframe thead th {\n",
       "        text-align: right;\n",
       "    }\n",
       "</style>\n",
       "<table border=\"1\" class=\"dataframe\">\n",
       "  <thead>\n",
       "    <tr style=\"text-align: right;\">\n",
       "      <th></th>\n",
       "      <th>silhouette_scores</th>\n",
       "      <th>parameters</th>\n",
       "      <th>num_cluster</th>\n",
       "    </tr>\n",
       "  </thead>\n",
       "  <tbody>\n",
       "    <tr>\n",
       "      <th>0</th>\n",
       "      <td>0.153333</td>\n",
       "      <td>eps:0.1 min_sample :2</td>\n",
       "      <td>7</td>\n",
       "    </tr>\n",
       "    <tr>\n",
       "      <th>0</th>\n",
       "      <td>0.081231</td>\n",
       "      <td>eps:0.1 min_sample :3</td>\n",
       "      <td>3</td>\n",
       "    </tr>\n",
       "    <tr>\n",
       "      <th>0</th>\n",
       "      <td>0.052160</td>\n",
       "      <td>eps:0.1 min_sample :4</td>\n",
       "      <td>2</td>\n",
       "    </tr>\n",
       "    <tr>\n",
       "      <th>0</th>\n",
       "      <td>0.153333</td>\n",
       "      <td>eps:0.1 min_sample :2</td>\n",
       "      <td>7</td>\n",
       "    </tr>\n",
       "    <tr>\n",
       "      <th>0</th>\n",
       "      <td>0.081231</td>\n",
       "      <td>eps:0.1 min_sample :3</td>\n",
       "      <td>3</td>\n",
       "    </tr>\n",
       "  </tbody>\n",
       "</table>\n",
       "</div>"
      ],
      "text/plain": [
       "   silhouette_scores             parameters  num_cluster\n",
       "0           0.153333  eps:0.1 min_sample :2            7\n",
       "0           0.081231  eps:0.1 min_sample :3            3\n",
       "0           0.052160  eps:0.1 min_sample :4            2\n",
       "0           0.153333  eps:0.1 min_sample :2            7\n",
       "0           0.081231  eps:0.1 min_sample :3            3"
      ]
     },
     "execution_count": 31,
     "metadata": {},
     "output_type": "execute_result"
    }
   ],
   "source": [
    "silhouette_scores_data.head()"
   ]
  },
  {
   "cell_type": "code",
   "execution_count": 34,
   "id": "2013b331",
   "metadata": {},
   "outputs": [
    {
     "data": {
      "image/png": "[encoded data removed]",
      "text/plain": [
       "<Figure size 432x288 with 1 Axes>"
      ]
     },
     "metadata": {},
     "output_type": "display_data"
    }
   ],
   "source": [
    "sns.set_style(\"whitegrid\")\n",
    "ax = sns.scatterplot(data=silhouette_scores_data, x=\"num_cluster\", y=\"silhouette_scores\")\n",
    "ax.set(xlabel='number of cluster', ylabel='silhouette scores')\n",
    "plt.title(\"the number of cluster vs silhouette scores\")\n",
    "plt.show()"
   ]
  },
  {
   "cell_type": "markdown",
   "id": "86afdd13",
   "metadata": {},
   "source": [
    "From the above plot, the optimal one should have the highest silhouette score, that is, the number of clusters should be 7 with the eps is 0.1 and min_sample is 2.\n"
   ]
  },
  {
   "cell_type": "markdown",
   "id": "32eef23a",
   "metadata": {},
   "source": [
    "### Hierarchical clustering"
   ]
  },
  {
   "cell_type": "code",
   "execution_count": 37,
   "id": "f3f7ee80",
   "metadata": {},
   "outputs": [
    {
     "data": {
      "text/plain": [
       "<matplotlib.lines.Line2D at 0x7f77f11e1a60>"
      ]
     },
     "execution_count": 37,
     "metadata": {},
     "output_type": "execute_result"
    },
    {
     "data": {
      "image/png": "[encoded data removed]",
      "text/plain": [
       "<Figure size 432x288 with 1 Axes>"
      ]
     },
     "metadata": {},
     "output_type": "display_data"
    }
   ],
   "source": [
    "# Perform Agglomerative Clustering\n",
    "from sklearn.cluster import AgglomerativeClustering\n",
    "import scipy.cluster.hierarchy as sch\n",
    "dendrogram = sch.dendrogram(sch.linkage(X.todense(),method=\"ward\"))\n",
    "plt.axhline(2.3,color = \"red\", linewidth=2,linestyle=\"--\")"
   ]
  },
  {
   "cell_type": "markdown",
   "id": "5ca9c605",
   "metadata": {},
   "source": [
    "From the above plot, 3 is the optimal clusters."
   ]
  },
  {
   "cell_type": "markdown",
   "id": "2aa3ad24",
   "metadata": {},
   "source": [
    "### Final results\n",
    "#### K-means\n",
    "According to eblow method, the optimal number of clutsers is 3"
   ]
  },
  {
   "cell_type": "code",
   "execution_count": 55,
   "id": "40fe286f",
   "metadata": {},
   "outputs": [
    {
     "data": {
      "text/plain": [
       "array([0, 1, 1, 1, 1, 1, 1, 1, 1, 0, 1, 1, 1, 1, 1, 1, 1, 1, 1, 1, 0, 2,\n",
       "       1, 1, 2, 1, 1, 1, 1, 1, 1, 1, 1, 2, 2, 1, 1, 1, 1, 1, 1, 1, 1, 1,\n",
       "       1, 1, 1, 1, 1, 1, 1, 1, 2, 1, 1, 1, 1, 1, 1, 1, 1, 1, 1, 0, 1, 1,\n",
       "       0, 2, 1, 1, 1, 1, 2, 1, 2, 1, 1, 1, 1, 1, 1, 1, 1, 1, 2, 1, 1, 2,\n",
       "       1, 1, 1, 1, 1, 1, 1, 1, 2, 1, 1, 1], dtype=int32)"
      ]
     },
     "execution_count": 55,
     "metadata": {},
     "output_type": "execute_result"
    }
   ],
   "source": [
    "kmeans = KMeans(n_clusters=3, init ='k-means++', max_iter=300,  n_init=10,random_state=0 )\n",
    "kmeans.fit(X)\n",
    "kmeans.labels_"
   ]
  },
  {
   "cell_type": "markdown",
   "id": "aecedbc2",
   "metadata": {},
   "source": [
    "According to silhouette method, the optimal number of clusters is 10."
   ]
  },
  {
   "cell_type": "code",
   "execution_count": 46,
   "id": "c80354ac",
   "metadata": {},
   "outputs": [
    {
     "data": {
      "text/plain": [
       "array([2, 0, 5, 5, 0, 1, 1, 5, 7, 2, 0, 0, 6, 1, 7, 0, 0, 1, 5, 1, 2, 5,\n",
       "       1, 0, 3, 0, 0, 9, 1, 0, 5, 1, 0, 3, 3, 0, 7, 0, 4, 8, 1, 0, 5, 1,\n",
       "       5, 5, 5, 8, 1, 0, 0, 7, 1, 5, 0, 7, 9, 0, 0, 4, 0, 0, 5, 2, 1, 1,\n",
       "       2, 8, 9, 0, 5, 0, 3, 0, 3, 0, 5, 0, 1, 0, 6, 5, 6, 5, 3, 0, 0, 1,\n",
       "       0, 5, 1, 9, 0, 0, 1, 0, 5, 5, 8, 5], dtype=int32)"
      ]
     },
     "execution_count": 46,
     "metadata": {},
     "output_type": "execute_result"
    }
   ],
   "source": [
    "kmeans = KMeans(n_clusters=10, init ='k-means++', max_iter=300,  n_init=10,random_state=0 )\n",
    "kmeans.fit(X)\n",
    "kmeans.labels_"
   ]
  },
  {
   "cell_type": "markdown",
   "id": "b846305a",
   "metadata": {},
   "source": [
    "#### DBSCAN"
   ]
  },
  {
   "cell_type": "code",
   "execution_count": 47,
   "id": "f9ec3dfb",
   "metadata": {},
   "outputs": [
    {
     "data": {
      "text/plain": [
       "array([ 0, -1, -1, -1, -1, -1, -1,  1, -1,  0, -1, -1,  2, -1, -1, -1, -1,\n",
       "       -1, -1, -1,  0, -1, -1, -1, -1, -1, -1, -1, -1, -1, -1, -1, -1, -1,\n",
       "       -1, -1, -1, -1,  3, -1, -1, -1, -1, -1, -1, -1, -1, -1, -1, -1, -1,\n",
       "       -1, -1, -1, -1, -1,  4, -1, -1,  3, -1, -1,  1,  0, -1, -1,  0, -1,\n",
       "       -1, -1, -1, -1, -1, -1,  5, -1, -1, -1, -1, -1,  2, -1,  2, -1,  5,\n",
       "       -1, -1, -1, -1, -1, -1,  4, -1, -1, -1, -1, -1, -1, -1, -1])"
      ]
     },
     "execution_count": 47,
     "metadata": {},
     "output_type": "execute_result"
    }
   ],
   "source": [
    "db = DBSCAN(eps=0.1, min_samples=2)\n",
    "db.fit(X)\n",
    "db.labels_"
   ]
  },
  {
   "cell_type": "markdown",
   "id": "94c6a93f",
   "metadata": {},
   "source": [
    "#### Hierarchical clustering"
   ]
  },
  {
   "cell_type": "code",
   "execution_count": 44,
   "id": "02dcb934",
   "metadata": {},
   "outputs": [
    {
     "data": {
      "text/plain": [
       "array([1, 0, 0, 0, 0, 0, 0, 0, 0, 1, 0, 0, 2, 0, 0, 0, 0, 0, 0, 0, 1, 0,\n",
       "       0, 0, 0, 0, 0, 0, 0, 0, 0, 0, 0, 0, 0, 0, 0, 0, 0, 0, 0, 0, 0, 0,\n",
       "       0, 0, 0, 0, 0, 0, 0, 0, 0, 0, 0, 0, 0, 0, 0, 0, 0, 0, 0, 1, 0, 0,\n",
       "       1, 0, 0, 0, 0, 0, 0, 0, 0, 0, 0, 0, 0, 0, 2, 0, 2, 0, 0, 0, 0, 0,\n",
       "       0, 0, 0, 0, 0, 0, 0, 0, 0, 0, 0, 0])"
      ]
     },
     "execution_count": 44,
     "metadata": {},
     "output_type": "execute_result"
    }
   ],
   "source": [
    "from sklearn.cluster import AgglomerativeClustering\n",
    "clustering_model = AgglomerativeClustering(n_clusters=3, affinity='euclidean', linkage='ward')\n",
    "clustering_model.fit(X.toarray())\n",
    "clustering_model.labels_"
   ]
  },
  {
   "cell_type": "markdown",
   "id": "b178a3db",
   "metadata": {},
   "source": [
    "## Results"
   ]
  },
  {
   "cell_type": "code",
   "execution_count": 53,
   "id": "7f47cf4b",
   "metadata": {},
   "outputs": [
    {
     "data": {
      "text/plain": [
       "[True,\n",
       " False,\n",
       " True,\n",
       " True,\n",
       " True,\n",
       " True,\n",
       " False,\n",
       " True,\n",
       " True,\n",
       " True,\n",
       " False,\n",
       " False,\n",
       " True,\n",
       " False,\n",
       " True,\n",
       " False,\n",
       " True,\n",
       " True,\n",
       " True,\n",
       " True,\n",
       " True,\n",
       " True,\n",
       " True,\n",
       " False,\n",
       " True,\n",
       " False,\n",
       " False,\n",
       " False,\n",
       " True,\n",
       " False,\n",
       " True,\n",
       " True,\n",
       " False,\n",
       " True,\n",
       " False,\n",
       " True,\n",
       " True,\n",
       " False,\n",
       " True,\n",
       " True,\n",
       " True,\n",
       " False,\n",
       " True,\n",
       " True,\n",
       " False,\n",
       " True,\n",
       " True,\n",
       " True,\n",
       " True,\n",
       " True,\n",
       " False,\n",
       " False,\n",
       " False,\n",
       " False,\n",
       " False,\n",
       " True,\n",
       " True,\n",
       " False,\n",
       " False,\n",
       " True,\n",
       " True,\n",
       " False,\n",
       " True,\n",
       " True,\n",
       " True,\n",
       " False,\n",
       " True,\n",
       " True,\n",
       " True,\n",
       " False,\n",
       " True,\n",
       " False,\n",
       " False,\n",
       " False,\n",
       " True,\n",
       " False,\n",
       " True,\n",
       " True,\n",
       " True,\n",
       " False,\n",
       " True,\n",
       " True,\n",
       " True,\n",
       " True,\n",
       " True,\n",
       " False,\n",
       " False,\n",
       " False,\n",
       " True,\n",
       " True,\n",
       " False,\n",
       " True,\n",
       " False,\n",
       " False,\n",
       " False,\n",
       " False,\n",
       " True,\n",
       " True,\n",
       " True,\n",
       " True]"
      ]
     },
     "execution_count": 53,
     "metadata": {},
     "output_type": "execute_result"
    }
   ],
   "source": [
    "Y = df[\"retweeted\"]\n",
    "Y.tolist()"
   ]
  },
  {
   "cell_type": "markdown",
   "id": "0d69a1a3",
   "metadata": {},
   "source": [
    "Based on the results of the above clustering method model, we get the prediction of the data. Comparing them with the labels of the data itself, we can see some similarities. Most data points in the data are classified as a cluster. Within these three kind of clustering methods, I think the best method is k-means with 3 as the number of cluster because this method is much easier and more efficient than others. In this problem, we know that as these tweets are collect by using keywords, \"work\", so too much clusters is meaningless and we can not interpret the meaning of the clusters of these tweet concepts.\n",
    "\n",
    "From the results, we can find that there are a lot of data points having the same clusters while other clusters only having several data points as we can see in the below two figures. As retweeted and clusters have some similarity but there is still difference between them. This is because we use the TFIDF of tweets collected, we use the same keywords to collect them so there should be some similarity, but there are some metrics we don't know in these tweets, it can be influenced by tweets' attitude, sentiment and even the posters' location, because they have different word usage. \n",
    "\n",
    "But these results help me to explore more as these three clustering methods tell me that there are many data points these three clustering methods assigned them the same clusters, and it makes me to be interested in explore these tweets with the same clusters to find if these tweets have the same attitude and sentiment."
   ]
  },
  {
   "cell_type": "code",
   "execution_count": 57,
   "id": "36180d47",
   "metadata": {},
   "outputs": [
    {
     "data": {
      "image/png": "[encoded data removed]",
      "text/plain": [
       "<Figure size 432x288 with 1 Axes>"
      ]
     },
     "metadata": {},
     "output_type": "display_data"
    }
   ],
   "source": [
    "sns.set_style(\"whitegrid\")\n",
    "sns.countplot(x =kmeans.labels_,palette = \"Set2\")\n",
    "# Show the plot\n",
    "plt.title(\"The histogram of k-means with 3 as the number of clusters\")\n",
    "plt.show()"
   ]
  },
  {
   "cell_type": "code",
   "execution_count": 58,
   "id": "b2ceca25",
   "metadata": {},
   "outputs": [
    {
     "data": {
      "image/png": "[encoded data removed]",
      "text/plain": [
       "<Figure size 432x288 with 1 Axes>"
      ]
     },
     "metadata": {},
     "output_type": "display_data"
    }
   ],
   "source": [
    "sns.countplot(x =Y,palette = \"Set2\")\n",
    "# Show the plot\n",
    "plt.title(\"The histogram of 'retweeted' labels\")\n",
    "plt.show()"
   ]
  },
  {
   "cell_type": "markdown",
   "id": "588bc009",
   "metadata": {},
   "source": [
    "## Conclusions"
   ]
  },
  {
   "cell_type": "markdown",
   "id": "f54a3244",
   "metadata": {},
   "source": [
    "### In general, the above results show us a phenomenon that we can judge whether such tweets can be forwarded and attract people's attention through the analysis of tweets. And there should be some similarity between the word frequency of tweets. And we need to explore the similarity between the these tweets with the same clusters assigned from these three clustering methods. From the above results, it gives us a new direction. Although through clustering methods, we don't the what the exact interpretation of these clusters. And the tweets with the same keywords have similarities in the use of words. \n",
    "\n",
    "### As a popular social media, Twitter can not only enhance people's sense of social belonging, but also help them gain attention, reputation, fans and profit from it if they can get more forwarding volume and attention from it. For such an information age, it is beneficial for both the platform and bloggers to receive more attention.\n",
    "\n",
    "### Such a study makes me more confident to observe the effect of more than the text itself on improving the quality of user accounts by comparing the users' location, usage of word and the attitude of tweets."
   ]
  },
  {
   "cell_type": "markdown",
   "id": "1ec24f6b",
   "metadata": {},
   "source": [
    "## Reference\n",
    "### Yildirim, S. (2020, April 22). DBSCAN clustering — explained - towardsdatascience.com. DBSCAN Clustering — Explained. Retrieved November 14, 2022, from https://towardsdatascience.com/dbscan-clustering-explained-97556a2ad556 \n",
    "### Team, G. L. (2022, October 31). What is hierarchical clustering? an introduction to hierarchical clustering. Great Learning Blog: Free Resources what Matters to shape your Career! Retrieved November 13, 2022, from https://www.mygreatlearning.com/blog/hierarchical-clustering/#:~:text=Hierarchical%20Clustering%20creates%20clusters%20in,node%20to%20form%20several%20clusters. \n",
    "### Trevino, A. (2016, December 6). Introduction to K-means Clustering. Blogs.oracle.com. Retrieved November 13, 2022, from https://blogs.oracle.com/ai-and-datascience/post/introduction-to-k-means-clustering "
   ]
  }
 ],
 "metadata": {
  "kernelspec": {
   "display_name": "Python 3 (ipykernel)",
   "language": "python",
   "name": "python3"
  },
  "language_info": {
   "codemirror_mode": {
    "name": "ipython",
    "version": 3
   },
   "file_extension": ".py",
   "mimetype": "text/x-python",
   "name": "python",
   "nbconvert_exporter": "python",
   "pygments_lexer": "ipython3",
   "version": "3.9.12"
  }
 },
 "nbformat": 4,
 "nbformat_minor": 5
}
